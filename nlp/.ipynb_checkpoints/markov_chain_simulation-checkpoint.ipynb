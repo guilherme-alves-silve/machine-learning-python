{
 "cells": [
  {
   "cell_type": "markdown",
   "id": "fad9f470",
   "metadata": {},
   "source": [
    "# Markov Chain - Stationary\n",
    "\n",
    "![Markov Chain](markov_chain.png)\n",
    "\n",
    "* Based on the notebook:\n",
    "    * [Markov_Chain_Simulation.ipynb](https://github.com/Suji04/NormalizedNerd/blob/master/Miscellaneous/Markov_Chain_Simulation.ipynb)"
   ]
  },
  {
   "cell_type": "code",
   "execution_count": null,
   "id": "562f631f-eccd-4217-840f-8d2ac82d4ac3",
   "metadata": {},
   "outputs": [],
   "source": [
    "!pip install numpy scipy"
   ]
  },
  {
   "cell_type": "code",
   "execution_count": 1,
   "id": "475422d4",
   "metadata": {},
   "outputs": [],
   "source": [
    "import numpy as np"
   ]
  },
  {
   "cell_type": "code",
   "execution_count": 2,
   "id": "0f91e601",
   "metadata": {},
   "outputs": [
    {
     "data": {
      "text/plain": [
       "{0: 'Burger', 1: 'Pizza', 2: 'HotDog'}"
      ]
     },
     "execution_count": 2,
     "metadata": {},
     "output_type": "execute_result"
    }
   ],
   "source": [
    "state = {\n",
    "    0: \"Burger\",\n",
    "    1: \"Pizza\",\n",
    "    2: \"HotDog\"\n",
    "}\n",
    "state"
   ]
  },
  {
   "cell_type": "markdown",
   "id": "6108272d",
   "metadata": {},
   "source": [
    "## Transition Matrix\n",
    "\n",
    "<img src=\"markov_chain_transition_matrix.png\" alt=\"Transition Matrix\" style=\"background-color: black;\"/>\n",
    "\n",
    "$A_{i,j} = P(X_n = j | X_{n-1} = i)$"
   ]
  },
  {
   "cell_type": "code",
   "execution_count": 3,
   "id": "080973fd",
   "metadata": {},
   "outputs": [
    {
     "data": {
      "text/plain": [
       "array([[0.2, 0.6, 0.2],\n",
       "       [0.3, 0. , 0.7],\n",
       "       [0.5, 0. , 0.5]])"
      ]
     },
     "execution_count": 3,
     "metadata": {},
     "output_type": "execute_result"
    }
   ],
   "source": [
    "A = np.array([[0.2, 0.6, 0.2], \n",
    "              [0.3, 0, 0.7],\n",
    "              [0.5, 0, 0.5]])\n",
    "A"
   ]
  },
  {
   "cell_type": "markdown",
   "id": "29975886-5f62-4f52-9c96-4df18d2e6649",
   "metadata": {},
   "source": [
    "## Random Walk on Markov Chain"
   ]
  },
  {
   "cell_type": "code",
   "execution_count": 4,
   "id": "85e5c841-b0f2-46d5-9385-ef8ca9d0732e",
   "metadata": {},
   "outputs": [
    {
     "name": "stdout",
     "output_type": "stream",
     "text": [
      "Burger ---> Pizza ---> HotDog ---> HotDog ---> HotDog ---> Burger ---> Pizza ---> HotDog ---> HotDog ---> HotDog ---> HotDog ---> HotDog ---> Burger ---> Pizza ---> HotDog ---> stop\n"
     ]
    }
   ],
   "source": [
    "n = 15\n",
    "curr_state = 0\n",
    "print(state[curr_state], \"--->\", end=\" \")\n",
    "\n",
    "while n-1:\n",
    "    curr_state = np.random.choice([0, 1, 2], p=A[curr_state])\n",
    "    print(state[curr_state], \"--->\", end=\" \")\n",
    "    n -= 1\n",
    "print(\"stop\")"
   ]
  },
  {
   "cell_type": "markdown",
   "id": "f438c168-6c83-49f4-a163-128fa406daff",
   "metadata": {},
   "source": [
    "## Approach 1: Monte Carlo"
   ]
  },
  {
   "cell_type": "code",
   "execution_count": 5,
   "id": "68ecad7d-2f22-424f-a7ce-b05a4bac6e49",
   "metadata": {},
   "outputs": [
    {
     "name": "stdout",
     "output_type": "stream",
     "text": [
      "π =  [0.352167 0.211634 0.4362  ]\n"
     ]
    }
   ],
   "source": [
    "steps = 10**6\n",
    "start_state = 0\n",
    "curr_state = start_state\n",
    "pi = np.zeros(3)\n",
    "pi[start_state] = 1\n",
    "\n",
    "i = 0\n",
    "while i < steps:\n",
    "    curr_state = np.random.choice([0, 1, 2], p=A[curr_state])\n",
    "    pi[curr_state] += 1\n",
    "    i += 1\n",
    "\n",
    "print(\"π = \", pi/steps)"
   ]
  },
  {
   "cell_type": "markdown",
   "id": "97fbce51-193a-440c-8751-9f4d80e698e6",
   "metadata": {},
   "source": [
    "## Approach 2: Repeated Matrix Multiplication"
   ]
  },
  {
   "cell_type": "code",
   "execution_count": 6,
   "id": "bb9309b4-d19d-4678-8488-e600f77cc426",
   "metadata": {},
   "outputs": [
    {
     "name": "stdout",
     "output_type": "stream",
     "text": [
      "A^n = \n",
      " [[0.35211268 0.21126761 0.43661972]\n",
      " [0.35211268 0.21126761 0.43661972]\n",
      " [0.35211268 0.21126761 0.43661972]] \n",
      "\n",
      "π =  [0.35211268 0.21126761 0.43661972]\n"
     ]
    }
   ],
   "source": [
    "steps = 10**3\n",
    "A_n = A\n",
    "\n",
    "i = 0\n",
    "while i < steps:\n",
    "    A_n = np.matmul(A_n, A)\n",
    "    i += 1\n",
    "\n",
    "print(\"A^n = \\n\", A_n, \"\\n\")\n",
    "print(\"π = \", A_n[0])"
   ]
  },
  {
   "cell_type": "markdown",
   "id": "2b308853-5dca-4fb9-aceb-ad3d6fd5448b",
   "metadata": {},
   "source": [
    "## Approach 3: Finding Left Eigen Vectors"
   ]
  },
  {
   "cell_type": "code",
   "execution_count": 7,
   "id": "bbc20e6a-2301-45b4-8482-65c9bd4c5a23",
   "metadata": {},
   "outputs": [
    {
     "name": "stdout",
     "output_type": "stream",
     "text": [
      "left eigen vectors = \n",
      " [[-0.58746336+0.j         -0.16984156-0.35355339j -0.16984156+0.35355339j]\n",
      " [-0.35247801+0.j          0.67936622+0.j          0.67936622-0.j        ]\n",
      " [-0.72845456+0.j         -0.50952467+0.35355339j -0.50952467-0.35355339j]] \n",
      "\n",
      "eigen value = \n",
      " [ 1.  +0.j        -0.15+0.3122499j -0.15-0.3122499j]\n"
     ]
    }
   ],
   "source": [
    "import scipy.linalg\n",
    "\n",
    "values, left = scipy.linalg.eig(A, right=False, left=True)\n",
    "\n",
    "print(\"left eigen vectors = \\n\", left, \"\\n\")\n",
    "print(\"eigen value = \\n\", values)"
   ]
  },
  {
   "cell_type": "code",
   "execution_count": 10,
   "id": "a5877e17-c7ed-4b8a-a3bc-f9eb404acfe9",
   "metadata": {},
   "outputs": [
    {
     "name": "stdout",
     "output_type": "stream",
     "text": [
      "π = [0.3521126760563379, 0.21126760563380298, 0.43661971830985913]\n"
     ]
    }
   ],
   "source": [
    "pi = left[:,0]\n",
    "pi_normalized = [(x/np.sum(pi)).real for x in pi]\n",
    "print(\"π =\", pi_normalized)"
   ]
  },
  {
   "cell_type": "markdown",
   "id": "40cbeebd-e926-4315-94fb-ffe08631041e",
   "metadata": {},
   "source": [
    "### $P(🍕 \\rightarrow 🌭 \\rightarrow 🌭 \\rightarrow 🍔) = ?$\n",
    "\n",
    "$P(X_0 = 🍕, X_1 = 🌭, X_2 =🌭, X_3 =🍔)$\n",
    "\n",
    "$P(X_0 = 🍕) \\space P(X_1 = 🌭 | X_0 = 🍕) \\space P(X_2 =🌭 | X_1 = 🌭) \\space P(X_3 = 🍔 | X_2 =🌭)$"
   ]
  },
  {
   "cell_type": "code",
   "execution_count": 33,
   "id": "6fbd15a2-178b-4bc8-9c41-067d8d739286",
   "metadata": {},
   "outputs": [
    {
     "data": {
      "text/latex": [
       "$\\displaystyle P(X_0 \\rightarrow 🍕 \\space X_1 \\rightarrow 🌭 \\space X_2 \\rightarrow 🌭 \\space X_3 \\rightarrow 🍔) = 0.0369718$"
      ],
      "text/plain": [
       "<IPython.core.display.Math object>"
      ]
     },
     "metadata": {},
     "output_type": "display_data"
    }
   ],
   "source": [
    "from IPython.display import display, Math\n",
    "\n",
    "def print_beatiful(seq: list, prob: float):\n",
    "    if len(seq) > 0 and isinstance(seq[0], str):\n",
    "        seq = text_to_number(seq)\n",
    "    \n",
    "    emojis = []\n",
    "    latex = \"$P(\"\n",
    "    for i, element in enumerate(seq):\n",
    "        if 0 == element:\n",
    "            latex += f\"X_{i} \\\\rightarrow 🍔\"\n",
    "        elif 1 == element:\n",
    "            latex += f\"X_{i} \\\\rightarrow 🍕\"\n",
    "        elif 2 == element:\n",
    "            latex += f\"X_{i} \\\\rightarrow 🌭\"\n",
    "        else:\n",
    "            raise Exception(f\"{element} not supported!\")\n",
    "        if i < len(seq) - 1:\n",
    "            latex += \" \\space \"\n",
    "    latex += \") = %g$\"\n",
    "    display(Math(latex % prob))\n",
    "        \n",
    "def text_to_number(seq: list):\n",
    "    state_reverse = {\n",
    "        \"burger\": 0,\n",
    "        \"pizza\": 1,\n",
    "        \"hotdog\": 2\n",
    "    }\n",
    "    return [state_reverse[i.lower()] for i in seq]\n",
    "\n",
    "def find_prob(seq: list, A: np.ndarray, pi: list):\n",
    "    if len(seq) > 0 and isinstance(seq[0], str):\n",
    "        seq = text_to_number(seq)\n",
    "    \n",
    "    start_state = seq[0]\n",
    "    prob = pi[start_state]\n",
    "    prev_state, curr_state = start_state, start_state\n",
    "    for i in range(1, len(seq)):\n",
    "        curr_state = seq[i]\n",
    "        prob *= A[prev_state][curr_state]\n",
    "        prev_state = curr_state\n",
    "    return prob\n",
    "\n",
    "walk_markov = [1, 2, 2, 0]\n",
    "prob = find_prob(walk_markov, A, pi_normalized)\n",
    "print_beatiful(walk_markov, prob)"
   ]
  },
  {
   "cell_type": "code",
   "execution_count": 34,
   "id": "89d01bbc-668f-4e12-925d-8603d262eb30",
   "metadata": {},
   "outputs": [
    {
     "data": {
      "text/latex": [
       "$\\displaystyle P(X_0 \\rightarrow 🍔 \\space X_1 \\rightarrow 🌭 \\space X_2 \\rightarrow 🍕 \\space X_3 \\rightarrow 🍕) = 0$"
      ],
      "text/plain": [
       "<IPython.core.display.Math object>"
      ]
     },
     "metadata": {},
     "output_type": "display_data"
    }
   ],
   "source": [
    "walk_markov = [\"Burger\", \"HotDog\", \"Pizza\", \"Pizza\"]\n",
    "prob = find_prob(walk_markov, A, pi_normalized)\n",
    "print_beatiful(walk_markov, prob)"
   ]
  },
  {
   "cell_type": "code",
   "execution_count": 36,
   "id": "b5877003-8ed7-4080-8a4f-6ac7ee8dcb70",
   "metadata": {},
   "outputs": [
    {
     "data": {
      "text/latex": [
       "$\\displaystyle P(X_0 \\rightarrow 🍔 \\space X_1 \\rightarrow 🍔 \\space X_2 \\rightarrow 🍕 \\space X_3 \\rightarrow 🌭) = 0.0295775$"
      ],
      "text/plain": [
       "<IPython.core.display.Math object>"
      ]
     },
     "metadata": {},
     "output_type": "display_data"
    }
   ],
   "source": [
    "walk_markov = [\"Burger\", \"Burger\", \"Pizza\", \"HotDog\"]\n",
    "prob = find_prob(walk_markov, A, pi_normalized)\n",
    "print_beatiful(walk_markov, prob)"
   ]
  },
  {
   "cell_type": "code",
   "execution_count": 37,
   "id": "4eb8fc0d-6a8a-4502-b060-1ecfe1551ce3",
   "metadata": {},
   "outputs": [
    {
     "data": {
      "text/latex": [
       "$\\displaystyle P(X_0 \\rightarrow 🍔 \\space X_1 \\rightarrow 🍔) = 0.0704225$"
      ],
      "text/plain": [
       "<IPython.core.display.Math object>"
      ]
     },
     "metadata": {},
     "output_type": "display_data"
    }
   ],
   "source": [
    "walk_markov = [\"Burger\", \"Burger\"]\n",
    "prob = find_prob(walk_markov, A, pi_normalized)\n",
    "print_beatiful(walk_markov, prob)"
   ]
  }
 ],
 "metadata": {
  "kernelspec": {
   "display_name": "Python 3 (ipykernel)",
   "language": "python",
   "name": "python3"
  },
  "language_info": {
   "codemirror_mode": {
    "name": "ipython",
    "version": 3
   },
   "file_extension": ".py",
   "mimetype": "text/x-python",
   "name": "python",
   "nbconvert_exporter": "python",
   "pygments_lexer": "ipython3",
   "version": "3.10.11"
  }
 },
 "nbformat": 4,
 "nbformat_minor": 5
}
