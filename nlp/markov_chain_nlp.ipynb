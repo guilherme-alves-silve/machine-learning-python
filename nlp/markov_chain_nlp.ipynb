{
 "cells": [
  {
   "cell_type": "code",
   "execution_count": 5,
   "id": "c040b5da",
   "metadata": {},
   "outputs": [],
   "source": [
    "import os\n",
    "import re\n",
    "import string\n",
    "import random\n",
    "\n",
    "from nltk.tokenize import word_tokenize\n",
    "from nltk.corpus import stopwords"
   ]
  },
  {
   "cell_type": "markdown",
   "id": "46319185",
   "metadata": {},
   "source": [
    "## Reading every Sherlock Holmes book!"
   ]
  },
  {
   "cell_type": "code",
   "execution_count": 4,
   "id": "f00d5efa-791f-486b-a21d-fff5e505b2d9",
   "metadata": {},
   "outputs": [
    {
     "name": "stdout",
     "output_type": "stream",
     "text": [
      "Number of lines =  215021\n"
     ]
    }
   ],
   "source": [
    "def read_all_stories(path: str):\n",
    "    txt = []\n",
    "    for _, _, files in os.walk(path):\n",
    "        for file in files:\n",
    "            with open(path+file) as f:\n",
    "                for line in f:\n",
    "                    line = line.strip()\n",
    "                    if line == '----------': \n",
    "                        break\n",
    "                    if line != '': \n",
    "                        txt.append(line)\n",
    "    return txt\n",
    "\n",
    "story_path = \"./sherlock/\"\n",
    "stories = read_all_stories(story_path)\n",
    "print(\"Number of lines: \", len(stories))"
   ]
  },
  {
   "cell_type": "markdown",
   "id": "1f72c1ca",
   "metadata": {},
   "source": [
    "## Cleaning text"
   ]
  },
  {
   "cell_type": "code",
   "execution_count": 7,
   "id": "eb7b07e2",
   "metadata": {},
   "outputs": [
    {
     "name": "stdout",
     "output_type": "stream",
     "text": [
      "Number of words:  2332110\n"
     ]
    }
   ],
   "source": [
    "def clean_txt(txt):\n",
    "    cleaned_txt = []\n",
    "    for line in txt:\n",
    "        line = line.lower()\n",
    "        line = re.sub(r\"[,.\\\"\\'!@#$%^&*(){}?/;`~:<>+=-\\\\']\", \"\", line)\n",
    "        tokens = word_tokenize(line)\n",
    "        words = [word for word in tokens if word.isalpha()]\n",
    "        cleaned_txt += words\n",
    "    return cleaned_txt\n",
    "\n",
    "cleaned_stories = clean_txt(stories)\n",
    "print(\"Number of words: \", len(cleaned_stories))"
   ]
  },
  {
   "cell_type": "markdown",
   "id": "a696334f",
   "metadata": {},
   "source": [
    "## Creating the Markov Model"
   ]
  },
  {
   "cell_type": "code",
   "execution_count": 37,
   "id": "6fae2a09",
   "metadata": {},
   "outputs": [],
   "source": [
    "def make_markov_model(cleaned_stories, n_gram=2):\n",
    "    markov_model = {}\n",
    "    for i in range(len(cleaned_stories) - 2*n_gram+1):\n",
    "        curr_state, next_state = \"\", \"\"\n",
    "        for j in range(n_gram):\n",
    "            curr_state += cleaned_stories[i+j] + \" \"\n",
    "            next_state += cleaned_stories[i+j+n_gram] + \" \"\n",
    "        curr_state = curr_state[:-1]\n",
    "        next_state = next_state[:-1]\n",
    "        if curr_state not in markov_model:\n",
    "            markov_model[curr_state] = {}\n",
    "            markov_model[curr_state][next_state] = 1\n",
    "        elif next_state in markov_model[curr_state]:\n",
    "            markov_model[curr_state][next_state] += 1\n",
    "        else:\n",
    "            markov_model[curr_state][next_state] = 1\n",
    "            \n",
    "    # calculating transition probabilities\n",
    "    for curr_state, transition in markov_model.items():\n",
    "        total = sum(transition.values())\n",
    "        for state, count in transition.items():\n",
    "            markov_model[curr_state][state] = count/total\n",
    "            \n",
    "    return markov_model"
   ]
  },
  {
   "cell_type": "code",
   "execution_count": 38,
   "id": "1dbd44a2",
   "metadata": {},
   "outputs": [],
   "source": [
    "markov_model = make_markov_model(cleaned_stories)"
   ]
  },
  {
   "cell_type": "code",
   "execution_count": 39,
   "id": "c3bea872",
   "metadata": {},
   "outputs": [
    {
     "name": "stdout",
     "output_type": "stream",
     "text": [
      "Number of state:  208670\n"
     ]
    }
   ],
   "source": [
    "print(\"Number of state: \", len(markov_model.keys()))"
   ]
  },
  {
   "cell_type": "code",
   "execution_count": 40,
   "id": "33aaab04",
   "metadata": {},
   "outputs": [
    {
     "name": "stdout",
     "output_type": "stream",
     "text": [
      "All possible transitions from 'the game' state:\n",
      "\n",
      "{'your letter': 0.02702702702702703, 'was up': 0.09009009009009009, 'is afoot': 0.036036036036036036, 'for the': 0.036036036036036036, 'was in': 0.02702702702702703, 'is hardly': 0.02702702702702703, 'would have': 0.036036036036036036, 'is up': 0.06306306306306306, 'is and': 0.036036036036036036, 'in their': 0.036036036036036036, 'was whist': 0.036036036036036036, 'in that': 0.036036036036036036, 'the lack': 0.036036036036036036, 'for all': 0.06306306306306306, 'may wander': 0.02702702702702703, 'now a': 0.02702702702702703, 'my own': 0.02702702702702703, 'at any': 0.02702702702702703, 'mr holmes': 0.02702702702702703, 'ay whats': 0.02702702702702703, 'my friend': 0.02702702702702703, 'fairly by': 0.02702702702702703, 'is not': 0.02702702702702703, 'was not': 0.02702702702702703, 'was afoot': 0.036036036036036036, 'worth it': 0.02702702702702703, 'you are': 0.02702702702702703, 'i am': 0.02702702702702703, 'now count': 0.02702702702702703}\n"
     ]
    }
   ],
   "source": [
    "print(\"All possible transitions from 'the game' state:\\n\")\n",
    "print(markov_model[\"the game\"])"
   ]
  },
  {
   "cell_type": "markdown",
   "id": "f66f27ae",
   "metadata": {},
   "source": [
    "## Generating Sherlock Holmes stories!"
   ]
  },
  {
   "cell_type": "code",
   "execution_count": 41,
   "id": "1f956275",
   "metadata": {},
   "outputs": [],
   "source": [
    "def generate_story(markov_model: dict, limit=100, start='my god'):\n",
    "    n = 0\n",
    "    curr_state = start\n",
    "    next_state = None\n",
    "    story = curr_state + \" \"\n",
    "    \n",
    "    while n < limit:\n",
    "        txt_population = list(markov_model[curr_state].keys())\n",
    "        txt_probability = list(markov_model[curr_state].values())\n",
    "        next_state = random.choices(txt_population,\n",
    "                                    txt_probability)\n",
    "        curr_state = next_state[0]\n",
    "        story += curr_state + \" \"\n",
    "        n += 1\n",
    "    return story"
   ]
  },
  {
   "cell_type": "code",
   "execution_count": 47,
   "id": "32b2930a",
   "metadata": {},
   "outputs": [
    {
     "name": "stdout",
     "output_type": "stream",
     "text": [
      "0.  dear holmes that i who have occasionally hung about the eyes and a straight mouth set in a \n",
      "1.  dear holmes and tell me all the way into his business i am not mistaken i hear him \n",
      "2.  dear holmes and tell me all that he might use it in my leisure have hired a second \n",
      "3.  dear holmes i exclaimed devoutly but you were left in the grip of his brush i can tell \n",
      "4.  dear holmes i exclaimed turning to my companion i am glad of your advice you have told us \n",
      "5.  dear holmes i fear there is his footstep well mr holmes when he had gathered round him in \n",
      "6.  dear holmes it is ask for a photograph of my neighbours three days ago did you not that \n",
      "7.  dear holmes i fear that even had it all in bed he told me your name to the \n",
      "8.  dear holmes i have so much during some recent researches which have been returned until the end of \n",
      "9.  dear holmes and tell us what do you think of baxters words and say offhand how each factor \n",
      "10.  dear holmes said i ruefully pointing to a glass case in a gesture of relief it is what \n",
      "11.  dear holmes if i should be glad to shake you by the alarm of fire her poor dear \n",
      "12.  dear holmes my previous letters and papers upon the table i ran all over from the eaves i \n",
      "13.  dear holmes and tell her that all danger is past and yet it was not a bad fellow \n",
      "14.  dear holmes it is to that about this right away said the house in which they had met \n",
      "15.  dear holmes oh yes all of good character other things and when i observed that the matter is \n",
      "16.  dear holmes i exclaimed and then leaving me for a guide since it had been a great shock \n",
      "17.  dear holmes i thought little of and silver but a second consideration struck me that he might find \n",
      "18.  dear holmes my previous letters and is now in the lonely ranches of the following telegram please come \n",
      "19.  dear holmes oh yes i sent yesterday i expected to see sherlock holmes impatient under this do you \n"
     ]
    }
   ],
   "source": [
    "for i in range(20):\n",
    "    print(str(i) + \". \", generate_story(markov_model, start='dear holmes', limit=8))"
   ]
  },
  {
   "cell_type": "code",
   "execution_count": 44,
   "id": "d5b5a2d8",
   "metadata": {},
   "outputs": [
    {
     "name": "stdout",
     "output_type": "stream",
     "text": [
      "0.  my dear watson and if my friend here you will need your deductions mr holmes to tell them \n",
      "1.  my dear mr mac when one of the nights adventures we had taken tea at the end of \n",
      "2.  my dear watson professor moriarty is not a vision and a touch a distinct smell of powder the \n",
      "3.  my dear fellow i cried approaching him stand back stand right back said he i expect that we \n",
      "4.  my dear doctor this very hour and place but otherwise for half an hour barker and mrs douglas \n",
      "5.  my dear watson but this is incredible mr holmes why this article i took it i do not \n",
      "6.  my dear holmes you would hardly forget it or remember only as i understand it has turned out \n",
      "7.  my dear watson which he handed it back the young lady resumed her seat with an old of \n",
      "8.  my dear holmes my friend had produced results which had become even sadder and more grave i can \n",
      "9.  my dear watson with the i think that if one of your investigations the conviction that every one \n",
      "10.  my dear watson do you remember that our landlady had left us because it was the hamlet of \n",
      "11.  my dear holmes what is it ah me its a pity there is no money there was one \n",
      "12.  my dear watson that there were any evidence of such a valhalla sherlock and his watson may for \n",
      "13.  my dear watson he remarked with a smile as one goes eastward at a glance to right and \n",
      "14.  my dear watson that this young man out where were you when you sat in the highest quarters \n",
      "15.  my dear watson of the value of time to do we can get the stone not you but \n",
      "16.  my dear watson said he we have been up now though indeed my plans and now i come \n",
      "17.  my dear i hope but we have made away with a look of the latter and how in \n",
      "18.  my dear watson with what eagerness i listened to this place they talk of marrying his son to \n",
      "19.  my dear watson said he i have some record of a door and showed a disc round the \n"
     ]
    }
   ],
   "source": [
    "for i in range(20):\n",
    "    print(str(i) + \". \", generate_story(markov_model, start='my dear', limit=8))"
   ]
  },
  {
   "cell_type": "code",
   "execution_count": 45,
   "id": "c7a81b63",
   "metadata": {},
   "outputs": [
    {
     "name": "stdout",
     "output_type": "stream",
     "text": [
      "0.  i would offer you a beggarly sum which i offer you a grim little bit of work as \n",
      "1.  i would make you a free agent i understand that you give me carte blanche to act for \n",
      "2.  i would see you mr mason you can not serve him better manners if i caught a glimpse \n",
      "3.  i would come to close grips at last with his usual listless expression while small sat stolidly opposite \n",
      "4.  i would at once to the division of the treasure then she would meet the facts as they \n",
      "5.  i would be glad if you were asked to prove the connection between godfrey staunton and was only \n",
      "6.  i would take a pinch of snuff pray continue your most interesting said sherlock holmes rather sternly owe \n",
      "7.  i would go some day i perceive my dear holmes that i was pledged to him in all \n",
      "8.  i would appear next monday i saw the two men had come to him and that sir james \n",
      "9.  i would go said holmes as he walked for a few days at his desk pulled over the \n",
      "10.  i would have endured imprisonment ay even execution rather than mine it is often compensated for by exceptional \n",
      "11.  i would read as easily as in devonshire but im not easy to pick up the steel poker \n",
      "12.  i would consider in the meanwhile whether your suggestion of afternoon tea and all were equally puppets in \n",
      "13.  i would not do so could it have ever imagined that the law should have its way in \n",
      "14.  i would rather have you than you about him she rummaged in his coat while the revellers stood \n",
      "15.  i would not have paid them to open the door was locked on the same intellectual plane as \n",
      "16.  i would not have given her the name had been heard of it before going further an unsuccessful \n",
      "17.  i would rather never allude to them for my bread and cheese and how heavily the hand of \n",
      "18.  i would take my practice very good i think you can find out in the cold clear moon \n",
      "19.  i would have you not yes sir i have but one retreat whispered holmes is he whom you \n"
     ]
    }
   ],
   "source": [
    "for i in range(20):\n",
    "    print(str(i) + \". \", generate_story(markov_model, start='i would', limit=8))"
   ]
  },
  {
   "cell_type": "code",
   "execution_count": 46,
   "id": "b562da9c",
   "metadata": {},
   "outputs": [
    {
     "name": "stdout",
     "output_type": "stream",
     "text": [
      "the case stripped of all surmise but at last he forced himself through it as you perceive to hunt down the traitor is dead then she would meet me no sir i really could not i it was not difficult for me to see holmes and the seaman saying that he had curled down with his infernal paint and to spite him and to fasten a charge of the murder of john openshaw were never to speak of this said he in his blandest manner to us especially when he came he pushed his spectacles up on his overcoat and bustled about in a few words of apology i hope to goodness the house we could but lay our hands i should never be happy until you had left me and entered his appearance you see it watson said holmes shutting his eyes pray go on biding with us a visit to bohemia or either of your feelings i am willing to act for all so that none who had secrets in this room for a moment in rushed the husband with his intended crime and could know time was spent at hampstead and that it was a small tin which stood \n"
     ]
    }
   ],
   "source": [
    "print(generate_story(markov_model, start='the case'))"
   ]
  }
 ],
 "metadata": {
  "kernelspec": {
   "display_name": "Python 3 (ipykernel)",
   "language": "python",
   "name": "python3"
  },
  "language_info": {
   "codemirror_mode": {
    "name": "ipython",
    "version": 3
   },
   "file_extension": ".py",
   "mimetype": "text/x-python",
   "name": "python",
   "nbconvert_exporter": "python",
   "pygments_lexer": "ipython3",
   "version": "3.9.7"
  }
 },
 "nbformat": 4,
 "nbformat_minor": 5
}
