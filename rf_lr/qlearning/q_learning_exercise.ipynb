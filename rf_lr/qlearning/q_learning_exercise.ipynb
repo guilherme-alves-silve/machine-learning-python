{
 "cells": [
  {
   "cell_type": "markdown",
   "id": "e0f70e03",
   "metadata": {},
   "source": [
    "___\n",
    "\n",
    "<a href='http://www.pieriandata.com'>www.pieriandata.com</a>\n",
    "___\n",
    "<center><em>Copyright by Pierian Data Inc.</em></center>\n",
    "<center><em>For more information, visit us at <a href='http://www.pieriandata.com'>www.pieriandata.com</a></em></center>"
   ]
  },
  {
   "cell_type": "markdown",
   "id": "7a938939",
   "metadata": {},
   "source": [
    "# Q Learning Exercise "
   ]
  },
  {
   "cell_type": "markdown",
   "id": "a82c5575",
   "metadata": {},
   "source": [
    "**We'll be reviewing and testing your skills with Q-Learning on a continuous space! Please feel free to reference the lecture notebooks you are definitely not expected to be able to fill out all this code from memory, just the ability to understand the core concepts and apply it to a different situation.**\n",
    "\n",
    "--------------------\n",
    "\n",
    "## Complete the tasks in bold below."
   ]
  },
  {
   "cell_type": "markdown",
   "id": "2147ae69",
   "metadata": {},
   "source": [
    "In this exercise we take a look at the MountainCar-v0 (https://gymnasium.farama.org/environments/classic_control/mountain_car_continuous/) game again. That is the game from our original discussion of OpenAi gym (now [Gymnasium](https://gymnasium.farama.org/)) environments for which we created an agent manually.\n",
    "Remember, that the goal is to reach the top of the mountain within some time limit\n",
    "\n",
    "-----"
   ]
  },
  {
   "cell_type": "markdown",
   "id": "afc8b2ce",
   "metadata": {},
   "source": [
    "**TASK: Import any relevant libraries you think you might need.** <br />\n"
   ]
  },
  {
   "cell_type": "code",
   "execution_count": null,
   "id": "4b7843bc-ab49-4bdb-aee5-6efa9070a0f0",
   "metadata": {},
   "outputs": [],
   "source": [
    "!pip install --upgrade setuptools 2>&1\n",
    "!pip install ez_setup > /dev/null 2>&1\n",
    "!pip install ipympl > /dev/null 2>&1\n",
    "\n",
    "!pip install swig==4.1.1\n",
    "!pip install Box2D==2.3.2\n",
    "!pip install box2d-kengz==2.3.3\n",
    "!pip install pygame==2.2.0\n",
    "!pip install ale_py==0.8.1\n",
    "!pip install pyglet==1.5.11\n",
    "\n",
    "!pip install -U colabgymrender\n",
    "!pip install imageio==2.4.1\n",
    "!pip install --upgrade AutoROM\n",
    "!AutoROM --accept-license\n",
    "!pip install gymnasium[atari,accept-rom-license]==0.28.1\n",
    "\n",
    "!wget http://www.atarimania.com/roms/Roms.rar\n",
    "!unrar x -o+ /content/Roms.rar >/dev/nul\n",
    "!python -m atari_py.import_roms /content/ROMS >/dev/nul\n",
    "\n",
    "!pip install pyvirtualdisplay > /dev/null 2>&1\n",
    "!pip install matplotlib > /dev/null 2>&1\n",
    "!pip install pyvirtualdisplay > /dev/null 2>&1"
   ]
  },
  {
   "cell_type": "code",
   "execution_count": 70,
   "id": "11e0d486",
   "metadata": {},
   "outputs": [],
   "source": [
    "import time\n",
    "import numpy as np\n",
    "import matplotlib.pyplot as plt\n",
    "import gymnasium as gym\n",
    "\n",
    "from IPython.display import clear_output\n",
    "\n",
    "%matplotlib inline"
   ]
  },
  {
   "cell_type": "code",
   "execution_count": 71,
   "id": "1ec828cf-d6bc-4ba0-82e8-348bb22c48c0",
   "metadata": {},
   "outputs": [],
   "source": [
    "def show_environment(array):\n",
    "    plt.axis(\"off\")\n",
    "    plt.imshow(array)\n",
    "    plt.show()"
   ]
  },
  {
   "cell_type": "markdown",
   "id": "4c6f7e28",
   "metadata": {},
   "source": [
    "**TASK: Create the gym mountain car environment** <br />\n"
   ]
  },
  {
   "cell_type": "code",
   "execution_count": 72,
   "id": "d001763e",
   "metadata": {},
   "outputs": [],
   "source": [
    "env_name = \"MountainCar-v0\"\n",
    "env = gym.make(env_name, render_mode=\"rgb_array\")"
   ]
  },
  {
   "cell_type": "code",
   "execution_count": 73,
   "id": "2f98a11b-96d3-439c-b13a-02a561767fc8",
   "metadata": {},
   "outputs": [
    {
     "data": {
      "image/png": "[encoded data removed]",
      "text/plain": [
       "<Figure size 640x480 with 1 Axes>"
      ]
     },
     "metadata": {},
     "output_type": "display_data"
    }
   ],
   "source": [
    "state, info = env.reset()\n",
    "for step in range(50):\n",
    "    environment = env.render()\n",
    "    show_environment(environment)\n",
    "    action = env.action_space.sample()\n",
    "    state, reward, term, trunc, info = env.step(action)\n",
    "    time.sleep(0.02)\n",
    "    if term or trunc:\n",
    "        stete, info = env.reset()\n",
    "        break\n",
    "    clear_output(wait=True)\n",
    "env.close()"
   ]
  },
  {
   "cell_type": "markdown",
   "id": "c8d7d713-10ac-42c1-816b-0a939573c008",
   "metadata": {},
   "source": [
    "## Observation Space\n",
    "\n",
    "The observation is a ndarray with shape (2,) where the elements correspond to the following:\n",
    "\n",
    "|Num|Observation|Min|Max|Unit\n",
    "|--|--|--|--|--|\n",
    "|0|position of the car along the x-axis|-1.2|0.6|position (m)|\n",
    "|1|velocity of the car|-0.07|0.07|position (m)|\n",
    "\n",
    "## Action Space\n",
    "\n",
    "The action is a ndarray with shape (1,), representing the directional force applied on the car. The action is clipped in the range [-1,1] and multiplied by a power of 0.0015."
   ]
  },
  {
   "cell_type": "markdown",
   "id": "171192c3",
   "metadata": {},
   "source": [
    "**TASK: Write a function to create a numpy array holding the bins for the observations of the car (position and velocity).** <br />\n",
    "Feel free to explore different bins per observation spacings.\n",
    "The function should take one argument which acts as the bins per observation <br />\n",
    "Hint: You can find the observations here: https://github.com/openai/gym/blob/master/gym/envs/classic_control/mountain_car.py\n",
    "<br /> Hint: You will probably need around 25 bins for good results, but feel free to use less to reduce training time. <br />\n"
   ]
  },
  {
   "cell_type": "code",
   "execution_count": 74,
   "id": "e4e0ab04",
   "metadata": {},
   "outputs": [],
   "source": [
    "def create_bins(num_bins_per_observation: int):\n",
    "    bins_position = np.linspace(-1.2, 0.6, num_bins_per_observation)\n",
    "    bins_velocity = np.linspace(-0.07, 0.07, num_bins_per_observation)\n",
    "    bins = np.array([bins_position, bins_velocity])\n",
    "    return bins"
   ]
  },
  {
   "cell_type": "markdown",
   "id": "9c16f6a1",
   "metadata": {},
   "source": [
    "**TASK: Here you should write the code which creates the bins and defines the NUM_BINS attribute**"
   ]
  },
  {
   "cell_type": "code",
   "execution_count": 75,
   "id": "c1b2b0ac",
   "metadata": {},
   "outputs": [
    {
     "name": "stdout",
     "output_type": "stream",
     "text": [
      "Position bins: [-1.2   -1.125 -1.05  -0.975 -0.9   -0.825 -0.75  -0.675 -0.6   -0.525\n",
      " -0.45  -0.375 -0.3   -0.225 -0.15  -0.075  0.     0.075  0.15   0.225\n",
      "  0.3    0.375  0.45   0.525  0.6  ]\n",
      "Velocity bins: [-0.07       -0.06416667 -0.05833333 -0.0525     -0.04666667 -0.04083333\n",
      " -0.035      -0.02916667 -0.02333333 -0.0175     -0.01166667 -0.00583333\n",
      "  0.          0.00583333  0.01166667  0.0175      0.02333333  0.02916667\n",
      "  0.035       0.04083333  0.04666667  0.0525      0.05833333  0.06416667\n",
      "  0.07      ]\n"
     ]
    }
   ],
   "source": [
    "NUM_BINS = 25\n",
    "BINS = create_bins(NUM_BINS)\n",
    "print(f\"Position bins: {BINS[0]}\")\n",
    "print(f\"Velocity bins: {BINS[1]}\")"
   ]
  },
  {
   "cell_type": "markdown",
   "id": "28446881",
   "metadata": {},
   "source": [
    "**TASK: Create a function that will take in observations from the environment and the bins array and return the discretized version of the observation.**"
   ]
  },
  {
   "cell_type": "markdown",
   "id": "bcceedae",
   "metadata": {},
   "source": [
    "Now we need the code to discretize the observations. We can use the same code as used in the last notebook"
   ]
  },
  {
   "cell_type": "code",
   "execution_count": 76,
   "id": "6365d656",
   "metadata": {},
   "outputs": [],
   "source": [
    "def discretize_observation(observations, bins):\n",
    "    binned_observations = []\n",
    "    for observation, bin in zip(observations, bins):\n",
    "        binned_observations.append(np.digitize(observation, bin))\n",
    "    return tuple(np.array(binned_observations)) # Important for later indexing"
   ]
  },
  {
   "cell_type": "markdown",
   "id": "b176faaf",
   "metadata": {},
   "source": [
    "**Let's check to make sure your previous two function calls work with a quick task! Otherwise it may be hard to debug later on.**"
   ]
  },
  {
   "cell_type": "markdown",
   "id": "7d2d8d8e",
   "metadata": {},
   "source": [
    "**TASK: Confirm that your *create_bins()* function works with *discretize_observation() by running the following cell***"
   ]
  },
  {
   "cell_type": "code",
   "execution_count": 77,
   "id": "c5eca009",
   "metadata": {},
   "outputs": [],
   "source": [
    "test_bins = create_bins(5)\n",
    "np.testing.assert_almost_equal(test_bins[0], [-1.2 , -0.75, -0.3 ,  0.15,  0.6])\n",
    "np.testing.assert_almost_equal(test_bins[1], [-0.07 , -0.035,  0.   ,  0.035,  0.07 ])\n",
    "\n",
    "test_observation = np.array([-0.9, 0.03])\n",
    "discretized_test_bins = discretize_observation(test_observation, test_bins)\n",
    "assert discretized_test_bins == (1, 3)"
   ]
  },
  {
   "cell_type": "code",
   "execution_count": 78,
   "id": "6df06cf0-f6e0-4c83-ae47-e69b9008b05a",
   "metadata": {},
   "outputs": [
    {
     "data": {
      "text/plain": [
       "(9, 13)"
      ]
     },
     "execution_count": 78,
     "metadata": {},
     "output_type": "execute_result"
    }
   ],
   "source": [
    "discretized_observation = discretize_observation(state, BINS)\n",
    "discretized_observation"
   ]
  },
  {
   "cell_type": "code",
   "execution_count": 80,
   "id": "19348a8d-88c3-4822-82ce-3d0e4ee29d24",
   "metadata": {},
   "outputs": [
    {
     "data": {
      "text/plain": [
       "array([-0.54158837,  0.0030485 ], dtype=float32)"
      ]
     },
     "execution_count": 80,
     "metadata": {},
     "output_type": "execute_result"
    }
   ],
   "source": [
    "state"
   ]
  },
  {
   "cell_type": "markdown",
   "id": "1e2e71a8",
   "metadata": {},
   "source": [
    "**TASK: Create the Q-Table** <br />\n",
    "Remember the shape that the Q-Table needs to have."
   ]
  },
  {
   "cell_type": "code",
   "execution_count": 82,
   "id": "32b9bba7",
   "metadata": {},
   "outputs": [
    {
     "data": {
      "text/plain": [
       "(25, 25, 3)"
      ]
     },
     "execution_count": 82,
     "metadata": {},
     "output_type": "execute_result"
    }
   ],
   "source": [
    "q_table_shape = (NUM_BINS, NUM_BINS, env.action_space.n)\n",
    "q_table = np.zeros(q_table_shape)\n",
    "q_table.shape"
   ]
  },
  {
   "cell_type": "markdown",
   "id": "44d485ec",
   "metadata": {},
   "source": [
    "**TASK: Fill out the Epislon Greedy Action Selection function:**"
   ]
  },
  {
   "cell_type": "code",
   "execution_count": 96,
   "id": "ac943d8d",
   "metadata": {},
   "outputs": [],
   "source": [
    "def epsilon_greedy_action_selection(env, epsilon, q_table, discrete_state):\n",
    "    random_action = np.random.random()\n",
    "    if random_action < epsilon:  # Exploration\n",
    "        action = env.action_space.sample()\n",
    "    else:  # Exploitation\n",
    "        action = np.argmax(q_table[discrete_state])\n",
    "    return action"
   ]
  },
  {
   "cell_type": "markdown",
   "id": "5b6f5ec4",
   "metadata": {},
   "source": [
    "**TASK: Fill out the function to compute the next Q value.**"
   ]
  },
  {
   "cell_type": "code",
   "execution_count": 97,
   "id": "a7ec635a",
   "metadata": {},
   "outputs": [],
   "source": [
    "def compute_next_q_value(old_q_value, reward, next_optimal_q_value):\n",
    "    return old_q_value + ALPHA * (reward + GAMMA * next_optimal_q_value - old_q_value)"
   ]
  },
  {
   "cell_type": "markdown",
   "id": "043548dc",
   "metadata": {},
   "source": [
    "**TASK: Create a function to reduce epsilon, feel free to choose any reduction method you want. We'll use a reduction with BURN_IN and EPSILON_END limits in the solution. We'll also show a way to reduce epsilon based on the number of epochs. Feel free to experiment here.**"
   ]
  },
  {
   "cell_type": "code",
   "execution_count": 98,
   "id": "ea236a4b",
   "metadata": {},
   "outputs": [],
   "source": [
    "def reduce_epsilon(epsilon, epoch):\n",
    "    if BURN_IN < epoch <= EPSILON_END:\n",
    "        epsilon -= EPSILON_REDUCE\n",
    "    return epsilon"
   ]
  },
  {
   "cell_type": "markdown",
   "id": "f2631b38",
   "metadata": {},
   "source": [
    "**TASK: Define your hyperparameters. Note, we'll show our solution hyperparameters here, but depending on your *reduce_epsilon* function, your epsilon hyperparameters may be different.**"
   ]
  },
  {
   "cell_type": "markdown",
   "id": "90b2c3fc",
   "metadata": {},
   "source": [
    "Here are the solution initial hyperparameters, your will probably be different!"
   ]
  },
  {
   "cell_type": "code",
   "execution_count": 99,
   "id": "60825d7b",
   "metadata": {},
   "outputs": [],
   "source": [
    "# Feel free to change!\n",
    "\n",
    "EPOCHS = 30000\n",
    "BURN_IN = 100\n",
    "epsilon = 1\n",
    "\n",
    "EPSILON_END = 10000\n",
    "EPSILON_REDUCE = 0.0001 \n",
    "\n",
    "ALPHA = 0.8\n",
    "GAMMA = 0.9"
   ]
  },
  {
   "cell_type": "markdown",
   "id": "f73abcf6",
   "metadata": {},
   "source": [
    "**TASK: Create the training loop for the reinforcement learning agent and run the loop. We've gone ahead and created the basic structure of the loopwith some comments. We also pre-filled the visualization portion.** <br />\n",
    "Note: Use the lecture notebook as a guide and reference"
   ]
  },
  {
   "cell_type": "code",
   "execution_count": 105,
   "id": "d671a646",
   "metadata": {},
   "outputs": [
    {
     "data": {
      "image/png": "[encoded data removed]",
      "text/plain": [
       "<Figure size 640x480 with 1 Axes>"
      ]
     },
     "metadata": {},
     "output_type": "display_data"
    }
   ],
   "source": [
    "####### VISUALIZATION CODE FOR YOU. TOTALLY OPTIONAL. ##########################\n",
    "########## FEEL FREE TO REMOVE OR ADD YOUR OWN VISUAL CODE. #################\n",
    "\n",
    "log_interval = 100  # How often do we update the plot? (Just for performance reasons)\n",
    "### Here we set up the routine for the live plotting of the achieved points ######\n",
    "fig = plt.figure()\n",
    "ax = fig.add_subplot(111)\n",
    "plt.ion()\n",
    "fig.canvas.draw()\n",
    "\n",
    "max_position_log = []  # to store all achieved points\n",
    "mean_positions_log = []  # to store a running mean of the last 30 results\n",
    "epochs = []  # store the epoch for plotting\n",
    "\n",
    "#############################################################################\n",
    "################################## TRAINING TASKS ##########################\n",
    "###########################################################################\n",
    "for epoch in range(EPOCHS):\n",
    "    ################################# TODO ######################################\n",
    "    \n",
    "    # Get initial observation and discretize them. Set done to False\n",
    "    observation, info = env.reset()\n",
    "    discretized_observation = discretize_observation(observation, BINS)\n",
    "    done = False\n",
    "    #############################\n",
    "    # These lines are for plotting.\n",
    "    max_position = -np.inf  \n",
    "    epochs.append(epoch)\n",
    "    #############################\n",
    "    \n",
    "    # As long as current run is alive (i.e not done) perform the following steps:\n",
    "    while not done:  # Perform current run as long as done is False (as long as there is still time to reach the top)\n",
    "\n",
    "        # Select action according to epsilon-greedy strategy\n",
    "        action = epsilon_greedy_action_selection(env, epsilon, q_table, discretized_observation)\n",
    "        # Perform selected action and get next state. Do not forget to discretize it\n",
    "        next_observation, reward, term, trunc, info = env.step(action)\n",
    "        position, velocity = next_observation\n",
    "        next_discretized_observation = discretize_observation(next_observation, BINS)\n",
    "        next_optimal_q_value = np.max(q_table[next_discretized_observation])\n",
    "        # Get old Q-value from Q-Table and get next optimal Q-Value\n",
    "        old_q_value = q_table[discretized_observation + (action,)]\n",
    "        # Compute next Q-Value and insert it into the table\n",
    "        next_q_value = compute_next_q_value(old_q_value, reward, next_optimal_q_value)\n",
    "        q_table[discretized_observation + (action,)] = next_q_value\n",
    "        # Update the old state with the new one\n",
    "        discretized_observation = next_discretized_observation\n",
    "        ##############################\n",
    "        ##  Only for plotting the results - store the highest point the car is able to reach\n",
    "        if position > max_position:\n",
    "            max_position = position\n",
    "        done = term or trunc\n",
    "\n",
    "    # TASK TO DO: Reduce epsilon\n",
    "    epsilon = reduce_epsilon(epsilon, epoch)\n",
    "    ##############################################################################\n",
    "\n",
    "    max_position_log.append(max_position)  # log the highest position the car was able to reach\n",
    "    running_mean = round(np.mean(max_position_log[-30:]), 2)  # Compute running mean of position over the last 30 epochs\n",
    "    mean_positions_log.append(running_mean)  # and log it\n",
    "    \n",
    "    ################ Plot the points and running mean ##################\n",
    "    if epoch % log_interval == 0:\n",
    "        ax.clear()\n",
    "        ax.scatter(epochs, max_position_log)\n",
    "        ax.plot(epochs, max_position_log)\n",
    "        ax.plot(epochs, mean_positions_log, label=f\"Running Mean: {running_mean}\")\n",
    "        plt.legend()\n",
    "        fig.canvas.draw()\n",
    "  ######################################################################\n",
    "\n",
    "env.close()"
   ]
  },
  {
   "cell_type": "markdown",
   "id": "3e5de67a",
   "metadata": {},
   "source": [
    "**TASK: Use your Q-Table to test your agent and render its performance.**"
   ]
  },
  {
   "cell_type": "code",
   "execution_count": 106,
   "id": "39fbe789",
   "metadata": {
    "scrolled": true
   },
   "outputs": [
    {
     "data": {
      "image/png": "[encoded data removed]",
      "text/plain": [
       "<Figure size 640x480 with 1 Axes>"
      ]
     },
     "metadata": {},
     "output_type": "display_data"
    }
   ],
   "source": [
    "observation, info = env.reset()\n",
    "for step in range(1000):\n",
    "    environment = env.render()\n",
    "    show_environment(environment)\n",
    "    discretized_observation = discretize_observation(observation, BINS)\n",
    "    action = np.argmax(q_table[discretized_observation])\n",
    "    observation, reward, term, trunc, info = env.step(action)\n",
    "    clear_output(wait=True)\n",
    "    if term or trunc:\n",
    "        break\n",
    "env.close()"
   ]
  },
  {
   "cell_type": "code",
   "execution_count": 107,
   "id": "831daba7",
   "metadata": {},
   "outputs": [],
   "source": [
    "np.save(\"25bin_qtable_mountaincar.npy\", q_table)"
   ]
  },
  {
   "cell_type": "markdown",
   "id": "5d77b6e7",
   "metadata": {},
   "source": [
    "**OPTIONAL: Play with our Q-Table with 40 bins per observation.**"
   ]
  },
  {
   "cell_type": "code",
   "execution_count": 42,
   "id": "1e16f226",
   "metadata": {},
   "outputs": [],
   "source": [
    "our_q_table = np.load('40bin_qtable_mountaincar.npy')"
   ]
  },
  {
   "cell_type": "code",
   "execution_count": 44,
   "id": "1832a448",
   "metadata": {},
   "outputs": [
    {
     "data": {
      "text/plain": [
       "(40, 40, 3)"
      ]
     },
     "execution_count": 44,
     "metadata": {},
     "output_type": "execute_result"
    }
   ],
   "source": [
    "our_q_table.shape"
   ]
  },
  {
   "cell_type": "markdown",
   "id": "7a1045da",
   "metadata": {},
   "source": [
    "**Great job! Note how you could train for many more epochs/episodes or edit hyperparameters, the more complex the environment, the more choices you have to experiment with!**"
   ]
  }
 ],
 "metadata": {
  "kernelspec": {
   "display_name": "Python 3 (ipykernel)",
   "language": "python",
   "name": "python3"
  },
  "language_info": {
   "codemirror_mode": {
    "name": "ipython",
    "version": 3
   },
   "file_extension": ".py",
   "mimetype": "text/x-python",
   "name": "python",
   "nbconvert_exporter": "python",
   "pygments_lexer": "ipython3",
   "version": "3.10.11"
  }
 },
 "nbformat": 4,
 "nbformat_minor": 5
}
