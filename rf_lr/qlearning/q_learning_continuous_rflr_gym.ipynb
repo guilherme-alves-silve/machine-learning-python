{
 "cells": [
  {
   "cell_type": "markdown",
   "metadata": {},
   "source": [
    "# Study of Reinforcement Learning based on the [course](https://www.udemy.com/course/practical-ai-with-python-and-reinforcement-learning)\n",
    "\n",
    "## Libraries\n",
    "- [Gymnasium](https://gymnasium.farama.org/) "
   ]
  },
  {
   "cell_type": "markdown",
   "metadata": {},
   "source": [
    "## Q-Learning [Cart Pole](https://gymnasium.farama.org/environments/classic_control/cart_pole/)"
   ]
  },
  {
   "cell_type": "code",
   "execution_count": null,
   "metadata": {
    "id": "ZYZScbOO-phI"
   },
   "outputs": [],
   "source": [
    "!pip install --upgrade setuptools 2>&1\n",
    "!pip install ez_setup > /dev/null 2>&1\n",
    "!pip install ipympl > /dev/null 2>&1\n",
    "\n",
    "!pip install swig==4.1.1\n",
    "!pip install Box2D==2.3.2\n",
    "!pip install box2d-kengz==2.3.3\n",
    "!pip install pygame==2.2.0\n",
    "!pip install ale_py==0.8.1\n",
    "!pip install pyglet==1.5.11\n",
    "\n",
    "!pip install -U colabgymrender\n",
    "!pip install imageio==2.4.1\n",
    "!pip install --upgrade AutoROM\n",
    "!AutoROM --accept-license\n",
    "!pip install gymnasium[atari,accept-rom-license]==0.28.1\n",
    "\n",
    "!wget http://www.atarimania.com/roms/Roms.rar\n",
    "!unrar x -o+ /content/Roms.rar >/dev/nul\n",
    "!python -m atari_py.import_roms /content/ROMS >/dev/nul\n",
    "\n",
    "!pip install pyvirtualdisplay > /dev/null 2>&1\n",
    "!pip install matplotlib > /dev/null 2>&1\n",
    "!pip install pyvirtualdisplay > /dev/null 2>&1"
   ]
  },
  {
   "cell_type": "code",
   "execution_count": 1,
   "metadata": {
    "colab": {
     "base_uri": "https://localhost:8080/"
    },
    "id": "NWzMGssVEu6Z",
    "outputId": "2e8a0112-cbfd-4887-8aeb-a2d251f782de"
   },
   "outputs": [],
   "source": [
    "import io\n",
    "import time\n",
    "import numpy as np\n",
    "import random\n",
    "import math\n",
    "import uuid\n",
    "import glob\n",
    "import base64\n",
    "import gymnasium as gym\n",
    "import matplotlib\n",
    "import matplotlib.pyplot as plt\n",
    "\n",
    "from gymnasium import logger as gymlogger\n",
    "from gymnasium.wrappers.record_video import RecordVideo\n",
    "from gymnasium.utils import play\n",
    "from IPython.display import HTML\n",
    "from IPython import display as ipythondisplay\n",
    "\n",
    "gymlogger.set_level(40) # error only\n",
    "%matplotlib inline"
   ]
  },
  {
   "cell_type": "code",
   "execution_count": 2,
   "metadata": {},
   "outputs": [],
   "source": [
    "from IPython.display import clear_output\n",
    "\n",
    "def show_environment(array):\n",
    "    plt.axis(\"off\")\n",
    "    plt.imshow(environment)\n",
    "    plt.show()"
   ]
  },
  {
   "cell_type": "markdown",
   "metadata": {},
   "source": [
    "## Just testing random actions to \"feel\" the environment\n",
    "\n",
    "## Action Space\n",
    "\n",
    "The action is a ndarray with shape (1,) which can take values {0, 1} indicating the direction of the fixed force the cart is pushed with.\n",
    "\n",
    "- 0: Push cart to the left\n",
    "- 1: Push cart to the right\n",
    "\n",
    "Note: The velocity that is reduced or increased by the applied force is not fixed and it depends on the angle the pole is pointing. The center of gravity of the pole varies the amount of energy needed to move the cart underneath it.\n",
    "\n",
    "## Observation Space\n",
    "\n",
    "The observation is a ndarray with shape (4,) with the values corresponding to the following positions and velocities:\n",
    "\n",
    "|Num|Observation|Min|Max|\n",
    "|--|--|--|--|\n",
    "|0|Cart Position|-4.8|4.8|\n",
    "|1|Cart Velocity|-Inf|Inf|\n",
    "|2|Pole Angle|~ -0.418 rad (-24°)|~ 0.418 rad (24°)|\n",
    "|3|Pole Angular Velocity|-Inf|Inf|\n",
    "\n",
    "Reference:\n",
    "\n",
    "[Cart Pole - Gymnasium](https://gymnasium.farama.org/environments/classic_control/cart_pole/)"
   ]
  },
  {
   "cell_type": "code",
   "execution_count": 3,
   "metadata": {},
   "outputs": [
    {
     "data": {
      "image/png": "[encoded data removed]",
      "text/plain": [
       "<Figure size 640x480 with 1 Axes>"
      ]
     },
     "metadata": {},
     "output_type": "display_data"
    }
   ],
   "source": [
    "env_name = \"CartPole-v1\"\n",
    "env = gym.make(env_name, render_mode=\"rgb_array\")\n",
    "env.reset()\n",
    "\n",
    "for step in range(100):\n",
    "    environment = env.render()\n",
    "    show_environment(environment)\n",
    "    action = env.action_space.sample() # 0 or 1\n",
    "    env.step(action)\n",
    "    time.sleep(0.02)\n",
    "    clear_output(wait=True)\n",
    "env.close()"
   ]
  },
  {
   "cell_type": "code",
   "execution_count": 4,
   "metadata": {},
   "outputs": [
    {
     "name": "stdout",
     "output_type": "stream",
     "text": [
      "[-0.03623433 -0.2328012   0.00769793  0.27960843]\n",
      "[-0.04089036 -0.4280321   0.0132901   0.5747093 ]\n",
      "[-0.049451   -0.23309898  0.02478429  0.28624257]\n",
      "[-0.05411298 -0.03833909  0.03050914  0.00147831]\n",
      "[-0.05487976 -0.233885    0.0305387   0.30362898]\n"
     ]
    }
   ],
   "source": [
    "env.reset()\n",
    "\n",
    "for step in range(5):\n",
    "    action = env.action_space.sample() # 0 or 1\n",
    "    state, reward, term, trunc, info = env.step(action)\n",
    "    print(state)\n",
    "env.close()"
   ]
  },
  {
   "cell_type": "markdown",
   "metadata": {},
   "source": [
    "Because this environment has continuous space, we have to transform the continuous values to discrete to store in the Q-Table (because with continuous space, we would have to have an infine number of values to hold), below the table with the configurations:\n",
    "\n",
    "|Num|Observation|Min|Max|\n",
    "|--|--|--|--|\n",
    "|0|Cart Position|-4.8|4.8|\n",
    "|1|Cart Velocity|-Inf|Inf|\n",
    "|2|Pole Angle|~ -0.418 rad (-24°)|~ 0.418 rad (24°)|\n",
    "|3|Pole Angular Velocity|-Inf|Inf|"
   ]
  },
  {
   "cell_type": "code",
   "execution_count": 5,
   "metadata": {},
   "outputs": [],
   "source": [
    "def create_bins(num_bins_per_obs=10):\n",
    "    bins_cart_position = np.linspace(-4.8, 4.8, num_bins_per_obs)\n",
    "    bins_cart_velocity = np.linspace(-5, 5, num_bins_per_obs)\n",
    "    bins_pole_angle = np.linspace(-0.418, 0.418, num_bins_per_obs)\n",
    "    bins_pole_angular_velocity = np.linspace(-5, 5, num_bins_per_obs)\n",
    "    bins = np.array([bins_cart_position, \n",
    "                     bins_cart_velocity, \n",
    "                     bins_pole_angle, \n",
    "                     bins_pole_angular_velocity])\n",
    "    return bins"
   ]
  },
  {
   "cell_type": "code",
   "execution_count": 6,
   "metadata": {},
   "outputs": [
    {
     "name": "stdout",
     "output_type": "stream",
     "text": [
      "Bins for Cart Position: [-4.8        -3.73333333 -2.66666667 -1.6        -0.53333333  0.53333333\n",
      "  1.6         2.66666667  3.73333333  4.8       ]\n",
      "Bins for Cart Velocity: [-5.         -3.88888889 -2.77777778 -1.66666667 -0.55555556  0.55555556\n",
      "  1.66666667  2.77777778  3.88888889  5.        ]\n",
      "Bins for Pole Angle: [-0.418      -0.32511111 -0.23222222 -0.13933333 -0.04644444  0.04644444\n",
      "  0.13933333  0.23222222  0.32511111  0.418     ]\n",
      "Bins for Pole Angular Velocity : [-5.         -3.88888889 -2.77777778 -1.66666667 -0.55555556  0.55555556\n",
      "  1.66666667  2.77777778  3.88888889  5.        ]\n"
     ]
    }
   ],
   "source": [
    "NUM_OF_BINS = 10\n",
    "BINS = create_bins(NUM_OF_BINS)\n",
    "print(f\"Bins for Cart Position: {BINS[0]}\")\n",
    "print(f\"Bins for Cart Velocity: {BINS[1]}\")\n",
    "print(f\"Bins for Pole Angle: {BINS[2]}\")\n",
    "print(f\"Bins for Pole Angular Velocity : {BINS[3]}\")"
   ]
  },
  {
   "cell_type": "markdown",
   "metadata": {},
   "source": [
    "To transform the continuous space in discrete, we will use the function `np.digitize(x, bins)`, folow the example below:"
   ]
  },
  {
   "cell_type": "code",
   "execution_count": 7,
   "metadata": {},
   "outputs": [
    {
     "name": "stdout",
     "output_type": "stream",
     "text": [
      "[1 1 2 2 3 3 4 4 5 5 6]\n",
      "0 <= 0.0 < 2\n",
      "0 <= 1.9 < 2\n",
      "2 <= 2.0 < 4\n",
      "2 <= 3.9 < 4\n",
      "4 <= 4.0 < 6\n",
      "4 <= 5.9 < 6\n"
     ]
    }
   ],
   "source": [
    "demo_bins = np.array([0, 2, 4, 6, 8, 10])\n",
    "demo_datas = np.array([0, 1.9, 2, 3.9, 4, 5.9, 6, 7.9, 8, 9.9, 10])\n",
    "inds = np.digitize(demo_datas, demo_bins)\n",
    "print(inds)\n",
    "for i in range(demo_bins.size):\n",
    "    print(demo_bins[inds[i]-1], \"<=\", demo_datas[i], \"<\", demo_bins[inds[i]])"
   ]
  },
  {
   "cell_type": "code",
   "execution_count": 8,
   "metadata": {},
   "outputs": [],
   "source": [
    "def discretize_observation(observations, bins):\n",
    "    binned_observations = []\n",
    "    for i, observation in enumerate(observations):\n",
    "        discretized_observation = np.digitize(observation, bins[i])\n",
    "        binned_observations.append(discretized_observation)\n",
    "    return tuple(binned_observations)"
   ]
  },
  {
   "cell_type": "code",
   "execution_count": 9,
   "metadata": {},
   "outputs": [
    {
     "name": "stdout",
     "output_type": "stream",
     "text": [
      "Cart Position: -0.006243875250220299\n",
      "Cart Velocity: -0.022258570417761803\n",
      "Pole Angle: 0.033783406019210815\n",
      "Pole Angular Velocity : -0.007537125144153833\n"
     ]
    }
   ],
   "source": [
    "observations, info = env.reset()\n",
    "print(f\"Cart Position: {observations[0]}\")\n",
    "print(f\"Cart Velocity: {observations[1]}\")\n",
    "print(f\"Pole Angle: {observations[2]}\")\n",
    "print(f\"Pole Angular Velocity : {observations[3]}\")"
   ]
  },
  {
   "cell_type": "markdown",
   "metadata": {},
   "source": [
    "It's all 5 because the cart starts and the middle, an all it's values are in the middle:"
   ]
  },
  {
   "cell_type": "code",
   "execution_count": 10,
   "metadata": {},
   "outputs": [
    {
     "data": {
      "text/plain": [
       "(5, 5, 5, 5)"
      ]
     },
     "execution_count": 10,
     "metadata": {},
     "output_type": "execute_result"
    }
   ],
   "source": [
    "mapped_observation = discretize_observation(observations, BINS)\n",
    "mapped_observation"
   ]
  },
  {
   "cell_type": "code",
   "execution_count": 11,
   "metadata": {},
   "outputs": [
    {
     "data": {
      "text/plain": [
       "(10, 10, 10, 10, 2)"
      ]
     },
     "execution_count": 11,
     "metadata": {},
     "output_type": "execute_result"
    }
   ],
   "source": [
    "q_table_shape = (NUM_OF_BINS, NUM_OF_BINS, NUM_OF_BINS, NUM_OF_BINS, env.action_space.n)\n",
    "q_table_shape"
   ]
  },
  {
   "cell_type": "code",
   "execution_count": 12,
   "metadata": {},
   "outputs": [
    {
     "data": {
      "text/plain": [
       "(10, 10, 10, 10, 2)"
      ]
     },
     "execution_count": 12,
     "metadata": {},
     "output_type": "execute_result"
    }
   ],
   "source": [
    "q_table = np.zeros(q_table_shape)\n",
    "q_table.shape"
   ]
  },
  {
   "cell_type": "markdown",
   "metadata": {},
   "source": [
    "## Q-Table implementation of Q-Learning algorithm\n",
    "\n",
    "- State is the full representation of the environment, and observation is a partial information of the state usually, in the gym library, they are interchangeable terms."
   ]
  },
  {
   "cell_type": "markdown",
   "metadata": {},
   "source": [
    "- **Epochs**: How many times the agent plays the game\n",
    "- **Alpha**: Learning rate - To low, the agent can be slow to train, to high, it will overshot the learning function\n",
    "- **Gamma**: Discount factor - We want the reward now, instead of the future\n",
    "- **Decay Rate/Epsilon Reduce**: The rate that we update the epsilon to increase exploitation along the time, in the begging, we will explore a lot\n",
    "- **Epsilon**: Multi armed bandit concept (Epsilon-Greedy) - Exploration vs Exploitation trade-off"
   ]
  },
  {
   "cell_type": "code",
   "execution_count": 13,
   "metadata": {},
   "outputs": [],
   "source": [
    "EPOCHS = 30_000\n",
    "ALPHA = 0.8\n",
    "GAMMA = 0.9\n",
    "epsilon = 1.0\n",
    "BURN_IN = 1\n",
    "EPSILON_END = 15_000\n",
    "EPSILON_REDUCE = 0.0001"
   ]
  },
  {
   "cell_type": "code",
   "execution_count": 14,
   "metadata": {},
   "outputs": [],
   "source": [
    "def epsilon_greedy_action_selection(env, epsilon, q_table, discrete_state):\n",
    "    random_value = np.random.random()\n",
    "    if random_value < epsilon:  # Exploration\n",
    "        # action = env.action_space.sample()\n",
    "        # or\n",
    "        action = np.random.randint(0, env.action_space.n)\n",
    "    else:  # Exploitation\n",
    "        action = np.argmax(q_table[discrete_state])\n",
    "    return action"
   ]
  },
  {
   "cell_type": "code",
   "execution_count": 15,
   "metadata": {},
   "outputs": [],
   "source": [
    "def compute_next_q_value(old_q_value, reward, next_optimal_q_value):\n",
    "    # Q(s, a) <- Q(s, a) + alpha[R(s, a) + gamma maxQ(s', a') - Q(s, a)]\n",
    "    return old_q_value + ALPHA*(reward + GAMMA * next_optimal_q_value - old_q_value)"
   ]
  },
  {
   "cell_type": "code",
   "execution_count": 16,
   "metadata": {},
   "outputs": [],
   "source": [
    "# Another way to reduce the epsilon (increase the exploitation over time)\n",
    "def reduce_epsilon(epoch, epsilon):\n",
    "    if BURN_IN <= epoch <= EPSILON_END:\n",
    "        epsilon -= EPSILON_REDUCE\n",
    "    return epsilon"
   ]
  },
  {
   "cell_type": "code",
   "execution_count": 17,
   "metadata": {},
   "outputs": [],
   "source": [
    "MIN_POSITION = -4.8\n",
    "MAX_POSITION = 4.8\n",
    "MIN_ANGLE = -0.418\n",
    "MAX_ANGLE = 0.418\n",
    "\n",
    "def get_reward(state, done, points, reward, threshold=150):\n",
    "    if state[0] <= MIN_POSITION or state[0] >= MAX_POSITION:\n",
    "        reward -= 50\n",
    "    \n",
    "    if state[2] <= MIN_ANGLE or state[2] >= MAX_ANGLE:\n",
    "        reward -= 50\n",
    "    \n",
    "    if done and points < threshold:\n",
    "        reward -= 200\n",
    "    return reward"
   ]
  },
  {
   "cell_type": "markdown",
   "metadata": {},
   "source": [
    "Examples of output:\n",
    "- discretized_state + (action,) = (5, 5, 5, 5, 0)\n",
    "- new_discretized_state = (5, 5, 6, 6)\n",
    "- next_optimal_q_value = \\[0.8 0. ]\n",
    "- q_table\\[new_discretized_state] = 0.8"
   ]
  },
  {
   "cell_type": "code",
   "execution_count": 18,
   "metadata": {},
   "outputs": [
    {
     "data": {
      "image/png": "[encoded data removed]",
      "text/plain": [
       "<Figure size 640x480 with 1 Axes>"
      ]
     },
     "metadata": {},
     "output_type": "display_data"
    }
   ],
   "source": [
    "# In case you run on linux or macOS you can see the interactive graph\n",
    "# %matplotlib notebook\n",
    "\n",
    "log_interval = 1000\n",
    "render_interval = 2000\n",
    "\n",
    "##############################\n",
    "fig = plt.figure()\n",
    "ax = fig.add_subplot(111)\n",
    "plt.ion()\n",
    "fig.canvas.draw()\n",
    "##############################\n",
    "\n",
    "# For plotting\n",
    "points_log = []\n",
    "mean_points_log = []\n",
    "epochs = []\n",
    "\n",
    "for epoch in range(EPOCHS):\n",
    "\n",
    "    state, info = env.reset()\n",
    "    # From continous state/observation to discrete state/observation\n",
    "    discretized_state = discretize_observation(state, BINS)\n",
    "    done = False\n",
    "    points = 0\n",
    "    epochs.append(epoch)\n",
    "    \n",
    "    while not done:\n",
    "        \n",
    "        action = epsilon_greedy_action_selection(env, epsilon, q_table, discretized_state)\n",
    "        new_state, reward, term, trunc, info = env.step(action)\n",
    "        new_discretized_state = discretize_observation(new_state, BINS)\n",
    "        done = term or trunc\n",
    "                \n",
    "        reward = get_reward(new_state, done, points, reward)\n",
    "        \n",
    "        # Old Q-Value (current)\n",
    "        old_q_value = q_table[discretized_state + (action,)]\n",
    "        \n",
    "        # Find optimal Q-Value = max Q(s', a')\n",
    "        next_optimal_q_value = np.max(q_table[new_discretized_state])\n",
    "\n",
    "        # Compute Next Q-Value\n",
    "        next_q_value = compute_next_q_value(old_q_value, reward, next_optimal_q_value)\n",
    "\n",
    "        # Update Q-Table\n",
    "        q_table[discretized_state + (action,)] = next_q_value\n",
    "        \n",
    "        # new state is now the state, so s' now is s\n",
    "        discretized_state = new_discretized_state\n",
    "        \n",
    "        points += 1\n",
    "\n",
    "    # Increase exploitation over time\n",
    "    epsilon = reduce_epsilon(epoch, epsilon)\n",
    "    points_log.append(points)\n",
    "    running_mean = round(np.mean(points_log[-30:]), 2)\n",
    "    mean_points_log.append(running_mean)\n",
    "\n",
    "    ############### Plot the points and running mean ###############\n",
    "    if epoch % log_interval == 0:\n",
    "        ax.clear()\n",
    "        ax.scatter(epochs, points_log)\n",
    "        ax.plot(epochs, points_log)\n",
    "        ax.plot(epochs, mean_points_log, label=f\"Running Mean: {running_mean}\")\n",
    "        plt.legend()\n",
    "        fig.canvas.draw()\n",
    "    ################################################################\n",
    "env.close()"
   ]
  },
  {
   "cell_type": "code",
   "execution_count": 21,
   "metadata": {},
   "outputs": [
    {
     "data": {
      "image/png": "[encoded data removed]",
      "text/plain": [
       "<Figure size 640x480 with 1 Axes>"
      ]
     },
     "metadata": {},
     "output_type": "display_data"
    }
   ],
   "source": [
    "state, info = env.reset()\n",
    "# From continous state/observation to discrete state/observation\n",
    "discretized_state = discretize_observation(state, BINS)\n",
    "rewards = 0\n",
    "for _ in range(1000):\n",
    "    environment = env.render()\n",
    "    show_environment(environment)\n",
    "    action = np.argmax(q_table[discretized_state])\n",
    "    state, reward, term, trunc, info = env.step(action)\n",
    "    discretized_state = discretize_observation(state, BINS)\n",
    "    rewards += 1\n",
    "    clear_output(wait=True)\n",
    "    time.sleep(0.01)\n",
    "    if term or trunc:\n",
    "        break\n",
    "env.close()"
   ]
  },
  {
   "cell_type": "code",
   "execution_count": 20,
   "metadata": {},
   "outputs": [
    {
     "name": "stdout",
     "output_type": "stream",
     "text": [
      "You got 145 points!\n"
     ]
    }
   ],
   "source": [
    "print(f\"You got {rewards} points!\")"
   ]
  },
  {
   "cell_type": "code",
   "execution_count": null,
   "metadata": {},
   "outputs": [],
   "source": []
  }
 ],
 "metadata": {
  "colab": {
   "provenance": []
  },
  "kernelspec": {
   "display_name": "Python 3 (ipykernel)",
   "language": "python",
   "name": "python3"
  },
  "language_info": {
   "codemirror_mode": {
    "name": "ipython",
    "version": 3
   },
   "file_extension": ".py",
   "mimetype": "text/x-python",
   "name": "python",
   "nbconvert_exporter": "python",
   "pygments_lexer": "ipython3",
   "version": "3.10.11"
  }
 },
 "nbformat": 4,
 "nbformat_minor": 4
}
