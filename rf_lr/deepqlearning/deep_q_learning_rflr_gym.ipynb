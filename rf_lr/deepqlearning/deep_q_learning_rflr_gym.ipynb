{
  "cells": [
    {
      "cell_type": "markdown",
      "id": "39be0776-6c03-4349-b7e2-51bc2797307e",
      "metadata": {
        "id": "39be0776-6c03-4349-b7e2-51bc2797307e"
      },
      "source": [
        "# Study of Reinforcement Learning based on the [course](https://www.udemy.com/course/practical-ai-with-python-and-reinforcement-learning)\n",
        "\n",
        "## Libraries\n",
        "- [Gymnasium](https://gymnasium.farama.org/)"
      ]
    },
    {
      "cell_type": "markdown",
      "id": "543ae8d8-f955-40a4-86ec-aedb89e13251",
      "metadata": {
        "id": "543ae8d8-f955-40a4-86ec-aedb89e13251"
      },
      "source": [
        "## Deep Q-Learning (DQN) with manual implementation"
      ]
    },
    {
      "cell_type": "code",
      "execution_count": null,
      "id": "27541c16-b915-4ac4-9fda-46bc4c4ed44a",
      "metadata": {
        "id": "27541c16-b915-4ac4-9fda-46bc4c4ed44a"
      },
      "outputs": [],
      "source": [
        "!pip install gymnasium[classic-control] matplotlib numpy tensorflow"
      ]
    },
    {
      "cell_type": "code",
      "source": [
        "from google.colab import drive\n",
        "drive.mount('/content/drive/')\n",
        "model_path = \"/content/drive/MyDrive/some-path/cart_pole_{best_so_far}.h5\""
      ],
      "metadata": {
        "id": "HdSfr-yMHW1Z"
      },
      "id": "HdSfr-yMHW1Z",
      "execution_count": null,
      "outputs": []
    },
    {
      "cell_type": "code",
      "source": [
        "if not model_path:\n",
        "  model_path = \"./cart_pole_{best_so_far}.h5\"\n",
        "model_path"
      ],
      "metadata": {
        "colab": {
          "base_uri": "https://localhost:8080/",
          "height": 36
        },
        "id": "6d7Juu8XIwzb",
        "outputId": "59353b62-154c-4895-d312-8c212ce36ae9"
      },
      "id": "6d7Juu8XIwzb",
      "execution_count": null,
      "outputs": [
        {
          "output_type": "execute_result",
          "data": {
            "text/plain": [
              "'/content/drive/MyDrive/some-path/cart_pole_{best_so_far}.h5'"
            ],
            "application/vnd.google.colaboratory.intrinsic+json": {
              "type": "string"
            }
          },
          "metadata": {},
          "execution_count": 63
        }
      ]
    },
    {
      "cell_type": "code",
      "source": [
        "import tensorflow as tf\n",
        "\n",
        "tf.config.list_physical_devices('GPU')"
      ],
      "metadata": {
        "colab": {
          "base_uri": "https://localhost:8080/"
        },
        "id": "HVRdoKEiSYV1",
        "outputId": "3b89b664-e530-4e01-e33e-570d706b245a"
      },
      "id": "HVRdoKEiSYV1",
      "execution_count": null,
      "outputs": [
        {
          "output_type": "execute_result",
          "data": {
            "text/plain": [
              "[PhysicalDevice(name='/physical_device:GPU:0', device_type='GPU')]"
            ]
          },
          "metadata": {},
          "execution_count": 3
        }
      ]
    },
    {
      "cell_type": "code",
      "execution_count": null,
      "id": "9643807e-1dcb-419a-be40-4d597334b0c6",
      "metadata": {
        "id": "9643807e-1dcb-419a-be40-4d597334b0c6"
      },
      "outputs": [],
      "source": [
        "import time\n",
        "import numpy as np\n",
        "import random\n",
        "import gymnasium as gym\n",
        "import matplotlib\n",
        "import matplotlib.pyplot as plt\n",
        "\n",
        "from gymnasium import logger as gymlogger\n",
        "from collections import deque\n",
        "from IPython.display import clear_output\n",
        "\n",
        "gymlogger.set_level(40) # error only\n",
        "%matplotlib inline"
      ]
    },
    {
      "cell_type": "code",
      "execution_count": null,
      "id": "68fc4cf4-a678-4bdf-94e4-7e12a5b389d2",
      "metadata": {
        "id": "68fc4cf4-a678-4bdf-94e4-7e12a5b389d2"
      },
      "outputs": [],
      "source": [
        "from IPython.display import clear_output\n",
        "\n",
        "def show_environment(array):\n",
        "    plt.axis(\"off\")\n",
        "    plt.imshow(environment)\n",
        "    plt.show()"
      ]
    },
    {
      "cell_type": "code",
      "execution_count": null,
      "id": "20a2247f-93f1-4e36-b3ac-22b3712ed9c7",
      "metadata": {
        "id": "20a2247f-93f1-4e36-b3ac-22b3712ed9c7"
      },
      "outputs": [],
      "source": [
        "env_name = \"CartPole-v1\"\n",
        "env = gym.make(env_name, render_mode=\"rgb_array\")"
      ]
    },
    {
      "cell_type": "code",
      "execution_count": null,
      "id": "1524f5d4-21c1-4954-84b8-c19dfe739722",
      "metadata": {
        "id": "1524f5d4-21c1-4954-84b8-c19dfe739722",
        "colab": {
          "base_uri": "https://localhost:8080/",
          "height": 367
        },
        "outputId": "b8fe00ed-da79-430e-c7c9-4fe516155d19"
      },
      "outputs": [
        {
          "output_type": "display_data",
          "data": {
            "text/plain": [
              "<Figure size 640x480 with 1 Axes>"
            ],
            "image/png": "[encoded data removed]"
          },
          "metadata": {}
        }
      ],
      "source": [
        "env.reset()\n",
        "\n",
        "for step in range(50):\n",
        "    environment = env.render()\n",
        "    show_environment(environment)\n",
        "    action = env.action_space.sample()\n",
        "    state, reward, term, trunc, info = env.step(action)\n",
        "    clear_output(wait=True)"
      ]
    },
    {
      "cell_type": "code",
      "execution_count": null,
      "id": "6550f9b1-e964-457a-8232-f085d716c743",
      "metadata": {
        "id": "6550f9b1-e964-457a-8232-f085d716c743",
        "colab": {
          "base_uri": "https://localhost:8080/"
        },
        "outputId": "94c9d9bb-8c8b-4354-d9f7-9ae6cbae5bde"
      },
      "outputs": [
        {
          "output_type": "execute_result",
          "data": {
            "text/plain": [
              "(4, 2)"
            ]
          },
          "metadata": {},
          "execution_count": 9
        }
      ],
      "source": [
        "num_state = env.observation_space.shape[0]\n",
        "num_action = env.action_space.n\n",
        "\n",
        "num_state, num_action"
      ]
    },
    {
      "cell_type": "code",
      "execution_count": null,
      "id": "b4c04ec1-8555-45ed-91a9-b5b8803cc417",
      "metadata": {
        "id": "b4c04ec1-8555-45ed-91a9-b5b8803cc417"
      },
      "outputs": [],
      "source": [
        "EPOCHS = 200\n",
        "EPSILON_REDUCE = 0.995\n",
        "LEARNING_RATE = 0.001\n",
        "GAMMA = 0.95\n",
        "BATCH_SIZE = 32\n",
        "\n",
        "epsilon = 1.0"
      ]
    },
    {
      "cell_type": "code",
      "source": [
        "import os\n",
        "\n",
        "from keras.models import load_model, clone_model\n",
        "\n",
        "def load_best_model():\n",
        "  all_models = sorted(os.listdir(os.path.dirname(model_path)), key=lambda x: int(x.replace(\"cart_pole_\", \"\")[:-3]))\n",
        "  display(all_models)\n",
        "\n",
        "  best_model_path = all_models[-1]\n",
        "  best_model_path = os.path.join(os.path.dirname(model_path), \"\", best_model_path)\n",
        "  display(best_model_path)\n",
        "\n",
        "  print(\"Loading the best model:\", best_model_path)\n",
        "  return load_model(best_model_path)"
      ],
      "metadata": {
        "id": "H_fn2DxPwHFG"
      },
      "id": "H_fn2DxPwHFG",
      "execution_count": null,
      "outputs": []
    },
    {
      "cell_type": "code",
      "execution_count": null,
      "id": "0b29013d-51ba-4e0a-a661-ff45903f2e94",
      "metadata": {
        "id": "0b29013d-51ba-4e0a-a661-ff45903f2e94",
        "colab": {
          "base_uri": "https://localhost:8080/"
        },
        "outputId": "ca89ef60-48b1-4e5f-b9d0-25d63dd480a5"
      },
      "outputs": [
        {
          "output_type": "stream",
          "name": "stdout",
          "text": [
            "Model: \"sequential\"\n",
            "_________________________________________________________________\n",
            " Layer (type)                Output Shape              Param #   \n",
            "=================================================================\n",
            " dense (Dense)               (None, 1, 16)             80        \n",
            "                                                                 \n",
            " activation (Activation)     (None, 1, 16)             0         \n",
            "                                                                 \n",
            " dense_1 (Dense)             (None, 1, 32)             544       \n",
            "                                                                 \n",
            " activation_1 (Activation)   (None, 1, 32)             0         \n",
            "                                                                 \n",
            " dense_2 (Dense)             (None, 1, 2)              66        \n",
            "                                                                 \n",
            " activation_2 (Activation)   (None, 1, 2)              0         \n",
            "                                                                 \n",
            "=================================================================\n",
            "Total params: 690 (2.70 KB)\n",
            "Trainable params: 690 (2.70 KB)\n",
            "Non-trainable params: 0 (0.00 Byte)\n",
            "_________________________________________________________________\n"
          ]
        }
      ],
      "source": [
        "from keras.models import Sequential\n",
        "from keras.layers import Dense, Activation\n",
        "from keras.optimizers import Adam\n",
        "\n",
        "model = Sequential()\n",
        "model.add(Dense(16, input_shape=(1, num_state)))\n",
        "model.add(Activation(\"relu\"))\n",
        "model.add(Dense(32))\n",
        "model.add(Activation(\"relu\"))\n",
        "model.add(Dense(num_action))\n",
        "model.add(Activation(\"linear\"))\n",
        "model.compile(loss=\"mse\", optimizer=Adam(learning_rate=LEARNING_RATE))\n",
        "model.summary()"
      ]
    },
    {
      "cell_type": "code",
      "source": [
        "# In case you want to load the best model\n",
        "# model = load_best_model()"
      ],
      "metadata": {
        "id": "zpPjSILTwOiI"
      },
      "id": "zpPjSILTwOiI",
      "execution_count": null,
      "outputs": []
    },
    {
      "cell_type": "code",
      "execution_count": null,
      "id": "0199d2ac-5e2e-472e-a407-5b294774a6fa",
      "metadata": {
        "id": "0199d2ac-5e2e-472e-a407-5b294774a6fa"
      },
      "outputs": [],
      "source": [
        "target_model = clone_model(model)"
      ]
    },
    {
      "cell_type": "markdown",
      "id": "dbf4d503-aa00-4f4c-a294-49236f1a31c0",
      "metadata": {
        "id": "dbf4d503-aa00-4f4c-a294-49236f1a31c0"
      },
      "source": [
        "## The deque data-structure is a circular buffer with maxlen set"
      ]
    },
    {
      "cell_type": "code",
      "execution_count": null,
      "id": "04ce8908-e911-49b5-975f-975b88135fc2",
      "metadata": {
        "id": "04ce8908-e911-49b5-975f-975b88135fc2",
        "colab": {
          "base_uri": "https://localhost:8080/"
        },
        "outputId": "94ddd2ad-ce01-407a-e7c2-c7a02b4af107"
      },
      "outputs": [
        {
          "output_type": "execute_result",
          "data": {
            "text/plain": [
              "deque([])"
            ]
          },
          "metadata": {},
          "execution_count": 41
        }
      ],
      "source": [
        "deque_1 = deque(maxlen=5)\n",
        "deque_1"
      ]
    },
    {
      "cell_type": "code",
      "execution_count": null,
      "id": "635a8cd9-79a5-41c8-b3cd-67b61d608bd8",
      "metadata": {
        "id": "635a8cd9-79a5-41c8-b3cd-67b61d608bd8",
        "colab": {
          "base_uri": "https://localhost:8080/"
        },
        "outputId": "97c764e9-e6e3-4ca0-f66b-b05a9a79f6ee"
      },
      "outputs": [
        {
          "output_type": "execute_result",
          "data": {
            "text/plain": [
              "deque([0, 1, 2, 3, 4])"
            ]
          },
          "metadata": {},
          "execution_count": 42
        }
      ],
      "source": [
        "for i in range(5):\n",
        "    deque_1.append(i)\n",
        "deque_1"
      ]
    },
    {
      "cell_type": "code",
      "execution_count": null,
      "id": "b1a91eb3-dd29-4729-b578-c2a69739a640",
      "metadata": {
        "id": "b1a91eb3-dd29-4729-b578-c2a69739a640",
        "colab": {
          "base_uri": "https://localhost:8080/"
        },
        "outputId": "74b98d67-fe8f-4bb6-9956-d2de5b672543"
      },
      "outputs": [
        {
          "output_type": "execute_result",
          "data": {
            "text/plain": [
              "deque([1, 2, 3, 4, 5])"
            ]
          },
          "metadata": {},
          "execution_count": 43
        }
      ],
      "source": [
        "deque_1.append(5)\n",
        "deque_1"
      ]
    },
    {
      "cell_type": "code",
      "execution_count": null,
      "id": "5c480536-3ccf-4ca3-a4a6-9b75727ae36d",
      "metadata": {
        "id": "5c480536-3ccf-4ca3-a4a6-9b75727ae36d",
        "colab": {
          "base_uri": "https://localhost:8080/"
        },
        "outputId": "e4392e88-c327-46d1-f58b-4decc838639a"
      },
      "outputs": [
        {
          "output_type": "stream",
          "name": "stdout",
          "text": [
            "deque([0], maxlen=5)\n",
            "deque([0, 1], maxlen=5)\n",
            "deque([0, 1, 2], maxlen=5)\n",
            "deque([0, 1, 2, 3], maxlen=5)\n",
            "deque([0, 1, 2, 3, 4], maxlen=5)\n",
            "deque([1, 2, 3, 4, 5], maxlen=5)\n",
            "deque([2, 3, 4, 5, 6], maxlen=5)\n",
            "deque([3, 4, 5, 6, 7], maxlen=5)\n",
            "deque([4, 5, 6, 7, 8], maxlen=5)\n",
            "deque([5, 6, 7, 8, 9], maxlen=5)\n"
          ]
        }
      ],
      "source": [
        "deque_2 = deque(maxlen=5)\n",
        "for i in range(10):\n",
        "    deque_2.append(i)\n",
        "    print(deque_2)"
      ]
    },
    {
      "cell_type": "markdown",
      "id": "3a09842f-d235-46ad-856b-71eb457fc4f0",
      "metadata": {
        "id": "3a09842f-d235-46ad-856b-71eb457fc4f0"
      },
      "source": [
        "## Test of traversing each index of the list, but for all lists"
      ]
    },
    {
      "cell_type": "code",
      "execution_count": null,
      "id": "5b2fab6b-0879-4f2a-8789-049a92f98704",
      "metadata": {
        "id": "5b2fab6b-0879-4f2a-8789-049a92f98704",
        "colab": {
          "base_uri": "https://localhost:8080/"
        },
        "outputId": "5af480c7-636a-4789-c695-adcbeca0ff46"
      },
      "outputs": [
        {
          "output_type": "stream",
          "name": "stdout",
          "text": [
            "[(1, 2, 3), (4, 5, 6), (7, 8, 9)] <> [(1, 4, 7), (2, 5, 8), (3, 6, 9)]\n"
          ]
        }
      ],
      "source": [
        "test_tuple = [(1, 2, 3), (4, 5, 6), (7, 8, 9)]\n",
        "zipped_list = list(zip(*test_tuple))\n",
        "print(test_tuple, \"<>\", zipped_list)"
      ]
    },
    {
      "cell_type": "markdown",
      "id": "c524ce54-474a-4c10-ae4a-62e8304cd0b7",
      "metadata": {
        "id": "c524ce54-474a-4c10-ae4a-62e8304cd0b7"
      },
      "source": [
        "## In the way below, we can work with vectorization"
      ]
    },
    {
      "cell_type": "code",
      "execution_count": null,
      "id": "b867277b-ec92-454e-bbe3-2f578469fc46",
      "metadata": {
        "id": "b867277b-ec92-454e-bbe3-2f578469fc46",
        "colab": {
          "base_uri": "https://localhost:8080/"
        },
        "outputId": "b8042a9a-608f-496b-ebbf-f750625f67d6"
      },
      "outputs": [
        {
          "output_type": "execute_result",
          "data": {
            "text/plain": [
              "[array([1, 4, 7]), array([2, 5, 8]), array([3, 6, 9])]"
            ]
          },
          "metadata": {},
          "execution_count": 46
        }
      ],
      "source": [
        "list(map(np.array, zip(*test_tuple)))"
      ]
    },
    {
      "cell_type": "code",
      "execution_count": null,
      "id": "fe37d25f-6ab3-4787-8f55-1506e42087dc",
      "metadata": {
        "id": "fe37d25f-6ab3-4787-8f55-1506e42087dc"
      },
      "outputs": [],
      "source": [
        "def replay(replay_buffer, batch_size, model, target_model):\n",
        "    if len(replay_buffer) < batch_size:\n",
        "        return\n",
        "\n",
        "    samples = random.sample(replay_buffer, batch_size)\n",
        "    target_batch = []\n",
        "    zipped_samples = list(zip(*samples))\n",
        "\n",
        "    states, actions, rewards, next_states, dones = zipped_samples\n",
        "    targets = target_model.predict(np.array(states), verbose=0)\n",
        "    q_values = model.predict(np.array(next_states), verbose=0)\n",
        "\n",
        "    for i in range(batch_size):\n",
        "        q_value = max(q_values[i][0])\n",
        "        target = targets[i].copy()\n",
        "        if dones[i]:\n",
        "            target[0][actions[i]] = rewards[i]\n",
        "        else:\n",
        "            target[0][actions[i]] = rewards[i] + q_value * GAMMA\n",
        "        target_batch.append(target)\n",
        "\n",
        "    model.fit(np.array(states), np.array(target_batch), epochs=1, verbose=0)"
      ]
    },
    {
      "cell_type": "code",
      "execution_count": null,
      "id": "db8319d8-c44c-4a54-aa61-1af8a6a35222",
      "metadata": {
        "id": "db8319d8-c44c-4a54-aa61-1af8a6a35222"
      },
      "outputs": [],
      "source": [
        "def epsilon_greedy_action_selection(env, model, epsilon, state):\n",
        "    if np.random.random() < epsilon:  # Exploration\n",
        "        action = env.action_space.sample()\n",
        "        # or\n",
        "        # action = np.random.randint(0, env.action_space.n)\n",
        "    else:  # Exploitation\n",
        "        # Example state: [0.4, 0.6]\n",
        "        prediction = model.predict(state, verbose=0)\n",
        "        action = np.argmax(prediction)\n",
        "\n",
        "    return action"
      ]
    },
    {
      "cell_type": "markdown",
      "id": "a3680315-bc4d-460c-82fb-17d6a1f7205b",
      "metadata": {
        "id": "a3680315-bc4d-460c-82fb-17d6a1f7205b"
      },
      "source": [
        "## Creation of the replay buffer (used to avoid overfitting too)"
      ]
    },
    {
      "cell_type": "code",
      "execution_count": null,
      "id": "a03c44cb-e041-40fa-8887-04c4638bbc21",
      "metadata": {
        "id": "a03c44cb-e041-40fa-8887-04c4638bbc21"
      },
      "outputs": [],
      "source": [
        "replay_buffer = deque(maxlen=20_000)\n",
        "update_target_model = 10"
      ]
    },
    {
      "cell_type": "code",
      "execution_count": null,
      "id": "0f92f45a-2f6a-44aa-9e18-01a2ec986df7",
      "metadata": {
        "id": "0f92f45a-2f6a-44aa-9e18-01a2ec986df7"
      },
      "outputs": [],
      "source": [
        "def update_model_handler(epoch, update_target_model, model, target_model):\n",
        "    if epoch > 0 and epoch % update_target_model == 0:\n",
        "        target_model.set_weights(model.get_weights())"
      ]
    },
    {
      "cell_type": "code",
      "execution_count": null,
      "id": "d8b92a64-bcf2-40db-82a1-d1b49e023c3f",
      "metadata": {
        "scrolled": true,
        "id": "d8b92a64-bcf2-40db-82a1-d1b49e023c3f",
        "colab": {
          "base_uri": "https://localhost:8080/"
        },
        "outputId": "0b04c17e-2de5-4edd-ad28-ba710901d0de"
      },
      "outputs": [
        {
          "output_type": "stream",
          "name": "stderr",
          "text": [
            "/usr/local/lib/python3.10/dist-packages/keras/src/engine/training.py:3103: UserWarning: You are saving your model as an HDF5 file via `model.save()`. This file format is considered legacy. We recommend using instead the native Keras format, e.g. `model.save('my_model.keras')`.\n",
            "  saving_api.save_model(\n"
          ]
        },
        {
          "output_type": "stream",
          "name": "stdout",
          "text": [
            "0 - Points: 14, Eps: 0.995, Best: 14\n",
            "25 - Points: 16, Eps: 0.8778091417340573, Best: 76\n",
            "50 - Points: 51, Eps: 0.7744209942832988, Best: 76\n",
            "75 - Points: 117, Eps: 0.6832098777212641, Best: 137\n",
            "100 - Points: 83, Eps: 0.6027415843082742, Best: 169\n",
            "125 - Points: 130, Eps: 0.531750826943791, Best: 217\n",
            "150 - Points: 118, Eps: 0.46912134373457726, Best: 267\n",
            "175 - Points: 53, Eps: 0.41386834584198684, Best: 369\n"
          ]
        }
      ],
      "source": [
        "best_so_far = 0\n",
        "\n",
        "for epoch in range(EPOCHS):\n",
        "    state, info = env.reset()\n",
        "    state = state.reshape([1, num_state])\n",
        "    done = False\n",
        "    points = 0\n",
        "\n",
        "    while not done:\n",
        "        action = epsilon_greedy_action_selection(env, model, epsilon, state)\n",
        "\n",
        "        next_state, reward, trunc, term, info = env.step(action)\n",
        "        next_state = next_state.reshape([1, num_state])\n",
        "        done = trunc or term\n",
        "\n",
        "        replay_buffer.append((state, action, reward, next_state, done))\n",
        "\n",
        "        state = next_state\n",
        "        points += 1\n",
        "\n",
        "        replay(replay_buffer, BATCH_SIZE, model, target_model)\n",
        "\n",
        "    epsilon *= EPSILON_REDUCE  # EPS*0.995\n",
        "    update_model_handler(epoch, update_target_model, model, target_model)\n",
        "\n",
        "    if points > best_so_far:\n",
        "        best_so_far = points\n",
        "        model.save(model_path.format(best_so_far=best_so_far), overwrite=True)\n",
        "\n",
        "    if epoch % 25 == 0:\n",
        "        print(f\"{epoch} - Points: {points}, Eps: {epsilon}, Best: {best_so_far}\")"
      ]
    },
    {
      "cell_type": "code",
      "execution_count": null,
      "id": "a4e5b2bd-1fad-4201-be79-4cadcc2e977a",
      "metadata": {
        "id": "a4e5b2bd-1fad-4201-be79-4cadcc2e977a"
      },
      "outputs": [],
      "source": [
        "model.save(model_path.format(best_so_far=f\"{best_so_far}\"), overwrite=True)"
      ]
    },
    {
      "cell_type": "code",
      "source": [
        "best_model = load_best_model()\n",
        "\n",
        "state, info = env.reset()\n",
        "\n",
        "for step in range(300):\n",
        "    environment = env.render()\n",
        "    show_environment(environment)\n",
        "    action = np.argmax(best_model.predict(state.reshape([1, 1, num_state]), verbose=0))\n",
        "    state, reward, term, trunc, info = env.step(action)\n",
        "\n",
        "    if term or trunc:\n",
        "        break\n",
        "    clear_output(wait=True)\n",
        "env.close()"
      ],
      "metadata": {
        "colab": {
          "base_uri": "https://localhost:8080/",
          "height": 367
        },
        "id": "cNRnV_sqMS4-",
        "outputId": "d6afffc6-57b8-415f-d382-f238f73b62c6"
      },
      "id": "cNRnV_sqMS4-",
      "execution_count": null,
      "outputs": [
        {
          "output_type": "display_data",
          "data": {
            "text/plain": [
              "<Figure size 640x480 with 1 Axes>"
            ],
            "image/png": "[encoded data removed]"
          },
          "metadata": {}
        }
      ]
    }
  ],
  "metadata": {
    "kernelspec": {
      "display_name": "Python 3",
      "name": "python3"
    },
    "language_info": {
      "codemirror_mode": {
        "name": "ipython",
        "version": 3
      },
      "file_extension": ".py",
      "mimetype": "text/x-python",
      "name": "python",
      "nbconvert_exporter": "python",
      "pygments_lexer": "ipython3",
      "version": "3.10.11"
    },
    "colab": {
      "provenance": [],
      "gpuType": "T4"
    },
    "accelerator": "GPU"
  },
  "nbformat": 4,
  "nbformat_minor": 5
}