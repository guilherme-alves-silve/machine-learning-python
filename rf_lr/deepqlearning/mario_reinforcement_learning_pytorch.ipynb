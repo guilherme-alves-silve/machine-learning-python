{
 "cells": [
  {
   "cell_type": "markdown",
   "metadata": {
    "id": "_IiP_W7RxoXc"
   },
   "source": [
    "# Reinforcement Learning with Mario using library [gym-super-mario-bros](https://pypi.org/project/gym-super-mario-bros/)\n",
    "\n",
    "Study based on the course: **[Train AI to Play Super Mario Bros! || Reinforcement Learning Completely from Scratch](https://www.youtube.com/watch?v=_gmQZToTMac)**\n",
    "\n",
    "## Libraries\n",
    "\n",
    "- [gym-super-mario-bros](https://github.com/Kautenja/gym-super-mario-bros)\n",
    "- [PyTorch](https://pytorch.org/)\n",
    "\n",
    "## Based on the git\n",
    "\n",
    "- [Super-Mario-Bros-RL](https://github.com/Sourish07/Super-Mario-Bros-RL/)"
   ]
  },
  {
   "cell_type": "code",
   "execution_count": null,
   "metadata": {
    "id": "PmU-wtiJu11w"
   },
   "outputs": [],
   "source": [
    "!pip install gym-super-mario-bros==7.4.0 gym[other]==0.23.1\n",
    "# !pip install torch torchvision torchaudio --index-url https://download.pytorch.org/whl/cu121\n",
    "!pip install torch torchvision torchaudio tensordict torchrl"
   ]
  },
  {
   "cell_type": "code",
   "execution_count": 1,
   "metadata": {
    "colab": {
     "base_uri": "https://localhost:8080/"
    },
    "id": "p3oxev2Fuh7F",
    "outputId": "a85b71ab-36f3-4dcd-b801-b9ad2dccd5b0"
   },
   "outputs": [
    {
     "name": "stdout",
     "output_type": "stream",
     "text": [
      "Package                      Version\n",
      "---------------------------- ---------------\n",
      "absl-py                      2.1.0\n",
      "anyio                        4.3.0\n",
      "argon2-cffi                  23.1.0\n",
      "argon2-cffi-bindings         21.2.0\n",
      "arrow                        1.3.0\n",
      "asttokens                    2.4.1\n",
      "astunparse                   1.6.3\n",
      "async-lru                    2.0.4\n",
      "attrs                        23.2.0\n",
      "Babel                        2.14.0\n",
      "backcall                     0.2.0\n",
      "beautifulsoup4               4.12.3\n",
      "bleach                       6.1.0\n",
      "cachetools                   5.3.2\n",
      "certifi                      2024.2.2\n",
      "cffi                         1.16.0\n",
      "charset-normalizer           3.3.2\n",
      "cloudpickle                  3.0.0\n",
      "colorama                     0.4.6\n",
      "comm                         0.2.1\n",
      "contourpy                    1.1.1\n",
      "cycler                       0.12.1\n",
      "debugpy                      1.8.1\n",
      "decorator                    4.4.2\n",
      "defusedxml                   0.7.1\n",
      "exceptiongroup               1.2.0\n",
      "executing                    2.0.1\n",
      "fastjsonschema               2.19.1\n",
      "filelock                     3.13.1\n",
      "flatbuffers                  23.5.26\n",
      "fonttools                    4.49.0\n",
      "fqdn                         1.5.1\n",
      "fsspec                       2024.2.0\n",
      "gast                         0.4.0\n",
      "google-auth                  2.28.1\n",
      "google-auth-oauthlib         0.4.6\n",
      "google-pasta                 0.2.0\n",
      "grpcio                       1.62.0\n",
      "gym                          0.26.2\n",
      "gym-notices                  0.0.8\n",
      "gym-super-mario-bros         7.4.0\n",
      "h11                          0.14.0\n",
      "h5py                         3.10.0\n",
      "httpcore                     1.0.4\n",
      "httpx                        0.27.0\n",
      "idna                         3.6\n",
      "imageio                      2.34.0\n",
      "imageio-ffmpeg               0.4.9\n",
      "importlib-metadata           7.0.1\n",
      "importlib-resources          6.1.1\n",
      "ipykernel                    6.29.2\n",
      "ipython                      8.12.3\n",
      "isoduration                  20.11.0\n",
      "jedi                         0.19.1\n",
      "Jinja2                       3.1.3\n",
      "json5                        0.9.17\n",
      "jsonpointer                  2.4\n",
      "jsonschema                   4.21.1\n",
      "jsonschema-specifications    2023.12.1\n",
      "jupyter_client               8.6.0\n",
      "jupyter_core                 5.7.1\n",
      "jupyter-events               0.9.0\n",
      "jupyter-lsp                  2.2.2\n",
      "jupyter_server               2.12.5\n",
      "jupyter_server_terminals     0.5.2\n",
      "jupyterlab                   4.1.2\n",
      "jupyterlab_pygments          0.3.0\n",
      "jupyterlab_server            2.25.3\n",
      "keras                        2.10.0\n",
      "Keras-Preprocessing          1.1.2\n",
      "kiwisolver                   1.4.5\n",
      "libclang                     16.0.6\n",
      "lz4                          4.3.3\n",
      "Markdown                     3.5.2\n",
      "MarkupSafe                   2.1.5\n",
      "matplotlib                   3.7.5\n",
      "matplotlib-inline            0.1.6\n",
      "mistune                      3.0.2\n",
      "moviepy                      1.0.3\n",
      "mpmath                       1.3.0\n",
      "nbclient                     0.9.0\n",
      "nbconvert                    7.16.1\n",
      "nbformat                     5.9.2\n",
      "nes-py                       8.2.1\n",
      "nest-asyncio                 1.6.0\n",
      "networkx                     3.1\n",
      "notebook                     7.1.0\n",
      "notebook_shim                0.2.4\n",
      "numpy                        1.24.4\n",
      "oauthlib                     3.2.2\n",
      "opencv-python                4.9.0.80\n",
      "opt-einsum                   3.3.0\n",
      "overrides                    7.7.0\n",
      "packaging                    23.2\n",
      "pandocfilters                1.5.1\n",
      "parso                        0.8.3\n",
      "pickleshare                  0.7.5\n",
      "pillow                       10.2.0\n",
      "pip                          23.3.1\n",
      "pkgutil_resolve_name         1.3.10\n",
      "platformdirs                 4.2.0\n",
      "proglog                      0.1.10\n",
      "prometheus_client            0.20.0\n",
      "prompt-toolkit               3.0.43\n",
      "protobuf                     3.19.6\n",
      "psutil                       5.9.8\n",
      "pure-eval                    0.2.2\n",
      "pyasn1                       0.5.1\n",
      "pyasn1-modules               0.3.0\n",
      "pycparser                    2.21\n",
      "pyglet                       1.5.21\n",
      "Pygments                     2.17.2\n",
      "pyparsing                    3.1.1\n",
      "python-dateutil              2.8.2\n",
      "python-json-logger           2.0.7\n",
      "pytz                         2024.1\n",
      "pywin32                      306\n",
      "pywinpty                     2.0.12\n",
      "PyYAML                       6.0.1\n",
      "pyzmq                        25.1.2\n",
      "referencing                  0.33.0\n",
      "requests                     2.31.0\n",
      "requests-oauthlib            1.3.1\n",
      "rfc3339-validator            0.1.4\n",
      "rfc3986-validator            0.1.1\n",
      "rpds-py                      0.18.0\n",
      "rsa                          4.9\n",
      "Send2Trash                   1.8.2\n",
      "setuptools                   68.2.2\n",
      "six                          1.16.0\n",
      "sniffio                      1.3.0\n",
      "soupsieve                    2.5\n",
      "stack-data                   0.6.3\n",
      "sympy                        1.12\n",
      "tensorboard                  2.10.1\n",
      "tensorboard-data-server      0.6.1\n",
      "tensorboard-plugin-wit       1.8.1\n",
      "tensordict                   0.3.0\n",
      "tensorflow                   2.10.1\n",
      "tensorflow-estimator         2.10.0\n",
      "tensorflow-io-gcs-filesystem 0.31.0\n",
      "termcolor                    2.4.0\n",
      "terminado                    0.18.0\n",
      "tinycss2                     1.2.1\n",
      "tomli                        2.0.1\n",
      "torch                        2.2.1+cu118\n",
      "torchaudio                   2.2.1+cu118\n",
      "torchrl                      0.3.0\n",
      "torchvision                  0.17.1+cu118\n",
      "tornado                      6.4\n",
      "tqdm                         4.66.2\n",
      "traitlets                    5.14.1\n",
      "types-python-dateutil        2.8.19.20240106\n",
      "typing_extensions            4.9.0\n",
      "uri-template                 1.3.0\n",
      "urllib3                      2.2.1\n",
      "wcwidth                      0.2.13\n",
      "webcolors                    1.13\n",
      "webencodings                 0.5.1\n",
      "websocket-client             1.7.0\n",
      "Werkzeug                     3.0.1\n",
      "wheel                        0.41.2\n",
      "wrapt                        1.16.0\n",
      "zipp                         3.17.0\n"
     ]
    }
   ],
   "source": [
    "!pip list"
   ]
  },
  {
   "cell_type": "code",
   "execution_count": 1,
   "metadata": {
    "id": "XujCZwNvuj_i"
   },
   "outputs": [],
   "source": [
    "import gym_super_mario_bros\n",
    "\n",
    "from gym_super_mario_bros.actions import RIGHT_ONLY\n",
    "from nes_py.wrappers import JoypadSpace"
   ]
  },
  {
   "cell_type": "code",
   "execution_count": 2,
   "metadata": {
    "colab": {
     "base_uri": "https://localhost:8080/"
    },
    "id": "DQoHpQkMuspJ",
    "outputId": "3bc0d605-c744-44db-af8c-e2a1f85fdfb5"
   },
   "outputs": [
    {
     "name": "stderr",
     "output_type": "stream",
     "text": [
      "D:\\Programas\\miniconda3\\envs\\rflr_mario\\lib\\site-packages\\gym\\envs\\registration.py:505: UserWarning: \u001b[33mWARN: The environment SuperMarioBros-v0 is out of date. You should consider upgrading to version `v3` with the environment ID `SuperMarioBros-v3`.\u001b[0m\n",
      "  logger.warn(\n"
     ]
    }
   ],
   "source": [
    "ENV_NAME = \"SuperMarioBros-v0\"\n",
    "env = gym_super_mario_bros.make(ENV_NAME)\n",
    "env = JoypadSpace(env, RIGHT_ONLY)"
   ]
  },
  {
   "cell_type": "code",
   "execution_count": 2,
   "metadata": {
    "id": "ixGjwzZywyUN"
   },
   "outputs": [],
   "source": [
    "import matplotlib.pyplot as plt\n",
    "\n",
    "from IPython.display import clear_output\n",
    "\n",
    "def show(img):\n",
    "  plt.imshow(img)\n",
    "  plt.axis(\"off\")\n",
    "  plt.show()"
   ]
  },
  {
   "cell_type": "code",
   "execution_count": 4,
   "metadata": {
    "colab": {
     "base_uri": "https://localhost:8080/",
     "height": 406
    },
    "id": "kobe7JZnwL6F",
    "outputId": "97bcb66d-03b7-43d6-a62c-7b3bd7e083cd"
   },
   "outputs": [
    {
     "data": {
      "image/png": "[encoded data removed]",
      "text/plain": [
       "<Figure size 640x480 with 1 Axes>"
      ]
     },
     "metadata": {},
     "output_type": "display_data"
    }
   ],
   "source": [
    "env.reset()\n",
    "\n",
    "# The done is returned when the number of lifes reach 0\n",
    "for step in range(30):\n",
    "  action = RIGHT_ONLY.index([\"right\"])\n",
    "  state, reward, done, info = env.step(action)\n",
    "  show(state)\n",
    "  clear_output(wait=True)\n",
    "  if done:\n",
    "    break"
   ]
  },
  {
   "cell_type": "code",
   "execution_count": 5,
   "metadata": {
    "colab": {
     "base_uri": "https://localhost:8080/",
     "height": 406
    },
    "id": "a8MKeP9YwoIQ",
    "outputId": "7f5f0865-580a-472b-a4b5-a3265d1a8e35"
   },
   "outputs": [
    {
     "data": {
      "image/png": "[encoded data removed]",
      "text/plain": [
       "<Figure size 640x480 with 1 Axes>"
      ]
     },
     "metadata": {},
     "output_type": "display_data"
    }
   ],
   "source": [
    "env.reset()\n",
    "\n",
    "for step in range(30):\n",
    "  action = env.action_space.sample()\n",
    "  state, reward, done, info = env.step(action)\n",
    "  show(state)\n",
    "  clear_output(wait=True)\n",
    "\n",
    "  if done:\n",
    "    break\n",
    "env.close()"
   ]
  },
  {
   "cell_type": "code",
   "execution_count": 3,
   "metadata": {
    "id": "MjskDZTzy0E5"
   },
   "outputs": [],
   "source": [
    "import numpy as np\n",
    "\n",
    "from gym import Wrapper\n",
    "from gym.wrappers import GrayScaleObservation, ResizeObservation, FrameStack\n",
    "\n",
    "\n",
    "class SkipFrame(Wrapper):\n",
    "\n",
    "  def __init__(self, env, skip):\n",
    "    super().__init__(env)\n",
    "    self.skip = skip\n",
    "\n",
    "  def step(self, action):\n",
    "    total_reward = 0.0\n",
    "    done = False\n",
    "    for _ in range(self.skip):\n",
    "      next_state, reward, done, info = self.env.step(action)\n",
    "      total_reward += reward\n",
    "      if done:\n",
    "        break\n",
    "\n",
    "    return next_state, reward, done, info"
   ]
  },
  {
   "cell_type": "markdown",
   "metadata": {
    "id": "qXZaQO1XzoqF"
   },
   "source": [
    "## Skip Frames\n",
    "\n",
    "Skip 4 frames so we can train faster, and because, the diffence between 1 frame and the other, don't gain much information, so, in this case, skipping 4 frames, is good enough to train the agent"
   ]
  },
  {
   "cell_type": "code",
   "execution_count": 4,
   "metadata": {
    "id": "RMZMa7ZHzjI8"
   },
   "outputs": [],
   "source": [
    "def apply_wrappers(env):\n",
    "  env = SkipFrame(env, skip=4)\n",
    "  env = ResizeObservation(env, shape=84)\n",
    "  env = GrayScaleObservation(env)\n",
    "  env = FrameStack(env, num_stack=4, lz4_compress=True)\n",
    "  return env"
   ]
  },
  {
   "cell_type": "code",
   "execution_count": 5,
   "metadata": {
    "id": "XC7AcLNr0MhJ"
   },
   "outputs": [],
   "source": [
    "import torch\n",
    "\n",
    "from torch import nn\n",
    "\n",
    "\n",
    "class AgentNN(nn.Module):\n",
    "\n",
    "  def __init__(self, input_shape, n_actions, freeze=False):\n",
    "    super().__init__()\n",
    "    self.conv_layers = nn.Sequential(\n",
    "        nn.Conv2d(input_shape[0], 32, kernel_size=8, stride=4),\n",
    "        nn.ReLU(),\n",
    "        nn.Conv2d(32, 64, kernel_size=4, stride=2),\n",
    "        nn.ReLU(),\n",
    "        nn.Conv2d(64, 64, kernel_size=3, stride=1),\n",
    "        nn.ReLU()\n",
    "    )\n",
    "\n",
    "    conv_out_size = self._get_conv_out(input_shape)\n",
    "    self.network = nn.Sequential(\n",
    "        self.conv_layers,\n",
    "        nn.Flatten(),\n",
    "        nn.Linear(conv_out_size, 512),\n",
    "        nn.ReLU(),\n",
    "        nn.Linear(512, n_actions)\n",
    "    )\n",
    "\n",
    "    if freeze:\n",
    "      self._freeze()\n",
    "\n",
    "    self.device = \"cuda\" if torch.cuda.is_available() else \"cpu\"\n",
    "    self.to(self.device)\n",
    "\n",
    "  def _get_conv_out(self, shape):\n",
    "    # Used for dynamic discovery of the convolution layer\n",
    "    o = self.conv_layers(torch.zeros(1, *shape))\n",
    "    return int(np.prod(o.size()))\n",
    "\n",
    "  def _freeze(self):\n",
    "    # Avoid modification of the network when evaluating or when deployed\n",
    "    for param in self.network.parameters():\n",
    "      param.requires_grad = False\n",
    "\n",
    "  def forward(self, x):\n",
    "    return self.network(x)"
   ]
  },
  {
   "cell_type": "code",
   "execution_count": 6,
   "metadata": {
    "colab": {
     "base_uri": "https://localhost:8080/"
    },
    "id": "kUPRitgE1BUy",
    "outputId": "02ddd616-6435-4f44-b9bf-e91a5200e419"
   },
   "outputs": [],
   "source": [
    "from tensordict import TensorDict\n",
    "from torchrl.data import TensorDictReplayBuffer, LazyMemmapStorage\n",
    "\n",
    "class Agent:\n",
    "\n",
    "  def __init__(self,\n",
    "               input_dims,\n",
    "               num_actions,\n",
    "               lr=0.00025,\n",
    "               gamma=0.9,\n",
    "               epsilon=1.0,\n",
    "               eps_decay=0.99999975,\n",
    "               eps_min=0.1,\n",
    "               batch_size=32,\n",
    "               sync_network_rate=10_000,\n",
    "               replay_buffer_capacity=100_000):\n",
    "    self.num_actions = num_actions\n",
    "    self.learn_step_counter = 0\n",
    "\n",
    "    # Hyperparameters\n",
    "    self.lr = lr\n",
    "    self.gamma = gamma\n",
    "    self.epsilon = epsilon\n",
    "    self.eps_decay = eps_decay\n",
    "    self.eps_min = eps_min\n",
    "    self.batch_size = batch_size\n",
    "    self.sync_network_rate = sync_network_rate\n",
    "\n",
    "    # Networks\n",
    "    self.online_network = AgentNN(input_dims, num_actions)\n",
    "    self.target_network = AgentNN(input_dims, num_actions, freeze=True)\n",
    "\n",
    "    # Optimizer and loss\n",
    "    self.optimizer = torch.optim.Adam(self.online_network.parameters(), lr=self.lr)\n",
    "    self.loss = torch.nn.MSELoss()\n",
    "\n",
    "    # Replay buffer\n",
    "    storage = LazyMemmapStorage(replay_buffer_capacity)\n",
    "    self.replay_buffer = TensorDictReplayBuffer(storage=storage)\n",
    "\n",
    "  def choose_action(self, observation):\n",
    "    if np.random.random() < self.epsilon:\n",
    "      return np.random.randint(self.num_actions)\n",
    "\n",
    "    observation = (torch.tensor(np.array(observation), dtype=torch.float32)\n",
    "                        .unsqueeze(0)\n",
    "                        .to(self.online_network.device))\n",
    "    return self.online_network(observation).argmax().item()\n",
    "\n",
    "  def decay_epsilon(self):\n",
    "    self.epsilon = max(self.epsilon * self.eps_decay, self.eps_min)\n",
    "\n",
    "  def store_in_memory(self, state, action, reward, next_state, done):\n",
    "    self.replay_buffer.add(TensorDict({\n",
    "        \"state\": torch.tensor(np.array(state), dtype=torch.float32),\n",
    "        \"action\": torch.tensor(action),\n",
    "        \"reward\": torch.tensor(reward),\n",
    "        \"next_state\": torch.tensor(np.array(next_state), dtype=torch.float32),\n",
    "        \"done\": torch.tensor(done)\n",
    "    }, batch_size=[]))\n",
    "\n",
    "  def sync_networks(self):\n",
    "    if self.learn_step_counter % self.sync_network_rate == 0 and self.learn_step_counter > 0:\n",
    "      self.target_network.load_state_dict(self.online_network.state_dict())\n",
    "\n",
    "  def learn(self):\n",
    "    if len(self.replay_buffer) < self.batch_size:\n",
    "      return\n",
    "\n",
    "    self.sync_networks()\n",
    "\n",
    "    self.optimizer.zero_grad()\n",
    "\n",
    "    samples = self.replay_buffer.sample(self.batch_size).to(self.online_network.device)\n",
    "\n",
    "    keys = (\"state\", \"action\", \"reward\", \"next_state\", \"done\")\n",
    "\n",
    "    states, actions, rewards, next_states, dones = [samples[key] for key in keys]\n",
    "\n",
    "    predicted_q_values = self.online_network(states)\n",
    "    predicted_q_values = predicted_q_values[np.arange(self.batch_size), actions.squeeze()]\n",
    "\n",
    "    target_q_values = self.target_network(next_states).max(dim=1)[0]\n",
    "    target_q_values = reward + self.gamma * target_q_values * (1 - dones.float())\n",
    "\n",
    "    loss = self.loss(predicted_q_values, target_q_values)\n",
    "    loss.backward()\n",
    "    self.optimizer.step()\n",
    "\n",
    "    self.learn_step_counter += 1\n",
    "    self.decay_epsilon()\n",
    "\n",
    "  def get_custom_reward(self, reward, info, new_info, done):\n",
    "    # Died\n",
    "    if not done and new_info[\"life\"] < info[\"life\"]:\n",
    "      reward -= 5\n",
    "\n",
    "    # Got coins\n",
    "    if new_info[\"coins\"] > info[\"coins\"]:\n",
    "      reward += 0.1\n",
    "\n",
    "    return reward\n",
    "\n",
    "  def save_model(self, path):\n",
    "    # https://pytorch.org/tutorials/recipes/recipes/saving_and_loading_a_general_checkpoint.html\n",
    "    torch.save({\n",
    "        \"model_state_dict\": self.online_network.state_dict(),\n",
    "        \"optimizer_state_dict\": self.optimizer.state_dict()\n",
    "    }, path)\n",
    "\n",
    "  def load_model(self, path):\n",
    "    checkpoint = torch.load(path)\n",
    "    self.online_network.load_state_dict(checkpoint[\"model_state_dict\"])\n",
    "    self.optimizer.load_state_dict(checkpoint[\"optimizer_state_dict\"])\n",
    "    self.target_network.load_state_dict(torch.load(path)[\"model_state_dict\"])"
   ]
  },
  {
   "cell_type": "code",
   "execution_count": null,
   "metadata": {
    "colab": {
     "base_uri": "https://localhost:8080/",
     "height": 1000
    },
    "id": "VYnAwdDQ1olo",
    "outputId": "c881f409-dd07-4876-a978-e0ac75c1f794"
   },
   "outputs": [
    {
     "name": "stdout",
     "output_type": "stream",
     "text": [
      "Using CUDA device: NVIDIA GeForce GTX 1080\n"
     ]
    },
    {
     "name": "stderr",
     "output_type": "stream",
     "text": [
      "D:\\Programas\\miniconda3\\envs\\rflr_mario\\lib\\site-packages\\gym\\envs\\registration.py:505: UserWarning: \u001b[33mWARN: The environment SuperMarioBrosRandomStages-v0 is out of date. You should consider upgrading to version `v3` with the environment ID `SuperMarioBrosRandomStages-v3`.\u001b[0m\n",
      "  logger.warn(\n"
     ]
    },
    {
     "name": "stdout",
     "output_type": "stream",
     "text": [
      "Loading last model with epoch 3293 and total reward 8\n",
      "[3300/1500000] Total reward: 23.0 Epsilon: 0.9999235029164777 Size of replay buffer: 337 Learn step counter: 306\n",
      "[3400/1500000] Total reward: 30.0 Epsilon: 0.9984776597466357 Size of replay buffer: 6125 Learn step counter: 6094\n",
      "[3500/1500000] Total reward: 48.0 Epsilon: 0.9973704629755773 Size of replay buffer: 10563 Learn step counter: 10532\n",
      "[3600/1500000] Total reward: 24.0 Epsilon: 0.9959039114357088 Size of replay buffer: 16449 Learn step counter: 16418\n",
      "[3700/1500000] Total reward: 78.0 Epsilon: 0.9946478732690814 Size of replay buffer: 21497 Learn step counter: 21466\n",
      "[3800/1500000] Total reward: 210.0 Epsilon: 0.9935302686089353 Size of replay buffer: 25994 Learn step counter: 25963\n",
      "[3900/1500000] Total reward: 56.0 Epsilon: 0.9923891096689911 Size of replay buffer: 30591 Learn step counter: 30560\n"
     ]
    },
    {
     "data": {
      "image/png": "[encoded data removed]",
      "text/plain": [
       "<Figure size 640x480 with 1 Axes>"
      ]
     },
     "metadata": {},
     "output_type": "display_data"
    },
    {
     "name": "stdout",
     "output_type": "stream",
     "text": [
      "[4000/1500000] Total reward: 46.0 Epsilon: 0.9909895881324888 Size of replay buffer: 36236 Learn step counter: 36205\n",
      "[4100/1500000] Total reward: 63.0 Epsilon: 0.9894782437225577 Size of replay buffer: 42341 Learn step counter: 42310\n",
      "[4200/1500000] Total reward: 43.0 Epsilon: 0.9879842708900534 Size of replay buffer: 48385 Learn step counter: 48354\n",
      "[4300/1500000] Total reward: 62.0 Epsilon: 0.9868613242939975 Size of replay buffer: 52934 Learn step counter: 52903\n",
      "[4400/1500000] Total reward: 83.0 Epsilon: 0.9854402810554101 Size of replay buffer: 58698 Learn step counter: 58667\n",
      "[4500/1500000] Total reward: 57.0 Epsilon: 0.9841504453514328 Size of replay buffer: 63937 Learn step counter: 63906\n",
      "[4600/1500000] Total reward: 76.0 Epsilon: 0.9830505340807864 Size of replay buffer: 68410 Learn step counter: 68379\n",
      "[4700/1500000] Total reward: 63.0 Epsilon: 0.9818384431949978 Size of replay buffer: 73345 Learn step counter: 73314\n",
      "[4800/1500000] Total reward: 11.0 Epsilon: 0.9807989813161534 Size of replay buffer: 77582 Learn step counter: 77551\n",
      "[4900/1500000] Total reward: 56.0 Epsilon: 0.9795815849886261 Size of replay buffer: 82550 Learn step counter: 82519\n"
     ]
    },
    {
     "data": {
      "image/png": "[encoded data removed]",
      "text/plain": [
       "<Figure size 640x480 with 1 Axes>"
      ]
     },
     "metadata": {},
     "output_type": "display_data"
    },
    {
     "name": "stdout",
     "output_type": "stream",
     "text": [
      "[5000/1500000] Total reward: 107.0 Epsilon: 0.97859123904338 Size of replay buffer: 86596 Learn step counter: 86565\n",
      "[5100/1500000] Total reward: 3.0 Epsilon: 0.9773257607627238 Size of replay buffer: 91772 Learn step counter: 91741\n",
      "[5200/1500000] Total reward: 24.0 Epsilon: 0.9762478764828691 Size of replay buffer: 96186 Learn step counter: 96155\n",
      "[5300/1500000] Total reward: 32.0 Epsilon: 0.9748360234655224 Size of replay buffer: 100000 Learn step counter: 101944\n",
      "[5400/1500000] Total reward: 34.0 Epsilon: 0.9736978361118153 Size of replay buffer: 100000 Learn step counter: 106617\n",
      "[5500/1500000] Total reward: 11.0 Epsilon: 0.9725933158634245 Size of replay buffer: 100000 Learn step counter: 111157\n",
      "[5600/1500000] Total reward: 96.0 Epsilon: 0.9714652758510204 Size of replay buffer: 100000 Learn step counter: 115799\n"
     ]
    }
   ],
   "source": [
    "import os\n",
    "import re\n",
    "import torch\n",
    "import matplotlib.pyplot as plt\n",
    "import gym_super_mario_bros\n",
    "\n",
    "from IPython.display import clear_output\n",
    "from gym_super_mario_bros.actions import RIGHT_ONLY\n",
    "from nes_py.wrappers import JoypadSpace\n",
    "from collections import defaultdict\n",
    "\n",
    "if torch.cuda.is_available():\n",
    "    print(\"Using CUDA device:\", torch.cuda.get_device_name(0))\n",
    "else:\n",
    "    print(\"CUDA is not available\")\n",
    "\n",
    "NUM_EPOCHS = 1_500_000\n",
    "ENV_NAME = \"SuperMarioBrosRandomStages-v0\"\n",
    "CHECKPOINT_SAVE = 1000\n",
    "CHECKPOINT_PRINT = 100\n",
    "# In case you're in Google Colab\n",
    "MODEL_PATH = \"/content/drive/MyDrive/ml-models\"\n",
    "if not os.path.exists(MODEL_PATH):\n",
    "    MODEL_PATH = \"./weights_mario\"\n",
    "    os.makedirs(MODEL_PATH, exist_ok=True)\n",
    "SAMPLE_STAGES=['1-4', '2-4', '3-4', '4-4']\n",
    "env = gym_super_mario_bros.make(ENV_NAME, stages=SAMPLE_STAGES)\n",
    "env = JoypadSpace(env, RIGHT_ONLY)\n",
    "env = apply_wrappers(env)\n",
    "\n",
    "agent = Agent(input_dims=env.observation_space.shape, \n",
    "              num_actions=env.action_space.n)\n",
    "\n",
    "models_path = sorted(filter(lambda file: file.startswith(\"nes_mario_model_\"), os.listdir(MODEL_PATH)))\n",
    "if models_path:\n",
    "  last_model = models_path[-1]\n",
    "  pattern = \"nes_mario_model_(\\\\d+)_(\\\\d+)\\\\.pt\"\n",
    "  start_epoch, total_reward = map(int, re.findall(pattern, last_model)[0])\n",
    "  agent.load_model(os.path.join(MODEL_PATH, last_model))\n",
    "  print(f\"Loading last model with epoch {start_epoch} and total reward {total_reward}\")\n",
    "  del models_path\n",
    "else:\n",
    "  start_epoch = 0\n",
    "\n",
    "for epoch in range(start_epoch, NUM_EPOCHS):\n",
    "  done = False\n",
    "  state = env.reset()\n",
    "  info = defaultdict(int)\n",
    "  total_reward = 0\n",
    "  while not done:\n",
    "    action = agent.choose_action(state)\n",
    "    next_state, reward, done, new_info = env.step(action)\n",
    "    reward = agent.get_custom_reward(reward, info, new_info, done)\n",
    "\n",
    "    total_reward += reward\n",
    "    info = new_info\n",
    "\n",
    "    agent.store_in_memory(state, action, reward, next_state, done)\n",
    "    agent.learn()\n",
    "\n",
    "    state = next_state\n",
    "\n",
    "  if epoch > 0 and epoch % CHECKPOINT_SAVE == 0:\n",
    "    agent.save_model(os.path.join(MODEL_PATH, f\"nes_mario_model_{epoch}_{int(total_reward)}.pt\"))\n",
    "    # -1 because it's a window of states (4 images)\n",
    "    show(state[-1])\n",
    "\n",
    "  if epoch > 0 and epoch % CHECKPOINT_PRINT == 0:\n",
    "    print(f\"[{epoch}/{NUM_EPOCHS}] Total reward:\", total_reward,\n",
    "          \"Epsilon:\", agent.epsilon,\n",
    "          \"Size of replay buffer:\", len(agent.replay_buffer),\n",
    "          \"Learn step counter:\", agent.learn_step_counter)\n",
    "env.close()"
   ]
  },
  {
   "cell_type": "code",
   "execution_count": 11,
   "metadata": {},
   "outputs": [],
   "source": [
    "#agent.save_model(os.path.join(MODEL_PATH, f\"nes_mario_model_3293_8.pt\"))"
   ]
  }
 ],
 "metadata": {
  "accelerator": "GPU",
  "colab": {
   "gpuType": "T4",
   "provenance": []
  },
  "kernelspec": {
   "display_name": "Python 3 (ipykernel)",
   "language": "python",
   "name": "python3"
  },
  "language_info": {
   "codemirror_mode": {
    "name": "ipython",
    "version": 3
   },
   "file_extension": ".py",
   "mimetype": "text/x-python",
   "name": "python",
   "nbconvert_exporter": "python",
   "pygments_lexer": "ipython3",
   "version": "3.8.18"
  }
 },
 "nbformat": 4,
 "nbformat_minor": 4
}
