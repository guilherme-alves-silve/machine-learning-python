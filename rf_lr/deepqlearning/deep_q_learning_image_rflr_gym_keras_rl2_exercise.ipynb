{
 "cells": [
  {
   "cell_type": "markdown",
   "id": "f7214179",
   "metadata": {},
   "source": [
    "___\n",
    "\n",
    "<a href='http://www.pieriandata.com'>www.pieriandata.com</a>\n",
    "___\n",
    "<center><em>Copyright by Pierian Data Inc.</em></center>\n",
    "<center><em>For more information, visit us at <a href='http://www.pieriandata.com'>www.pieriandata.com</a></em></center>\n",
    "\n",
    "# Keras RL DQN on Image Environment - Exercise - \n",
    "\n",
    "\n"
   ]
  },
  {
   "cell_type": "markdown",
   "id": "bcba433e",
   "metadata": {},
   "source": [
    "In thise notebook you will implement a DQN agent on the famous game of Pong:\n",
    "**Use the Pong-v0 environment**\n",
    "(https://gym.openai.com/envs/Pong-v0/) <br />"
   ]
  },
  {
   "cell_type": "markdown",
   "id": "c5c479cb",
   "metadata": {},
   "source": [
    "**TASK: Import necessary libraries and create the environment. Also extract the possible actions** <br />"
   ]
  },
  {
   "cell_type": "code",
   "execution_count": 15,
   "id": "a7efe353",
   "metadata": {},
   "outputs": [],
   "source": [
    "import gym\n",
    "import numpy as np\n",
    "\n",
    "from PIL import Image\n",
    "from gym.utils import play\n",
    "from tensorflow.keras.models import Sequential\n",
    "from tensorflow.keras.layers import Dense, Activation, Flatten, Conv2D, Permute\n",
    "from tensorflow.keras.optimizers import Adam\n",
    "\n",
    "from rl.agents.dqn import DQNAgent\n",
    "from rl.policy import LinearAnnealedPolicy, EpsGreedyQPolicy\n",
    "from rl.memory import SequentialMemory\n",
    "from rl.core import Processor\n",
    "from rl.callbacks import ModelIntervalCheckpoint"
   ]
  },
  {
   "cell_type": "code",
   "execution_count": 2,
   "id": "315b3c79",
   "metadata": {},
   "outputs": [],
   "source": [
    "env = gym.make(\"Pong-v0\")\n",
    "nb_actions = env.action_space.n"
   ]
  },
  {
   "cell_type": "markdown",
   "id": "24513593",
   "metadata": {},
   "source": [
    "**TASK: Play the game manually (keys: a and d to move the bars)** <br />"
   ]
  },
  {
   "cell_type": "code",
   "execution_count": 5,
   "id": "df7e259d",
   "metadata": {},
   "outputs": [],
   "source": [
    "play.play(env)"
   ]
  },
  {
   "cell_type": "markdown",
   "id": "716e71bf",
   "metadata": {},
   "source": [
    "**TASK: Define an input size and the window length** <br />"
   ]
  },
  {
   "cell_type": "code",
   "execution_count": 6,
   "id": "8f2d846b",
   "metadata": {},
   "outputs": [],
   "source": [
    "IMG_SHAPE = (84, 84)\n",
    "WINDOW_LENGTH = 4"
   ]
  },
  {
   "cell_type": "markdown",
   "id": "c68dcc0d",
   "metadata": {},
   "source": [
    "**TASK: Create the ImageProcessor** <br />\n",
    "It needs to:\n",
    "1. Resize the image\n",
    "2. Convert it to grayscale\n",
    "3. Standardize it\n",
    "4. Be memory efficient\n",
    "\n",
    "Dont forget the reward clipping"
   ]
  },
  {
   "cell_type": "code",
   "execution_count": 8,
   "id": "ee038012",
   "metadata": {},
   "outputs": [],
   "source": [
    "class ImageProcessor(Processor):\n",
    "    \n",
    "    def process_observation(self, obs):\n",
    "        img = Image.fromarray(obs)\n",
    "        img = img.resize(IMG_SHAPE)\n",
    "        # to grayscale (The L stands for luminance)\n",
    "        img = img.convert(\"L\")\n",
    "        img = np.array(img)\n",
    "        return img.astype(\"uint8\")\n",
    "    \n",
    "    def process_state_batch(self, batch):\n",
    "        processed_batch = batch.astype(\"float32\") / 255.0\n",
    "        return processed_batch"
   ]
  },
  {
   "cell_type": "markdown",
   "id": "9b349769",
   "metadata": {},
   "source": [
    "**TASK: Design the Convolutional Neural Network** <br />\n",
    "Hint: Make sure to get the right input shape!\n",
    "\n",
    "You can try the same architecture than presented in the previous notebook:\n",
    "1. Conv2D(filters=32, kernel_size=8, stride=4)\n",
    "2. Conv2D(filters=64, kernel_size=4, stride=2)\n",
    "3. Conv2D(filters=64, kernel_size=3, stride=1)\n",
    "4. Dense(512)\n",
    "\n",
    "Dont forget the activation function"
   ]
  },
  {
   "cell_type": "code",
   "execution_count": 9,
   "id": "d96119b3",
   "metadata": {},
   "outputs": [
    {
     "name": "stdout",
     "output_type": "stream",
     "text": [
      "WARNING:tensorflow:From D:\\Programas\\miniconda3\\envs\\myenv\\lib\\site-packages\\tensorflow_core\\python\\ops\\resource_variable_ops.py:1635: calling BaseResourceVariable.__init__ (from tensorflow.python.ops.resource_variable_ops) with constraint is deprecated and will be removed in a future version.\n",
      "Instructions for updating:\n",
      "If using Keras pass *_constraint arguments to layers.\n",
      "Model: \"sequential\"\n",
      "_________________________________________________________________\n",
      "Layer (type)                 Output Shape              Param #   \n",
      "=================================================================\n",
      "permute (Permute)            (None, 84, 84, 4)         0         \n",
      "_________________________________________________________________\n",
      "conv2d (Conv2D)              (None, 20, 20, 32)        8224      \n",
      "_________________________________________________________________\n",
      "activation (Activation)      (None, 20, 20, 32)        0         \n",
      "_________________________________________________________________\n",
      "conv2d_1 (Conv2D)            (None, 9, 9, 64)          32832     \n",
      "_________________________________________________________________\n",
      "activation_1 (Activation)    (None, 9, 9, 64)          0         \n",
      "_________________________________________________________________\n",
      "conv2d_2 (Conv2D)            (None, 7, 7, 64)          36928     \n",
      "_________________________________________________________________\n",
      "activation_2 (Activation)    (None, 7, 7, 64)          0         \n",
      "_________________________________________________________________\n",
      "flatten (Flatten)            (None, 3136)              0         \n",
      "_________________________________________________________________\n",
      "dense (Dense)                (None, 512)               1606144   \n",
      "_________________________________________________________________\n",
      "activation_3 (Activation)    (None, 512)               0         \n",
      "_________________________________________________________________\n",
      "dense_1 (Dense)              (None, 6)                 3078      \n",
      "_________________________________________________________________\n",
      "activation_4 (Activation)    (None, 6)                 0         \n",
      "=================================================================\n",
      "Total params: 1,687,206\n",
      "Trainable params: 1,687,206\n",
      "Non-trainable params: 0\n",
      "_________________________________________________________________\n"
     ]
    }
   ],
   "source": [
    "input_shape = (WINDOW_LENGTH, IMG_SHAPE[0], IMG_SHAPE[1])\n",
    "\n",
    "model = Sequential()\n",
    "model.add(Permute((2, 3, 1), input_shape=input_shape))\n",
    "model.add(Conv2D(32, (8, 8), strides=(4, 4), kernel_initializer=\"he_normal\"))\n",
    "model.add(Activation(\"relu\"))\n",
    "model.add(Conv2D(64, (4, 4), strides=(2, 2), kernel_initializer=\"he_normal\"))\n",
    "model.add(Activation(\"relu\"))\n",
    "model.add(Conv2D(64, (3, 3), strides=(1, 1), kernel_initializer=\"he_normal\"))\n",
    "model.add(Activation(\"relu\"))\n",
    "model.add(Flatten())\n",
    "model.add(Dense(512))\n",
    "model.add(Activation(\"relu\"))\n",
    "model.add(Dense(nb_actions))\n",
    "model.add(Activation(\"linear\"))\n",
    "model.summary()"
   ]
  },
  {
   "cell_type": "markdown",
   "id": "f2c99731",
   "metadata": {},
   "source": [
    "**TASK: Create the Replay Memory** <br />\n"
   ]
  },
  {
   "cell_type": "code",
   "execution_count": 10,
   "id": "a0872814",
   "metadata": {},
   "outputs": [],
   "source": [
    "memory = SequentialMemory(limit=1_000_000, window_length=WINDOW_LENGTH)"
   ]
  },
  {
   "cell_type": "markdown",
   "id": "3d90ce3e",
   "metadata": {},
   "source": [
    "**TASK: Create the processor** <br />\n"
   ]
  },
  {
   "cell_type": "code",
   "execution_count": 11,
   "id": "150f633e",
   "metadata": {},
   "outputs": [],
   "source": [
    "processor = ImageProcessor()"
   ]
  },
  {
   "cell_type": "markdown",
   "id": "fe0993c4",
   "metadata": {},
   "source": [
    "**TASK: Define the action selection policy.** <br />\n",
    "Feel free to try all policies you like. (Hint: decaying epsilon greedy also works here)"
   ]
  },
  {
   "cell_type": "code",
   "execution_count": 12,
   "id": "9af7e7b6",
   "metadata": {},
   "outputs": [],
   "source": [
    "policy = LinearAnnealedPolicy(EpsGreedyQPolicy(),\n",
    "                              attr=\"eps\",\n",
    "                              value_min=0.1,\n",
    "                              value_max=1.0,\n",
    "                              value_test=0.05,\n",
    "                              nb_steps=1_000_000)"
   ]
  },
  {
   "cell_type": "markdown",
   "id": "e2f3b1f3",
   "metadata": {},
   "source": [
    "**TASK: Create the agent.** <br />\n",
    "Dont forget to compile!"
   ]
  },
  {
   "cell_type": "code",
   "execution_count": 13,
   "id": "64cd024e",
   "metadata": {},
   "outputs": [],
   "source": [
    "dqn = DQNAgent(model=model, nb_actions=nb_actions, policy=policy,\n",
    "               memory=memory, processor=processor, nb_steps_warmup=50_000,\n",
    "               gamma=0.99, target_model_update=10_000,\n",
    "               train_interval=4, delta_clip=1)\n",
    "dqn.compile(Adam(learning_rate=0.00025), metrics=[\"mae\"])"
   ]
  },
  {
   "cell_type": "markdown",
   "id": "eb58ef60",
   "metadata": {},
   "source": [
    "**TASK: Define a checkpoint callback to store the weights during training.** <br />\n",
    "Please name it differently than our provided checkpoint to avoid overwriting it"
   ]
  },
  {
   "cell_type": "code",
   "execution_count": 16,
   "id": "e54594f7",
   "metadata": {},
   "outputs": [],
   "source": [
    "weights_filename = \"dqn_pong_weights_student.h5f\"\n",
    "checkpoint_weights_filename = \"dqn_pong_weights_student_{step}.h5f\"\n",
    "checkpoint_callback = ModelIntervalCheckpoint(checkpoint_weights_filename, interval=100_000)"
   ]
  },
  {
   "cell_type": "markdown",
   "id": "836bb382",
   "metadata": {},
   "source": [
    "**TASK: Train the agent.** <br />"
   ]
  },
  {
   "cell_type": "code",
   "execution_count": 21,
   "id": "f42d7f74",
   "metadata": {},
   "outputs": [],
   "source": [
    "dqn.fit(env, nb_steps=1_500_000, callbacks=[checkpoint_callback], log_interval=10_000, visualize=False)\n",
    "dqn.save_weights(checkpoint_weights_filename, overwrite=True)"
   ]
  },
  {
   "cell_type": "markdown",
   "id": "55c6df4a",
   "metadata": {},
   "source": [
    "**TASK: Evaluate the agent.** <br />"
   ]
  },
  {
   "cell_type": "code",
   "execution_count": 20,
   "id": "6a830414",
   "metadata": {},
   "outputs": [
    {
     "name": "stdout",
     "output_type": "stream",
     "text": [
      "Training for 1500000 steps ...\n",
      "Interval 1 (0 steps performed)\n",
      " 1296/10000 [==>...........................] - ETA: 1:17 - reward: -0.0170done, took 11.595 seconds\n"
     ]
    }
   ],
   "source": [
    "dqn.test(env, nb_episodes=5, visualize=True)"
   ]
  },
  {
   "cell_type": "markdown",
   "id": "680db46b",
   "metadata": {},
   "source": [
    "**TASK: Load your weights (or the provided ones) and create an agent from those** <br />"
   ]
  },
  {
   "cell_type": "code",
   "execution_count": 24,
   "id": "fb4338ad",
   "metadata": {},
   "outputs": [
    {
     "name": "stdout",
     "output_type": "stream",
     "text": [
      "WARNING:tensorflow:Inconsistent references when loading the checkpoint into this object graph. Either the Trackable object references in the Python program have changed in an incompatible way, or the checkpoint was generated in an incompatible program.\n",
      "\n",
      "Two checkpoint references resolved to different objects (<tensorflow.python.keras.layers.convolutional.Conv2D object at 0x00000263FCDBC748> and <tensorflow.python.keras.layers.core.Permute object at 0x00000263FDF59908>).\n",
      "WARNING:tensorflow:Inconsistent references when loading the checkpoint into this object graph. Either the Trackable object references in the Python program have changed in an incompatible way, or the checkpoint was generated in an incompatible program.\n",
      "\n",
      "Two checkpoint references resolved to different objects (<tensorflow.python.keras.layers.convolutional.Conv2D object at 0x00000263FEA13BC8> and <tensorflow.python.keras.layers.core.Activation object at 0x00000263FDEC77C8>).\n",
      "WARNING:tensorflow:Inconsistent references when loading the checkpoint into this object graph. Either the Trackable object references in the Python program have changed in an incompatible way, or the checkpoint was generated in an incompatible program.\n",
      "\n",
      "Two checkpoint references resolved to different objects (<tensorflow.python.keras.layers.convolutional.Conv2D object at 0x00000263FCC372C8> and <tensorflow.python.keras.layers.core.Activation object at 0x00000263FEA138C8>).\n",
      "WARNING:tensorflow:Inconsistent references when loading the checkpoint into this object graph. Either the Trackable object references in the Python program have changed in an incompatible way, or the checkpoint was generated in an incompatible program.\n",
      "\n",
      "Two checkpoint references resolved to different objects (<tensorflow.python.keras.layers.core.Dense object at 0x00000263FEA398C8> and <tensorflow.python.keras.layers.core.Flatten object at 0x00000263FEA39A88>).\n",
      "WARNING:tensorflow:Inconsistent references when loading the checkpoint into this object graph. Either the Trackable object references in the Python program have changed in an incompatible way, or the checkpoint was generated in an incompatible program.\n",
      "\n",
      "Two checkpoint references resolved to different objects (<tensorflow.python.keras.layers.core.Dense object at 0x00000263FDECB4C8> and <tensorflow.python.keras.layers.core.Activation object at 0x00000263FEA2E148>).\n"
     ]
    }
   ],
   "source": [
    "model.load_weights(\"weights_exercise/dqn_PONG_weights_1500000.h5f\")\n",
    "\n",
    "memory = SequentialMemory(limit=1_000_000, window_length=WINDOW_LENGTH)\n",
    "policy = LinearAnnealedPolicy(EpsGreedyQPolicy(0.1),\n",
    "                              attr=\"eps\",\n",
    "                              value_min=0.1,\n",
    "                              value_max=1.0,\n",
    "                              value_test=0.05,\n",
    "                              nb_steps=100_000)\n",
    "processor = ImageProcessor()\n",
    "dqn = DQNAgent(model=model, nb_actions=nb_actions, policy=policy,\n",
    "               memory=memory, processor=processor, nb_steps_warmup=50_000,\n",
    "               gamma=0.99, target_model_update=10_000)\n",
    "dqn.compile(Adam(learning_rate=0.00025), metrics=[\"mae\"])"
   ]
  },
  {
   "cell_type": "code",
   "execution_count": null,
   "id": "97561ad6",
   "metadata": {},
   "outputs": [],
   "source": [
    "dqn.test(env, nb_episodes=5, visualize=True)"
   ]
  }
 ],
 "metadata": {
  "kernelspec": {
   "display_name": "Python 3 (ipykernel)",
   "language": "python",
   "name": "python3"
  },
  "language_info": {
   "codemirror_mode": {
    "name": "ipython",
    "version": 3
   },
   "file_extension": ".py",
   "mimetype": "text/x-python",
   "name": "python",
   "nbconvert_exporter": "python",
   "pygments_lexer": "ipython3",
   "version": "3.7.16"
  }
 },
 "nbformat": 4,
 "nbformat_minor": 5
}
