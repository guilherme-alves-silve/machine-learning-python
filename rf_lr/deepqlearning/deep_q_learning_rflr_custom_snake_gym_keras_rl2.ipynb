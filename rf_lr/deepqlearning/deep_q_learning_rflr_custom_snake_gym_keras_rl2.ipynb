{
 "cells": [
  {
   "cell_type": "code",
   "execution_count": 2,
   "id": "83e1d3ec",
   "metadata": {},
   "outputs": [],
   "source": [
    "import time\n",
    "import gym\n",
    "import matplotlib.pyplot as plt"
   ]
  },
  {
   "cell_type": "code",
   "execution_count": null,
   "id": "a88bb63e",
   "metadata": {},
   "outputs": [],
   "source": [
    "!pip install -e gymsnake "
   ]
  },
  {
   "cell_type": "code",
   "execution_count": 5,
   "id": "ea582b62",
   "metadata": {},
   "outputs": [
    {
     "name": "stdout",
     "output_type": "stream",
     "text": [
      "pygame 2.1.0 (SDL 2.0.16, Python 3.7.16)\n",
      "Hello from the pygame community. https://www.pygame.org/contribute.html\n"
     ]
    }
   ],
   "source": [
    "env = gym.make(\"snake:Snake-v0\")"
   ]
  },
  {
   "cell_type": "code",
   "execution_count": 6,
   "id": "a9df3350",
   "metadata": {},
   "outputs": [
    {
     "data": {
      "image/png": "[encoded data removed]",
      "text/plain": [
       "<Figure size 640x480 with 1 Axes>"
      ]
     },
     "metadata": {},
     "output_type": "display_data"
    }
   ],
   "source": [
    "env.reset()\n",
    "env.render(\"human\")\n",
    "action = env.action_space.sample()\n",
    "obs, reward, done, info = env.step(action)\n",
    "plt.figure()\n",
    "plt.imshow(obs)\n",
    "plt.show()"
   ]
  },
  {
   "cell_type": "code",
   "execution_count": 33,
   "id": "22676152",
   "metadata": {},
   "outputs": [],
   "source": [
    "import numpy as np\n",
    "\n",
    "from PIL import Image\n",
    "\n",
    "from tensorflow.keras.models import Sequential\n",
    "from tensorflow.keras.layers import (Dense, Activation, Flatten, \n",
    "                                     Convolution2D, Permute)\n",
    "from tensorflow.keras.optimizers import Adam\n",
    "\n",
    "# Keras-RL\n",
    "from rl.agents.dqn import DQNAgent\n",
    "from rl.policy import LinearAnnealedPolicy, EpsGreedyQPolicy\n",
    "from rl.memory import SequentialMemory\n",
    "from rl.core import Processor\n",
    "from rl.callbacks import ModelIntervalCheckpoint"
   ]
  },
  {
   "cell_type": "code",
   "execution_count": 11,
   "id": "e7537a76",
   "metadata": {},
   "outputs": [
    {
     "data": {
      "text/plain": [
       "4"
      ]
     },
     "execution_count": 11,
     "metadata": {},
     "output_type": "execute_result"
    }
   ],
   "source": [
    "env = gym.make(\"snake:Snake-v0\")\n",
    "nb_actions = env.action_space.n\n",
    "nb_actions"
   ]
  },
  {
   "cell_type": "code",
   "execution_count": 12,
   "id": "b7a4ce0a",
   "metadata": {},
   "outputs": [],
   "source": [
    "IMG_SHAPE = (84, 84)\n",
    "WINDOW_LENGTH = 4"
   ]
  },
  {
   "cell_type": "code",
   "execution_count": 13,
   "id": "d08b9d81",
   "metadata": {},
   "outputs": [],
   "source": [
    "class ImageProcessor(Processor):\n",
    "    def process_observation(self, observation):\n",
    "        img = Image.fromarray(observation)\n",
    "        img = img.resize(IMG_SHAPE)\n",
    "        # img to grayscale\n",
    "        img = img.convert(\"L\")\n",
    "        img = np.array(img)\n",
    "        return img.astype(\"uint8\")\n",
    "    \n",
    "    def process_state_batch(self, batch):\n",
    "        processed_batch = batch.astype(\"float32\") / 255.0\n",
    "        return processed_batch\n",
    "    \n",
    "    def process_reward(self, reward):\n",
    "        return np.clip(reward, -1.0, 1.0)"
   ]
  },
  {
   "cell_type": "markdown",
   "id": "f6b9ec16",
   "metadata": {},
   "source": [
    "## Model Creation\n",
    "\n",
    "Depending on your type of problem, read papers with similar problems, to find a good proven solution, in case your is not satisfatory enough"
   ]
  },
  {
   "cell_type": "code",
   "execution_count": 14,
   "id": "acc0dfbc",
   "metadata": {},
   "outputs": [
    {
     "data": {
      "text/plain": [
       "(4, 84, 84)"
      ]
     },
     "execution_count": 14,
     "metadata": {},
     "output_type": "execute_result"
    }
   ],
   "source": [
    "input_shape = (WINDOW_LENGTH, IMG_SHAPE[0], IMG_SHAPE[1])\n",
    "input_shape"
   ]
  },
  {
   "cell_type": "code",
   "execution_count": 19,
   "id": "3a61833e",
   "metadata": {},
   "outputs": [
    {
     "name": "stdout",
     "output_type": "stream",
     "text": [
      "WARNING:tensorflow:From D:\\Programas\\miniconda3\\envs\\myenv\\lib\\site-packages\\tensorflow_core\\python\\ops\\resource_variable_ops.py:1635: calling BaseResourceVariable.__init__ (from tensorflow.python.ops.resource_variable_ops) with constraint is deprecated and will be removed in a future version.\n",
      "Instructions for updating:\n",
      "If using Keras pass *_constraint arguments to layers.\n",
      "Model: \"sequential_3\"\n",
      "_________________________________________________________________\n",
      "Layer (type)                 Output Shape              Param #   \n",
      "=================================================================\n",
      "permute_1 (Permute)          (None, 84, 84, 4)         0         \n",
      "_________________________________________________________________\n",
      "conv2d (Conv2D)              (None, 20, 20, 32)        8224      \n",
      "_________________________________________________________________\n",
      "activation (Activation)      (None, 20, 20, 32)        0         \n",
      "_________________________________________________________________\n",
      "conv2d_1 (Conv2D)            (None, 9, 9, 64)          32832     \n",
      "_________________________________________________________________\n",
      "activation_1 (Activation)    (None, 9, 9, 64)          0         \n",
      "_________________________________________________________________\n",
      "conv2d_2 (Conv2D)            (None, 7, 7, 64)          36928     \n",
      "_________________________________________________________________\n",
      "activation_2 (Activation)    (None, 7, 7, 64)          0         \n",
      "_________________________________________________________________\n",
      "flatten (Flatten)            (None, 3136)              0         \n",
      "_________________________________________________________________\n",
      "dense (Dense)                (None, 512)               1606144   \n",
      "_________________________________________________________________\n",
      "activation_3 (Activation)    (None, 512)               0         \n",
      "_________________________________________________________________\n",
      "dense_1 (Dense)              (None, 4)                 2052      \n",
      "_________________________________________________________________\n",
      "activation_4 (Activation)    (None, 4)                 0         \n",
      "=================================================================\n",
      "Total params: 1,686,180\n",
      "Trainable params: 1,686,180\n",
      "Non-trainable params: 0\n",
      "_________________________________________________________________\n"
     ]
    }
   ],
   "source": [
    "model = Sequential()\n",
    "model.add(Permute((2, 3, 1), input_shape=input_shape))\n",
    "\n",
    "model.add(Convolution2D(32, (8, 8), strides=(4, 4), \n",
    "                        kernel_initializer=\"he_normal\"))\n",
    "model.add(Activation(\"relu\"))\n",
    "model.add(Convolution2D(64, (4, 4), strides=(2, 2), \n",
    "                        kernel_initializer=\"he_normal\"))\n",
    "model.add(Activation(\"relu\"))\n",
    "model.add(Convolution2D(64, (3, 3), strides=(1, 1), \n",
    "                        kernel_initializer=\"he_normal\"))\n",
    "model.add(Activation(\"relu\"))\n",
    "model.add(Flatten())\n",
    "model.add(Dense(512))\n",
    "model.add(Activation(\"relu\"))\n",
    "model.add(Dense(nb_actions))\n",
    "model.add(Activation(\"linear\"))\n",
    "model.summary()"
   ]
  },
  {
   "cell_type": "code",
   "execution_count": 20,
   "id": "dd37d439",
   "metadata": {},
   "outputs": [],
   "source": [
    "memory = SequentialMemory(limit=1_000_000, window_length=WINDOW_LENGTH)"
   ]
  },
  {
   "cell_type": "code",
   "execution_count": 21,
   "id": "d3c709a8",
   "metadata": {},
   "outputs": [],
   "source": [
    "processor = ImageProcessor()"
   ]
  },
  {
   "cell_type": "code",
   "execution_count": 22,
   "id": "9ed63f43",
   "metadata": {},
   "outputs": [],
   "source": [
    "policy = LinearAnnealedPolicy(EpsGreedyQPolicy(),\n",
    "                              attr=\"eps\",\n",
    "                              value_min=0.1,\n",
    "                              value_max=1.0,\n",
    "                              value_test=0.05,\n",
    "                              nb_steps=1_000_000)"
   ]
  },
  {
   "cell_type": "code",
   "execution_count": 25,
   "id": "27d36260",
   "metadata": {},
   "outputs": [],
   "source": [
    "dqn = DQNAgent(model=model, nb_actions=nb_actions, policy=policy,\n",
    "               memory=memory, processor=processor, nb_steps_warmup=50_000,\n",
    "               gamma=0.99, target_model_update=100_000,\n",
    "               train_interval=4, delta_clip=1)"
   ]
  },
  {
   "cell_type": "code",
   "execution_count": 27,
   "id": "c72541ce",
   "metadata": {},
   "outputs": [],
   "source": [
    "dqn.compile(Adam(learning_rate=0.00025), metrics=[\"mae\"])"
   ]
  },
  {
   "cell_type": "code",
   "execution_count": 29,
   "id": "348759c6",
   "metadata": {},
   "outputs": [],
   "source": [
    "weights_filename = \"test_dqn_snake_weights.h5f\"\n",
    "checkpoint_weights_filename = \"test_dqn_snake_weights_{step}.h5f\"\n",
    "checkpoint_callback = ModelIntervalCheckpoint(checkpoint_weights_filename, \n",
    "                                              interval=100_000, verbose=1)"
   ]
  },
  {
   "cell_type": "code",
   "execution_count": null,
   "id": "49e809a7",
   "metadata": {},
   "outputs": [
    {
     "name": "stdout",
     "output_type": "stream",
     "text": [
      "Training for 1500000 steps ...\n",
      "Interval 1 (0 steps performed)\n",
      " 67909/100000 [===================>..........] - ETA: 10:46 - reward: -0.0212"
     ]
    }
   ],
   "source": [
    "dqn.fit(env, nb_steps=1_500_000, \n",
    "        callbacks=[checkpoint_callback],\n",
    "        log_interval=100_000,\n",
    "        visualize=False)\n",
    "dqn.save_weights(weights_filename, overwrite=True)"
   ]
  },
  {
   "cell_type": "code",
   "execution_count": null,
   "id": "13e295ae",
   "metadata": {},
   "outputs": [],
   "source": [
    "# Load the weights\n",
    "model.load_weights(\"test_dqn_snake_weights.h5f\")\n",
    "memory = SequentialMemory(limit=1_000_000, window_length=WINDOW_LENGTH)\n",
    "policy = LinearAnnealedPolicy(EpsGreedyQPolicy(), \n",
    "                              attr=\"eps\",\n",
    "                              value_min=0.1,\n",
    "                              value_max=0.2,\n",
    "                              value_test=0.05\n",
    "                              nb_steps=100_000)\n",
    "processor = ImageProcessor()\n",
    "dqn = DQNAgent(model=model, nb_actions=nb_actions, policy=policy,\n",
    "               memory=memory, processor=processor, nb_steps_warmup=50_000,\n",
    "               gamma=0.99, target_model_update=10_000)\n",
    "dqn.compile(Adam(learning_rate=0.00025), metrics=[\"mae\"])"
   ]
  },
  {
   "cell_type": "code",
   "execution_count": null,
   "id": "42ebdee4",
   "metadata": {},
   "outputs": [],
   "source": [
    "# sleep is 0.2, so the user can see the agent playing\n",
    "env.sleep = 0.2\n",
    "dqn.test(env, nb_episodes=1, visualize=True)"
   ]
  }
 ],
 "metadata": {
  "kernelspec": {
   "display_name": "Python 3 (ipykernel)",
   "language": "python",
   "name": "python3"
  },
  "language_info": {
   "codemirror_mode": {
    "name": "ipython",
    "version": 3
   },
   "file_extension": ".py",
   "mimetype": "text/x-python",
   "name": "python",
   "nbconvert_exporter": "python",
   "pygments_lexer": "ipython3",
   "version": "3.7.16"
  }
 },
 "nbformat": 4,
 "nbformat_minor": 5
}
