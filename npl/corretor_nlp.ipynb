{
 "cells": [
  {
   "cell_type": "markdown",
   "id": "c48b24bd",
   "metadata": {},
   "source": [
    "# Implementação do Corretor utilizando NLP"
   ]
  },
  {
   "cell_type": "code",
   "execution_count": null,
   "id": "e51e2977",
   "metadata": {},
   "outputs": [],
   "source": [
    "%pip install nltk"
   ]
  },
  {
   "cell_type": "code",
   "execution_count": 73,
   "id": "7bed5e5f",
   "metadata": {},
   "outputs": [
    {
     "name": "stdout",
     "output_type": "stream",
     "text": [
      "\n",
      "\n",
      "\n",
      "imagem \n",
      "\n",
      "Temos a seguinte classe que representa um usuário no nosso sistema:\n",
      "\n",
      "java\n",
      "\n",
      "Para salvar um novo usuário, várias validações são feitas, como por exemplo: Ver se o nome só contém letras, [**o CPF só números**] e ver se o usuário possui no mínimo 18 anos. Veja o método que faz essa validação:\n",
      "\n",
      "java \n",
      "\n",
      "Suponha agora que eu tenha outra classe, a classe `Produto`, que contém um atributo nome e eu quero fazer a mesma validação que fiz para o nome do usuário: Ver se só contém letras. E aí? Vou\n"
     ]
    }
   ],
   "source": [
    "with open(\"corretor-dados/artigos.txt\", \"r\", encoding='utf-8') as file:\n",
    "    artigos = file.read()\n",
    "print(artigos[:500])"
   ]
  },
  {
   "cell_type": "code",
   "execution_count": 74,
   "id": "298c4bb9",
   "metadata": {},
   "outputs": [
    {
     "data": {
      "text/plain": [
       "2605046"
      ]
     },
     "execution_count": 74,
     "metadata": {},
     "output_type": "execute_result"
    }
   ],
   "source": [
    "len(artigos)"
   ]
  },
  {
   "cell_type": "code",
   "execution_count": 75,
   "id": "3cafdacb",
   "metadata": {},
   "outputs": [
    {
     "data": {
      "text/plain": [
       "['Olá,', 'tudo', 'bem?']"
      ]
     },
     "execution_count": 75,
     "metadata": {},
     "output_type": "execute_result"
    }
   ],
   "source": [
    "texto_exemplo = \"Olá, tudo bem?\"\n",
    "tokens = texto_exemplo.split()\n",
    "tokens"
   ]
  },
  {
   "cell_type": "code",
   "execution_count": 76,
   "id": "4a2c4984",
   "metadata": {},
   "outputs": [],
   "source": [
    "import nltk"
   ]
  },
  {
   "cell_type": "code",
   "execution_count": null,
   "id": "a6d4b78b",
   "metadata": {},
   "outputs": [],
   "source": [
    "nltk.download('all')"
   ]
  },
  {
   "cell_type": "code",
   "execution_count": 77,
   "id": "9976b7b8",
   "metadata": {},
   "outputs": [
    {
     "data": {
      "text/plain": [
       "['Olá', ',', 'tudo', 'bem', '?']"
      ]
     },
     "execution_count": 77,
     "metadata": {},
     "output_type": "execute_result"
    }
   ],
   "source": [
    "palavras_separadas = nltk.tokenize.word_tokenize(texto_exemplo)\n",
    "palavras_separadas"
   ]
  },
  {
   "cell_type": "code",
   "execution_count": 78,
   "id": "9e6d0797",
   "metadata": {},
   "outputs": [
    {
     "data": {
      "text/plain": [
       "['Olá', 'tudo', 'bem']"
      ]
     },
     "execution_count": 78,
     "metadata": {},
     "output_type": "execute_result"
    }
   ],
   "source": [
    "def separa_palavras(lista_tokens):\n",
    "    lista_palavras = []\n",
    "    for token in lista_tokens:\n",
    "        if token.isalpha():\n",
    "            lista_palavras.append(token)\n",
    "    return lista_palavras\n",
    "\n",
    "separa_palavras(palavras_separadas)"
   ]
  },
  {
   "cell_type": "code",
   "execution_count": 79,
   "id": "f074fe1c",
   "metadata": {},
   "outputs": [
    {
     "name": "stdout",
     "output_type": "stream",
     "text": [
      "O número de palavras é 403104\n"
     ]
    }
   ],
   "source": [
    "lista_tokens = nltk.tokenize.word_tokenize(artigos)\n",
    "lista_palavras = separa_palavras(lista_tokens)\n",
    "print(f\"O número de palavras é {len(lista_palavras)}\")"
   ]
  },
  {
   "cell_type": "code",
   "execution_count": 80,
   "id": "7f5ddc4c",
   "metadata": {},
   "outputs": [
    {
     "name": "stdout",
     "output_type": "stream",
     "text": [
      "['imagem', 'Temos', 'a', 'seguinte', 'classe']\n"
     ]
    }
   ],
   "source": [
    "print(lista_palavras[:5])"
   ]
  },
  {
   "cell_type": "code",
   "execution_count": 81,
   "id": "ddaa5616",
   "metadata": {},
   "outputs": [
    {
     "name": "stdout",
     "output_type": "stream",
     "text": [
      "['imagem', 'temos', 'a', 'seguinte', 'classe']\n"
     ]
    }
   ],
   "source": [
    "def normalizacao(lista_palavras):\n",
    "    lista_normalizada = []\n",
    "    for palavra in lista_palavras:\n",
    "        lista_normalizada.append(palavra.lower())\n",
    "    return lista_normalizada\n",
    "\n",
    "lista_normalizada = normalizacao(lista_palavras)\n",
    "print(lista_normalizada[:5])"
   ]
  },
  {
   "cell_type": "code",
   "execution_count": 82,
   "id": "0e8b87c9",
   "metadata": {},
   "outputs": [
    {
     "data": {
      "text/plain": [
       "{1, 2, 3, 5, 6}"
      ]
     },
     "execution_count": 82,
     "metadata": {},
     "output_type": "execute_result"
    }
   ],
   "source": [
    "set([1, 2, 3, 2, 3, 3, 3, 5, 5, 6, 6, 6])"
   ]
  },
  {
   "cell_type": "code",
   "execution_count": 83,
   "id": "9f707bd3",
   "metadata": {},
   "outputs": [
    {
     "data": {
      "text/plain": [
       "18465"
      ]
     },
     "execution_count": 83,
     "metadata": {},
     "output_type": "execute_result"
    }
   ],
   "source": [
    "len(set(lista_normalizada))"
   ]
  },
  {
   "cell_type": "code",
   "execution_count": 84,
   "id": "a6b33498",
   "metadata": {},
   "outputs": [
    {
     "data": {
      "text/plain": [
       "('l', 'gica')"
      ]
     },
     "execution_count": 84,
     "metadata": {},
     "output_type": "execute_result"
    }
   ],
   "source": [
    "palavra = \"lgica\"\n",
    "(palavra[:1], palavra[1:])"
   ]
  },
  {
   "cell_type": "code",
   "execution_count": 85,
   "id": "0e306f43",
   "metadata": {},
   "outputs": [
    {
     "data": {
      "text/plain": [
       "['algica',\n",
       " 'lagica',\n",
       " 'lgaica',\n",
       " 'lgiaca',\n",
       " 'lgicaa',\n",
       " 'lgicaa',\n",
       " 'blgica',\n",
       " 'lbgica',\n",
       " 'lgbica',\n",
       " 'lgibca',\n",
       " 'lgicba',\n",
       " 'lgicab',\n",
       " 'clgica',\n",
       " 'lcgica',\n",
       " 'lgcica',\n",
       " 'lgicca',\n",
       " 'lgicca',\n",
       " 'lgicac',\n",
       " 'dlgica',\n",
       " 'ldgica']"
      ]
     },
     "execution_count": 85,
     "metadata": {},
     "output_type": "execute_result"
    }
   ],
   "source": [
    "def insere_letras(fatias):\n",
    "    novas_palavras = []\n",
    "    letras = 'abcdefghijklmnopqrstuvwxyzàáâãèéêìíîòóôõùúûç'\n",
    "    \n",
    "    for letra in letras:\n",
    "        for esquerdo, direito in fatias:\n",
    "            palavra = esquerdo + letra + direito\n",
    "            novas_palavras.append(palavra)\n",
    "    return novas_palavras\n",
    "\n",
    "def gerador_palavras(palavra):\n",
    "    fatias = []\n",
    "    for i in range(len(palavra)+1):\n",
    "        fatias.append((palavra[:i], palavra[i:]))\n",
    "    palavras_geradas = insere_letras(fatias)\n",
    "    return palavras_geradas\n",
    "        \n",
    "palavra_exemplo = \"lgica\"\n",
    "palavras_geradas = gerador_palavras(palavra_exemplo)\n",
    "palavras_geradas[:20]"
   ]
  },
  {
   "cell_type": "code",
   "execution_count": 86,
   "id": "57cdc6f1",
   "metadata": {},
   "outputs": [
    {
     "data": {
      "text/plain": [
       "[('de', 15502),\n",
       " ('o', 14056),\n",
       " ('que', 12230),\n",
       " ('a', 11099),\n",
       " ('e', 10501),\n",
       " ('para', 7710),\n",
       " ('um', 6368),\n",
       " ('é', 5899),\n",
       " ('uma', 5220),\n",
       " ('do', 5124)]"
      ]
     },
     "execution_count": 86,
     "metadata": {},
     "output_type": "execute_result"
    }
   ],
   "source": [
    "frequencia = nltk.FreqDist(lista_normalizada)\n",
    "frequencia.most_common(10)"
   ]
  },
  {
   "cell_type": "code",
   "execution_count": 87,
   "id": "20aa1a82",
   "metadata": {},
   "outputs": [
    {
     "data": {
      "text/plain": [
       "96"
      ]
     },
     "execution_count": 87,
     "metadata": {},
     "output_type": "execute_result"
    }
   ],
   "source": [
    "frequencia[\"lógica\"]"
   ]
  },
  {
   "cell_type": "code",
   "execution_count": 88,
   "id": "2477ddbc",
   "metadata": {},
   "outputs": [],
   "source": [
    "total_palavras = len(lista_normalizada)"
   ]
  },
  {
   "cell_type": "code",
   "execution_count": 89,
   "id": "b778196b",
   "metadata": {},
   "outputs": [],
   "source": [
    "def probabilidade(palavra_gerada):\n",
    "    return frequencia[palavra_gerada]/total_palavras"
   ]
  },
  {
   "cell_type": "code",
   "execution_count": 90,
   "id": "f9c631b7",
   "metadata": {},
   "outputs": [
    {
     "data": {
      "text/plain": [
       "0.00023815194093831864"
      ]
     },
     "execution_count": 90,
     "metadata": {},
     "output_type": "execute_result"
    }
   ],
   "source": [
    "probabilidade(\"lógica\")"
   ]
  },
  {
   "cell_type": "code",
   "execution_count": 91,
   "id": "69c67e3d",
   "metadata": {},
   "outputs": [
    {
     "data": {
      "text/plain": [
       "0.0"
      ]
     },
     "execution_count": 91,
     "metadata": {},
     "output_type": "execute_result"
    }
   ],
   "source": [
    "probabilidade(\"lágica\")"
   ]
  },
  {
   "cell_type": "code",
   "execution_count": 92,
   "id": "3d4e6fa7",
   "metadata": {},
   "outputs": [
    {
     "data": {
      "text/plain": [
       "0.0"
      ]
     },
     "execution_count": 92,
     "metadata": {},
     "output_type": "execute_result"
    }
   ],
   "source": [
    "probabilidade(\"logica\")"
   ]
  },
  {
   "cell_type": "code",
   "execution_count": 93,
   "id": "f0cd6adb",
   "metadata": {},
   "outputs": [],
   "source": [
    "def corretor(palavra):\n",
    "    palavras_geradas = gerador_palavras(palavra)\n",
    "    palavra_correta = max(palavras_geradas, key=probabilidade)\n",
    "    return palavra_correta"
   ]
  },
  {
   "cell_type": "code",
   "execution_count": 94,
   "id": "0a44ba30",
   "metadata": {},
   "outputs": [
    {
     "data": {
      "text/plain": [
       "'lógica'"
      ]
     },
     "execution_count": 94,
     "metadata": {},
     "output_type": "execute_result"
    }
   ],
   "source": [
    "corretor(palavra_exemplo)"
   ]
  },
  {
   "cell_type": "code",
   "execution_count": 95,
   "id": "3503bb2c",
   "metadata": {},
   "outputs": [
    {
     "data": {
      "text/plain": [
       "[('podemos', 'pyodemos'),\n",
       " ('esse', 'esje'),\n",
       " ('já', 'jrá'),\n",
       " ('nosso', 'nossov'),\n",
       " ('são', 'sãêo'),\n",
       " ('dos', 'dosa'),\n",
       " ('muito', 'muifo'),\n",
       " ('imagem', 'iômagem'),\n",
       " ('sua', 'ósua'),\n",
       " ('também', 'tambéùm'),\n",
       " ('ele', 'eme'),\n",
       " ('fazer', 'èazer'),\n",
       " ('temos', 'temfs'),\n",
       " ('essa', 'eàssa'),\n",
       " ('quando', 'quaôdo'),\n",
       " ('vamos', 'vamvos'),\n",
       " ('sobre', 'hsobre'),\n",
       " ('java', 'sjava'),\n",
       " ('das', 'daõs'),\n",
       " ('agora', 'agorah'),\n",
       " ('está', 'eòtá'),\n",
       " ('cada', 'céda'),\n",
       " ('mesmo', 'zmesmo'),\n",
       " ('nos', 'noâ'),\n",
       " ('forma', 'fobma'),\n",
       " ('seja', 'sejéa'),\n",
       " ('então', 'enêão'),\n",
       " ('criar', 'èriar'),\n",
       " ('código', 'cóeigo'),\n",
       " ('caso', 'casío'),\n",
       " ('exemplo', 'áexemplo'),\n",
       " ('tem', 'tĩem'),\n",
       " ('usuário', 'usuárôio'),\n",
       " ('dados', 'dfados'),\n",
       " ('python', 'pgthon'),\n",
       " ('nossa', 'nossah'),\n",
       " ('além', 'alémè'),\n",
       " ('assim', 'asõim'),\n",
       " ('ter', 'teb'),\n",
       " ('até', 'atĩ'),\n",
       " ('bem', 'âem'),\n",
       " ('design', 'desigen'),\n",
       " ('trabalho', 'trabalàho'),\n",
       " ('foi', 'foo'),\n",
       " ('apenas', 'apenaũ'),\n",
       " ('empresa', 'empresà'),\n",
       " ('valor', 'valíor'),\n",
       " ('será', 'serr'),\n",
       " ('entre', 'entke'),\n",
       " ('método', 'méqodo'),\n",
       " ('precisamos', 'precisamops'),\n",
       " ('ainda', 'ainàa'),\n",
       " ('vai', 'van'),\n",
       " ('conteúdo', 'ûconteúdo'),\n",
       " ('seus', 'çeus'),\n",
       " ('eu', 'eû'),\n",
       " ('todos', 'todtos'),\n",
       " ('tempo', 'temeo'),\n",
       " ('sempre', 'semre'),\n",
       " ('qual', 'quakl'),\n",
       " ('ela', 'elaá'),\n",
       " ('só', 'síó'),\n",
       " ('utilizar', 'utiqizar'),\n",
       " ('projeto', 'prhojeto'),\n",
       " ('site', 'siàe'),\n",
       " ('sem', 'seém'),\n",
       " ('pelo', 'peln'),\n",
       " ('alura', 'aléra'),\n",
       " ('dia', 'tdia'),\n",
       " ('tudo', 'tuúo'),\n",
       " ('podemos', 'kpodemos'),\n",
       " ('esse', 'eẽsse'),\n",
       " ('já', 'jé'),\n",
       " ('nosso', 'nçosso'),\n",
       " ('são', 'sãô'),\n",
       " ('dos', 'odos'),\n",
       " ('muito', 'tuito'),\n",
       " ('imagem', 'imõgem'),\n",
       " ('sua', 'siua'),\n",
       " ('também', 'tamvbém'),\n",
       " ('ele', 'elpe'),\n",
       " ('fazer', 'façzer'),\n",
       " ('temos', 'teos'),\n",
       " ('essa', 'eũsa'),\n",
       " ('quando', 'quaìdo'),\n",
       " ('vamos', 'vjmos'),\n",
       " ('sobre', 'sxobre'),\n",
       " ('java', 'jkva'),\n",
       " ('das', 'dms'),\n",
       " ('agora', 'agtora'),\n",
       " ('está', 'esútá'),\n",
       " ('cada', 'cava'),\n",
       " ('mesmo', 'medmo'),\n",
       " ('nos', 'ános'),\n",
       " ('forma', 'forûa'),\n",
       " ('seja', 'smeja'),\n",
       " ('então', 'enjtão'),\n",
       " ('criar', 'criôar'),\n",
       " ('código', 'cóàigo'),\n",
       " ('caso', 'èaso'),\n",
       " ('exemplo', 'exbemplo'),\n",
       " ('tem', 'túem'),\n",
       " ('usuário', 'usuárin'),\n",
       " ('dados', 'daáos'),\n",
       " ('python', 'pythoçn'),\n",
       " ('nossa', 'nossk'),\n",
       " ('além', 'âlém'),\n",
       " ('assim', 'aóssim'),\n",
       " ('ter', 'tãer'),\n",
       " ('até', 'vté'),\n",
       " ('bem', 'búm'),\n",
       " ('design', 'íesign'),\n",
       " ('trabalho', 'trabèalho'),\n",
       " ('foi', 'kfoi'),\n",
       " ('apenas', 'aapenas'),\n",
       " ('empresa', 'pmpresa'),\n",
       " ('valor', 'valoqr'),\n",
       " ('será', 'sçerá'),\n",
       " ('entre', 'entró'),\n",
       " ('método', 'nétodo'),\n",
       " ('precisamos', 'prefcisamos'),\n",
       " ('ainda', 'sainda'),\n",
       " ('vai', 'uai'),\n",
       " ('conteúdo', 'cĩonteúdo'),\n",
       " ('seus', 'sâus'),\n",
       " ('eu', 'ìeu'),\n",
       " ('todos', 'todás'),\n",
       " ('tempo', 'utempo'),\n",
       " ('sempre', 'sempce'),\n",
       " ('qual', 'fual'),\n",
       " ('ela', 'elal'),\n",
       " ('só', 'skó'),\n",
       " ('utilizar', 'utilĩzar'),\n",
       " ('projeto', 'proójeto'),\n",
       " ('site', 'isite'),\n",
       " ('sem', 'secm'),\n",
       " ('pelo', 'pẽlo'),\n",
       " ('alura', 'aluéa'),\n",
       " ('dia', 'dil'),\n",
       " ('tudo', 'tudy'),\n",
       " ('ela', 'qelay'),\n",
       " ('só', 'sód'),\n",
       " ('utilizar', 'dtilizacr'),\n",
       " ('projeto', 'bprojõto'),\n",
       " ('site', 'ysiteo'),\n",
       " ('sem', 'sõêm'),\n",
       " ('pelo', 'peàli'),\n",
       " ('alura', 'asuraó'),\n",
       " ('dia', 'deiìa'),\n",
       " ('tudo', 'tuĩdoì'),\n",
       " ('ela', 'eúaa'),\n",
       " ('só', 'ró'),\n",
       " ('utilizar', 'utilizẽaçr'),\n",
       " ('projeto', 'prêjetó'),\n",
       " ('site', 'sqiqte'),\n",
       " ('sem', 'sũexm'),\n",
       " ('pelo', 'pçlxo'),\n",
       " ('alura', 'uluraa'),\n",
       " ('dia', 'dĩaz'),\n",
       " ('tudo', 'kzudo'),\n",
       " ('corretor', 'correptor'),\n",
       " ('tática', 'trtica'),\n",
       " ('empoderamento', 'ewpoderamento'),\n",
       " ('linux', 'lifux'),\n",
       " ('cachorro', 'cachoçro'),\n",
       " ('gato', 'îgato'),\n",
       " ('cavalo', 'cakvalo'),\n",
       " ('relógio', 'relógiuo'),\n",
       " ('canela', 'canelac'),\n",
       " ('tênis', 'tênisy'),\n",
       " ('ansiosa', 'anciosa'),\n",
       " ('ansiosa', 'ancciosa'),\n",
       " ('ansiosa', 'ansioa'),\n",
       " ('empoderamento', 'empoderamento'),\n",
       " ('asterisco', 'asterístico'),\n",
       " ('gratuito', 'gratuíto'),\n",
       " ('entretido', 'entertido'),\n",
       " ('ritmo', 'ritimo'),\n",
       " ('idiota', 'indiota'),\n",
       " ('tomara', 'tomare'),\n",
       " ('seja', 'seje'),\n",
       " ('prevalecer', 'provalecer'),\n",
       " ('esteja', 'esteje'),\n",
       " ('mendigo', 'mindigo'),\n",
       " ('cérebro', 'célebro'),\n",
       " ('perturbar', 'pertubar'),\n",
       " ('lógica', 'ólgica'),\n",
       " ('cérebro', 'cérerbo')]"
      ]
     },
     "execution_count": 95,
     "metadata": {},
     "output_type": "execute_result"
    }
   ],
   "source": [
    "def cria_dados_teste(nome_arquivo):\n",
    "    lista_palavras_teste = []\n",
    "    with open(nome_arquivo, \"r\", encoding='utf-8') as file:\n",
    "        for linha in file:\n",
    "            correta, errada = linha.split()\n",
    "            lista_palavras_teste.append((correta, errada))\n",
    "    return lista_palavras_teste\n",
    "\n",
    "lista_teste = cria_dados_teste(\"corretor-dados/palavras.txt\")\n",
    "lista_teste"
   ]
  },
  {
   "cell_type": "code",
   "execution_count": 96,
   "id": "1e8fe1d0",
   "metadata": {},
   "outputs": [
    {
     "name": "stdout",
     "output_type": "stream",
     "text": [
      "Taxa de acerto: 1.06% de 188 palavras\n",
      "Taxa de erro: 98.94% de 188 palavras\n"
     ]
    }
   ],
   "source": [
    "def avaliador(testes):\n",
    "    numero_palavras = len(testes)\n",
    "    acertou = 0\n",
    "    errou = 0\n",
    "    for correta, errada in testes:\n",
    "        palavra_corrigida = corretor(errada)\n",
    "        if palavra_corrigida == correta:\n",
    "            acertou += 1\n",
    "    \n",
    "    taxa_acerto = round(acertou*100/numero_palavras, 2)\n",
    "    taxa_erro = round((numero_palavras - acertou)*100/numero_palavras, 2)\n",
    "    print(f\"Taxa de acerto: {taxa_acerto}% de {numero_palavras} palavras\")\n",
    "    print(f\"Taxa de erro: {taxa_erro}% de {numero_palavras} palavras\")\n",
    "    \n",
    "avaliador(lista_teste)"
   ]
  },
  {
   "cell_type": "code",
   "execution_count": 97,
   "id": "b218d1ce",
   "metadata": {},
   "outputs": [],
   "source": [
    "def deletando_letras(fatias):\n",
    "    novas_palavras = []\n",
    "    for esquerdo, direito in fatias:\n",
    "        palavra = esquerdo + direito[1:]\n",
    "        novas_palavras.append(palavra)\n",
    "    return novas_palavras"
   ]
  },
  {
   "cell_type": "code",
   "execution_count": 98,
   "id": "3c9fdf3d",
   "metadata": {},
   "outputs": [
    {
     "data": {
      "text/plain": [
       "['aalógica',\n",
       " 'aalógica',\n",
       " 'alaógica',\n",
       " 'alóagica',\n",
       " 'alógaica',\n",
       " 'alógiaca',\n",
       " 'alógicaa',\n",
       " 'alógicaa',\n",
       " 'balógica',\n",
       " 'ablógica',\n",
       " 'albógica',\n",
       " 'alóbgica',\n",
       " 'alógbica',\n",
       " 'alógibca',\n",
       " 'alógicba',\n",
       " 'alógicab',\n",
       " 'calógica',\n",
       " 'aclógica',\n",
       " 'alcógica',\n",
       " 'alócgica']"
      ]
     },
     "execution_count": 98,
     "metadata": {},
     "output_type": "execute_result"
    }
   ],
   "source": [
    "def gerador_palavras(palavra):\n",
    "    fatias = []\n",
    "    for i in range(len(palavra)+1):\n",
    "        fatias.append((palavra[:i], palavra[i:]))\n",
    "    palavras_geradas = insere_letras(fatias)\n",
    "    palavras_geradas += deletando_letras(fatias)\n",
    "    return palavras_geradas\n",
    "\n",
    "palavra_exemplo = \"alógica\"\n",
    "palavras_geradas = gerador_palavras(palavra_exemplo)\n",
    "palavras_geradas[:20]"
   ]
  },
  {
   "cell_type": "code",
   "execution_count": 99,
   "id": "a5f1d0ba",
   "metadata": {},
   "outputs": [
    {
     "data": {
      "text/plain": [
       "'lógica'"
      ]
     },
     "execution_count": 99,
     "metadata": {},
     "output_type": "execute_result"
    }
   ],
   "source": [
    "palavra_exemplo = \"alógica\"\n",
    "corretor(palavra_exemplo)"
   ]
  },
  {
   "cell_type": "code",
   "execution_count": 100,
   "id": "8cadfcd3",
   "metadata": {},
   "outputs": [
    {
     "data": {
      "text/plain": [
       "'lógica'"
      ]
     },
     "execution_count": 100,
     "metadata": {},
     "output_type": "execute_result"
    }
   ],
   "source": [
    "corretor(\"lóigica\")"
   ]
  },
  {
   "cell_type": "code",
   "execution_count": 101,
   "id": "26acf644",
   "metadata": {},
   "outputs": [
    {
     "name": "stdout",
     "output_type": "stream",
     "text": [
      "Taxa de acerto: 40.96% de 188 palavras\n",
      "Taxa de erro: 59.04% de 188 palavras\n"
     ]
    }
   ],
   "source": [
    "avaliador(lista_teste)"
   ]
  },
  {
   "cell_type": "code",
   "execution_count": 102,
   "id": "74e25084",
   "metadata": {},
   "outputs": [
    {
     "data": {
      "text/plain": [
       "['alígica',\n",
       " 'laígica',\n",
       " 'líagica',\n",
       " 'lígaica',\n",
       " 'lígiaca',\n",
       " 'lígicaa',\n",
       " 'lígicaa',\n",
       " 'blígica',\n",
       " 'lbígica',\n",
       " 'líbgica',\n",
       " 'lígbica',\n",
       " 'lígibca',\n",
       " 'lígicba',\n",
       " 'lígicab',\n",
       " 'clígica',\n",
       " 'lcígica',\n",
       " 'lícgica',\n",
       " 'lígcica',\n",
       " 'lígicca',\n",
       " 'lígicca']"
      ]
     },
     "execution_count": 102,
     "metadata": {},
     "output_type": "execute_result"
    }
   ],
   "source": [
    "def substitui_letras(fatias):\n",
    "    novas_palavras = []\n",
    "    letras = 'abcdefghijklmnopqrstuvwxyzàáâãèéêìíîòóôõùúûç'\n",
    "    \n",
    "    for letra in letras:\n",
    "        for esquerdo, direito in fatias:\n",
    "            palavra = esquerdo + letra + direito[1:]\n",
    "            novas_palavras.append(palavra)\n",
    "    return novas_palavras\n",
    "\n",
    "def gerador_palavras(palavra):\n",
    "    fatias = []\n",
    "    for i in range(len(palavra)+1):\n",
    "        fatias.append((palavra[:i], palavra[i:]))\n",
    "    palavras_geradas = insere_letras(fatias)\n",
    "    palavras_geradas += deletando_letras(fatias)\n",
    "    palavras_geradas += substitui_letras(fatias)\n",
    "    return palavras_geradas\n",
    "\n",
    "palavras_geradas = gerador_palavras(\"lígica\")\n",
    "palavras_geradas[:20]"
   ]
  },
  {
   "cell_type": "code",
   "execution_count": 103,
   "id": "f5b82d86",
   "metadata": {},
   "outputs": [
    {
     "data": {
      "text/plain": [
       "'lógica'"
      ]
     },
     "execution_count": 103,
     "metadata": {},
     "output_type": "execute_result"
    }
   ],
   "source": [
    "corretor(\"lígica\")"
   ]
  },
  {
   "cell_type": "code",
   "execution_count": 104,
   "id": "39492783",
   "metadata": {},
   "outputs": [
    {
     "name": "stdout",
     "output_type": "stream",
     "text": [
      "Taxa de acerto: 75.53% de 188 palavras\n",
      "Taxa de erro: 24.47% de 188 palavras\n"
     ]
    }
   ],
   "source": [
    "avaliador(lista_teste)"
   ]
  },
  {
   "cell_type": "code",
   "execution_count": 105,
   "id": "495c2806",
   "metadata": {},
   "outputs": [
    {
     "data": {
      "text/plain": [
       "['alógiac',\n",
       " 'laógiac',\n",
       " 'lóagiac',\n",
       " 'lógaiac',\n",
       " 'lógiaac',\n",
       " 'lógiaac',\n",
       " 'lógiaca',\n",
       " 'blógiac',\n",
       " 'lbógiac',\n",
       " 'lóbgiac',\n",
       " 'lógbiac',\n",
       " 'lógibac',\n",
       " 'lógiabc',\n",
       " 'lógiacb',\n",
       " 'clógiac',\n",
       " 'lcógiac',\n",
       " 'lócgiac',\n",
       " 'lógciac',\n",
       " 'lógicac',\n",
       " 'lógiacc',\n",
       " 'lógiacc',\n",
       " 'dlógiac',\n",
       " 'ldógiac',\n",
       " 'lódgiac',\n",
       " 'lógdiac',\n",
       " 'lógidac',\n",
       " 'lógiadc',\n",
       " 'lógiacd',\n",
       " 'elógiac',\n",
       " 'leógiac',\n",
       " 'lóegiac',\n",
       " 'lógeiac',\n",
       " 'lógieac',\n",
       " 'lógiaec',\n",
       " 'lógiace',\n",
       " 'flógiac',\n",
       " 'lfógiac',\n",
       " 'lófgiac',\n",
       " 'lógfiac',\n",
       " 'lógifac',\n",
       " 'lógiafc',\n",
       " 'lógiacf',\n",
       " 'glógiac',\n",
       " 'lgógiac',\n",
       " 'lóggiac',\n",
       " 'lóggiac',\n",
       " 'lógigac',\n",
       " 'lógiagc',\n",
       " 'lógiacg',\n",
       " 'hlógiac',\n",
       " 'lhógiac',\n",
       " 'lóhgiac',\n",
       " 'lóghiac',\n",
       " 'lógihac',\n",
       " 'lógiahc',\n",
       " 'lógiach',\n",
       " 'ilógiac',\n",
       " 'liógiac',\n",
       " 'lóigiac',\n",
       " 'lógiiac',\n",
       " 'lógiiac',\n",
       " 'lógiaic',\n",
       " 'lógiaci',\n",
       " 'jlógiac',\n",
       " 'ljógiac',\n",
       " 'lójgiac',\n",
       " 'lógjiac',\n",
       " 'lógijac',\n",
       " 'lógiajc',\n",
       " 'lógiacj',\n",
       " 'klógiac',\n",
       " 'lkógiac',\n",
       " 'lókgiac',\n",
       " 'lógkiac',\n",
       " 'lógikac',\n",
       " 'lógiakc',\n",
       " 'lógiack',\n",
       " 'llógiac',\n",
       " 'llógiac',\n",
       " 'lólgiac',\n",
       " 'lógliac',\n",
       " 'lógilac',\n",
       " 'lógialc',\n",
       " 'lógiacl',\n",
       " 'mlógiac',\n",
       " 'lmógiac',\n",
       " 'lómgiac',\n",
       " 'lógmiac',\n",
       " 'lógimac',\n",
       " 'lógiamc',\n",
       " 'lógiacm',\n",
       " 'nlógiac',\n",
       " 'lnógiac',\n",
       " 'lóngiac',\n",
       " 'lógniac',\n",
       " 'lóginac',\n",
       " 'lógianc',\n",
       " 'lógiacn',\n",
       " 'ológiac',\n",
       " 'loógiac',\n",
       " 'lóogiac',\n",
       " 'lógoiac',\n",
       " 'lógioac',\n",
       " 'lógiaoc',\n",
       " 'lógiaco',\n",
       " 'plógiac',\n",
       " 'lpógiac',\n",
       " 'lópgiac',\n",
       " 'lógpiac',\n",
       " 'lógipac',\n",
       " 'lógiapc',\n",
       " 'lógiacp',\n",
       " 'qlógiac',\n",
       " 'lqógiac',\n",
       " 'lóqgiac',\n",
       " 'lógqiac',\n",
       " 'lógiqac',\n",
       " 'lógiaqc',\n",
       " 'lógiacq',\n",
       " 'rlógiac',\n",
       " 'lrógiac',\n",
       " 'lórgiac',\n",
       " 'lógriac',\n",
       " 'lógirac',\n",
       " 'lógiarc',\n",
       " 'lógiacr',\n",
       " 'slógiac',\n",
       " 'lsógiac',\n",
       " 'lósgiac',\n",
       " 'lógsiac',\n",
       " 'lógisac',\n",
       " 'lógiasc',\n",
       " 'lógiacs',\n",
       " 'tlógiac',\n",
       " 'ltógiac',\n",
       " 'lótgiac',\n",
       " 'lógtiac',\n",
       " 'lógitac',\n",
       " 'lógiatc',\n",
       " 'lógiact',\n",
       " 'ulógiac',\n",
       " 'luógiac',\n",
       " 'lóugiac',\n",
       " 'lóguiac',\n",
       " 'lógiuac',\n",
       " 'lógiauc',\n",
       " 'lógiacu',\n",
       " 'vlógiac',\n",
       " 'lvógiac',\n",
       " 'lóvgiac',\n",
       " 'lógviac',\n",
       " 'lógivac',\n",
       " 'lógiavc',\n",
       " 'lógiacv',\n",
       " 'wlógiac',\n",
       " 'lwógiac',\n",
       " 'lówgiac',\n",
       " 'lógwiac',\n",
       " 'lógiwac',\n",
       " 'lógiawc',\n",
       " 'lógiacw',\n",
       " 'xlógiac',\n",
       " 'lxógiac',\n",
       " 'lóxgiac',\n",
       " 'lógxiac',\n",
       " 'lógixac',\n",
       " 'lógiaxc',\n",
       " 'lógiacx',\n",
       " 'ylógiac',\n",
       " 'lyógiac',\n",
       " 'lóygiac',\n",
       " 'lógyiac',\n",
       " 'lógiyac',\n",
       " 'lógiayc',\n",
       " 'lógiacy',\n",
       " 'zlógiac',\n",
       " 'lzógiac',\n",
       " 'lózgiac',\n",
       " 'lógziac',\n",
       " 'lógizac',\n",
       " 'lógiazc',\n",
       " 'lógiacz',\n",
       " 'àlógiac',\n",
       " 'làógiac',\n",
       " 'lóàgiac',\n",
       " 'lógàiac',\n",
       " 'lógiàac',\n",
       " 'lógiaàc',\n",
       " 'lógiacà',\n",
       " 'álógiac',\n",
       " 'láógiac',\n",
       " 'lóágiac',\n",
       " 'lógáiac',\n",
       " 'lógiáac',\n",
       " 'lógiaác',\n",
       " 'lógiacá',\n",
       " 'âlógiac',\n",
       " 'lâógiac',\n",
       " 'lóâgiac',\n",
       " 'lógâiac',\n",
       " 'lógiâac',\n",
       " 'lógiaâc',\n",
       " 'lógiacâ',\n",
       " 'ãlógiac',\n",
       " 'lãógiac',\n",
       " 'lóãgiac',\n",
       " 'lógãiac',\n",
       " 'lógiãac',\n",
       " 'lógiaãc',\n",
       " 'lógiacã',\n",
       " 'èlógiac',\n",
       " 'lèógiac',\n",
       " 'lóègiac',\n",
       " 'lógèiac',\n",
       " 'lógièac',\n",
       " 'lógiaèc',\n",
       " 'lógiacè',\n",
       " 'élógiac',\n",
       " 'léógiac',\n",
       " 'lóégiac',\n",
       " 'lógéiac',\n",
       " 'lógiéac',\n",
       " 'lógiaéc',\n",
       " 'lógiacé',\n",
       " 'êlógiac',\n",
       " 'lêógiac',\n",
       " 'lóêgiac',\n",
       " 'lógêiac',\n",
       " 'lógiêac',\n",
       " 'lógiaêc',\n",
       " 'lógiacê',\n",
       " 'ìlógiac',\n",
       " 'lìógiac',\n",
       " 'lóìgiac',\n",
       " 'lógìiac',\n",
       " 'lógiìac',\n",
       " 'lógiaìc',\n",
       " 'lógiacì',\n",
       " 'ílógiac',\n",
       " 'líógiac',\n",
       " 'lóígiac',\n",
       " 'lógíiac',\n",
       " 'lógiíac',\n",
       " 'lógiaíc',\n",
       " 'lógiací',\n",
       " 'îlógiac',\n",
       " 'lîógiac',\n",
       " 'lóîgiac',\n",
       " 'lógîiac',\n",
       " 'lógiîac',\n",
       " 'lógiaîc',\n",
       " 'lógiacî',\n",
       " 'òlógiac',\n",
       " 'lòógiac',\n",
       " 'lóògiac',\n",
       " 'lógòiac',\n",
       " 'lógiòac',\n",
       " 'lógiaòc',\n",
       " 'lógiacò',\n",
       " 'ólógiac',\n",
       " 'lóógiac',\n",
       " 'lóógiac',\n",
       " 'lógóiac',\n",
       " 'lógióac',\n",
       " 'lógiaóc',\n",
       " 'lógiacó',\n",
       " 'ôlógiac',\n",
       " 'lôógiac',\n",
       " 'lóôgiac',\n",
       " 'lógôiac',\n",
       " 'lógiôac',\n",
       " 'lógiaôc',\n",
       " 'lógiacô',\n",
       " 'õlógiac',\n",
       " 'lõógiac',\n",
       " 'lóõgiac',\n",
       " 'lógõiac',\n",
       " 'lógiõac',\n",
       " 'lógiaõc',\n",
       " 'lógiacõ',\n",
       " 'ùlógiac',\n",
       " 'lùógiac',\n",
       " 'lóùgiac',\n",
       " 'lógùiac',\n",
       " 'lógiùac',\n",
       " 'lógiaùc',\n",
       " 'lógiacù',\n",
       " 'úlógiac',\n",
       " 'lúógiac',\n",
       " 'lóúgiac',\n",
       " 'lógúiac',\n",
       " 'lógiúac',\n",
       " 'lógiaúc',\n",
       " 'lógiacú',\n",
       " 'ûlógiac',\n",
       " 'lûógiac',\n",
       " 'lóûgiac',\n",
       " 'lógûiac',\n",
       " 'lógiûac',\n",
       " 'lógiaûc',\n",
       " 'lógiacû',\n",
       " 'çlógiac',\n",
       " 'lçógiac',\n",
       " 'lóçgiac',\n",
       " 'lógçiac',\n",
       " 'lógiçac',\n",
       " 'lógiaçc',\n",
       " 'lógiacç',\n",
       " 'ógiac',\n",
       " 'lgiac',\n",
       " 'lóiac',\n",
       " 'lógac',\n",
       " 'lógic',\n",
       " 'lógia',\n",
       " 'lógiac',\n",
       " 'aógiac',\n",
       " 'lagiac',\n",
       " 'lóaiac',\n",
       " 'lógaac',\n",
       " 'lógiac',\n",
       " 'lógiaa',\n",
       " 'lógiaca',\n",
       " 'bógiac',\n",
       " 'lbgiac',\n",
       " 'lóbiac',\n",
       " 'lógbac',\n",
       " 'lógibc',\n",
       " 'lógiab',\n",
       " 'lógiacb',\n",
       " 'cógiac',\n",
       " 'lcgiac',\n",
       " 'lóciac',\n",
       " 'lógcac',\n",
       " 'lógicc',\n",
       " 'lógiac',\n",
       " 'lógiacc',\n",
       " 'dógiac',\n",
       " 'ldgiac',\n",
       " 'lódiac',\n",
       " 'lógdac',\n",
       " 'lógidc',\n",
       " 'lógiad',\n",
       " 'lógiacd',\n",
       " 'eógiac',\n",
       " 'legiac',\n",
       " 'lóeiac',\n",
       " 'lógeac',\n",
       " 'lógiec',\n",
       " 'lógiae',\n",
       " 'lógiace',\n",
       " 'fógiac',\n",
       " 'lfgiac',\n",
       " 'lófiac',\n",
       " 'lógfac',\n",
       " 'lógifc',\n",
       " 'lógiaf',\n",
       " 'lógiacf',\n",
       " 'gógiac',\n",
       " 'lggiac',\n",
       " 'lógiac',\n",
       " 'lóggac',\n",
       " 'lógigc',\n",
       " 'lógiag',\n",
       " 'lógiacg',\n",
       " 'hógiac',\n",
       " 'lhgiac',\n",
       " 'lóhiac',\n",
       " 'lóghac',\n",
       " 'lógihc',\n",
       " 'lógiah',\n",
       " 'lógiach',\n",
       " 'iógiac',\n",
       " 'ligiac',\n",
       " 'lóiiac',\n",
       " 'lógiac',\n",
       " 'lógiic',\n",
       " 'lógiai',\n",
       " 'lógiaci',\n",
       " 'jógiac',\n",
       " 'ljgiac',\n",
       " 'lójiac',\n",
       " 'lógjac',\n",
       " 'lógijc',\n",
       " 'lógiaj',\n",
       " 'lógiacj',\n",
       " 'kógiac',\n",
       " 'lkgiac',\n",
       " 'lókiac',\n",
       " 'lógkac',\n",
       " 'lógikc',\n",
       " 'lógiak',\n",
       " 'lógiack',\n",
       " 'lógiac',\n",
       " 'llgiac',\n",
       " 'lóliac',\n",
       " 'lóglac',\n",
       " 'lógilc',\n",
       " 'lógial',\n",
       " 'lógiacl',\n",
       " 'mógiac',\n",
       " 'lmgiac',\n",
       " 'lómiac',\n",
       " 'lógmac',\n",
       " 'lógimc',\n",
       " 'lógiam',\n",
       " 'lógiacm',\n",
       " 'nógiac',\n",
       " 'lngiac',\n",
       " 'lóniac',\n",
       " 'lógnac',\n",
       " 'lóginc',\n",
       " 'lógian',\n",
       " 'lógiacn',\n",
       " 'oógiac',\n",
       " 'logiac',\n",
       " 'lóoiac',\n",
       " 'lógoac',\n",
       " 'lógioc',\n",
       " 'lógiao',\n",
       " 'lógiaco',\n",
       " 'pógiac',\n",
       " 'lpgiac',\n",
       " 'lópiac',\n",
       " 'lógpac',\n",
       " 'lógipc',\n",
       " 'lógiap',\n",
       " 'lógiacp',\n",
       " 'qógiac',\n",
       " 'lqgiac',\n",
       " 'lóqiac',\n",
       " 'lógqac',\n",
       " 'lógiqc',\n",
       " 'lógiaq',\n",
       " 'lógiacq',\n",
       " 'rógiac',\n",
       " 'lrgiac',\n",
       " 'lóriac',\n",
       " 'lógrac',\n",
       " 'lógirc',\n",
       " 'lógiar',\n",
       " 'lógiacr',\n",
       " 'sógiac',\n",
       " 'lsgiac',\n",
       " 'lósiac',\n",
       " 'lógsac',\n",
       " 'lógisc',\n",
       " 'lógias',\n",
       " 'lógiacs',\n",
       " 'tógiac',\n",
       " 'ltgiac',\n",
       " 'lótiac',\n",
       " 'lógtac',\n",
       " 'lógitc',\n",
       " 'lógiat',\n",
       " 'lógiact',\n",
       " 'uógiac',\n",
       " 'lugiac',\n",
       " 'lóuiac',\n",
       " 'lóguac',\n",
       " 'lógiuc',\n",
       " 'lógiau',\n",
       " 'lógiacu',\n",
       " 'vógiac',\n",
       " 'lvgiac',\n",
       " 'lóviac',\n",
       " 'lógvac',\n",
       " 'lógivc',\n",
       " 'lógiav',\n",
       " 'lógiacv',\n",
       " 'wógiac',\n",
       " 'lwgiac',\n",
       " 'lówiac',\n",
       " 'lógwac',\n",
       " 'lógiwc',\n",
       " 'lógiaw',\n",
       " 'lógiacw',\n",
       " 'xógiac',\n",
       " 'lxgiac',\n",
       " 'lóxiac',\n",
       " 'lógxac',\n",
       " 'lógixc',\n",
       " 'lógiax',\n",
       " 'lógiacx',\n",
       " 'yógiac',\n",
       " 'lygiac',\n",
       " 'lóyiac',\n",
       " 'lógyac',\n",
       " 'lógiyc',\n",
       " 'lógiay',\n",
       " 'lógiacy',\n",
       " 'zógiac',\n",
       " 'lzgiac',\n",
       " 'lóziac',\n",
       " 'lógzac',\n",
       " 'lógizc',\n",
       " 'lógiaz',\n",
       " 'lógiacz',\n",
       " 'àógiac',\n",
       " 'làgiac',\n",
       " 'lóàiac',\n",
       " 'lógàac',\n",
       " 'lógiàc',\n",
       " 'lógiaà',\n",
       " 'lógiacà',\n",
       " 'áógiac',\n",
       " 'lágiac',\n",
       " 'lóáiac',\n",
       " 'lógáac',\n",
       " 'lógiác',\n",
       " 'lógiaá',\n",
       " 'lógiacá',\n",
       " 'âógiac',\n",
       " 'lâgiac',\n",
       " 'lóâiac',\n",
       " 'lógâac',\n",
       " 'lógiâc',\n",
       " 'lógiaâ',\n",
       " 'lógiacâ',\n",
       " 'ãógiac',\n",
       " 'lãgiac',\n",
       " 'lóãiac',\n",
       " 'lógãac',\n",
       " 'lógiãc',\n",
       " 'lógiaã',\n",
       " 'lógiacã',\n",
       " 'èógiac',\n",
       " 'lègiac',\n",
       " 'lóèiac',\n",
       " 'lógèac',\n",
       " 'lógièc',\n",
       " 'lógiaè',\n",
       " 'lógiacè',\n",
       " 'éógiac',\n",
       " 'légiac',\n",
       " 'lóéiac',\n",
       " 'lógéac',\n",
       " 'lógiéc',\n",
       " 'lógiaé',\n",
       " 'lógiacé',\n",
       " 'êógiac',\n",
       " 'lêgiac',\n",
       " 'lóêiac',\n",
       " 'lógêac',\n",
       " 'lógiêc',\n",
       " 'lógiaê',\n",
       " 'lógiacê',\n",
       " 'ìógiac',\n",
       " 'lìgiac',\n",
       " 'lóìiac',\n",
       " 'lógìac',\n",
       " 'lógiìc',\n",
       " 'lógiaì',\n",
       " 'lógiacì',\n",
       " 'íógiac',\n",
       " 'lígiac',\n",
       " 'lóíiac',\n",
       " 'lógíac',\n",
       " 'lógiíc',\n",
       " 'lógiaí',\n",
       " 'lógiací',\n",
       " 'îógiac',\n",
       " 'lîgiac',\n",
       " 'lóîiac',\n",
       " 'lógîac',\n",
       " 'lógiîc',\n",
       " 'lógiaî',\n",
       " 'lógiacî',\n",
       " 'òógiac',\n",
       " 'lògiac',\n",
       " 'lóòiac',\n",
       " 'lógòac',\n",
       " 'lógiòc',\n",
       " 'lógiaò',\n",
       " 'lógiacò',\n",
       " 'óógiac',\n",
       " 'lógiac',\n",
       " 'lóóiac',\n",
       " 'lógóac',\n",
       " 'lógióc',\n",
       " 'lógiaó',\n",
       " 'lógiacó',\n",
       " 'ôógiac',\n",
       " 'lôgiac',\n",
       " 'lóôiac',\n",
       " 'lógôac',\n",
       " 'lógiôc',\n",
       " 'lógiaô',\n",
       " 'lógiacô',\n",
       " 'õógiac',\n",
       " 'lõgiac',\n",
       " 'lóõiac',\n",
       " 'lógõac',\n",
       " 'lógiõc',\n",
       " 'lógiaõ',\n",
       " 'lógiacõ',\n",
       " 'ùógiac',\n",
       " 'lùgiac',\n",
       " 'lóùiac',\n",
       " 'lógùac',\n",
       " 'lógiùc',\n",
       " 'lógiaù',\n",
       " 'lógiacù',\n",
       " 'úógiac',\n",
       " 'lúgiac',\n",
       " 'lóúiac',\n",
       " 'lógúac',\n",
       " 'lógiúc',\n",
       " 'lógiaú',\n",
       " 'lógiacú',\n",
       " 'ûógiac',\n",
       " 'lûgiac',\n",
       " 'lóûiac',\n",
       " 'lógûac',\n",
       " 'lógiûc',\n",
       " 'lógiaû',\n",
       " 'lógiacû',\n",
       " 'çógiac',\n",
       " 'lçgiac',\n",
       " 'lóçiac',\n",
       " 'lógçac',\n",
       " 'lógiçc',\n",
       " 'lógiaç',\n",
       " 'lógiacç',\n",
       " 'ólgiac',\n",
       " 'lgóiac',\n",
       " 'lóigac',\n",
       " 'lógaic',\n",
       " 'lógica']"
      ]
     },
     "execution_count": 105,
     "metadata": {},
     "output_type": "execute_result"
    }
   ],
   "source": [
    "def inverte_letras(fatias):\n",
    "    novas_palavras = []\n",
    "    for esquerdo, direito in fatias:\n",
    "        if len(direito) > 1:\n",
    "            palavra = esquerdo + direito[1] + direito[0] + direito[2:]\n",
    "            novas_palavras.append(palavra)\n",
    "    return novas_palavras\n",
    "\n",
    "def gerador_palavras(palavra):\n",
    "    fatias = []\n",
    "    for i in range(len(palavra)+1):\n",
    "        fatias.append((palavra[:i], palavra[i:]))\n",
    "    palavras_geradas = insere_letras(fatias)\n",
    "    palavras_geradas += deletando_letras(fatias)\n",
    "    palavras_geradas += substitui_letras(fatias)\n",
    "    palavras_geradas += inverte_letras(fatias)\n",
    "    return palavras_geradas\n",
    "\n",
    "palavras_geradas = gerador_palavras(\"lógiac\")\n",
    "palavras_geradas"
   ]
  },
  {
   "cell_type": "code",
   "execution_count": 106,
   "id": "49f70f97",
   "metadata": {},
   "outputs": [
    {
     "name": "stdout",
     "output_type": "stream",
     "text": [
      "Taxa de acerto: 76.6% de 188 palavras\n",
      "Taxa de erro: 23.4% de 188 palavras\n"
     ]
    }
   ],
   "source": [
    "avaliador(lista_teste)"
   ]
  },
  {
   "cell_type": "code",
   "execution_count": 107,
   "id": "58e9aaf6",
   "metadata": {},
   "outputs": [
    {
     "name": "stdout",
     "output_type": "stream",
     "text": [
      "Taxa de acerto: 76.6% de 188 palavras\n",
      "Taxa de erro: 23.4% de 188 palavras\n",
      "Taxa de desconhecido: 6.91% de 188 palavras\n"
     ]
    }
   ],
   "source": [
    "def avaliador(testes, vocabulario):\n",
    "    numero_palavras = len(testes)\n",
    "    acertou = 0\n",
    "    errou = 0\n",
    "    desconhecido = 0\n",
    "    for correta, errada in testes:\n",
    "        palavra_corrigida = corretor(errada)\n",
    "        if palavra_corrigida == correta:\n",
    "            acertou += 1\n",
    "        else:\n",
    "            errou += 1\n",
    "            desconhecido += (correta not in vocabulario)\n",
    "    \n",
    "    taxa_acerto = round(acertou*100/numero_palavras, 2)\n",
    "    taxa_erro = round(errou*100/numero_palavras, 2)\n",
    "    taxa_desconhecido = round(desconhecido*100/numero_palavras, 2)\n",
    "    print(f\"Taxa de acerto: {taxa_acerto}% de {numero_palavras} palavras\")\n",
    "    print(f\"Taxa de erro: {taxa_erro}% de {numero_palavras} palavras\")\n",
    "    print(f\"Taxa de desconhecido: {taxa_desconhecido}% de {numero_palavras} palavras\")\n",
    "\n",
    "vocabulario = set(lista_normalizada)\n",
    "avaliador(lista_teste, vocabulario)"
   ]
  },
  {
   "cell_type": "code",
   "execution_count": 108,
   "id": "15d5e297",
   "metadata": {},
   "outputs": [
    {
     "data": {
      "text/plain": [
       "True"
      ]
     },
     "execution_count": 108,
     "metadata": {},
     "output_type": "execute_result"
    }
   ],
   "source": [
    "def gerador_turbinado(palavras_geradas):\n",
    "    novas_palavras = []\n",
    "    for palavra in palavras_geradas:\n",
    "        novas_palavras += gerador_palavras(palavra)\n",
    "    return novas_palavras\n",
    "\n",
    "palavras_geradas = gerador_turbinado(gerador_palavras(\"lóiigica\"))\n",
    "\"lógica\" in palavras_geradas"
   ]
  },
  {
   "cell_type": "code",
   "execution_count": 109,
   "id": "d92a59e8",
   "metadata": {},
   "outputs": [
    {
     "data": {
      "text/plain": [
       "691744"
      ]
     },
     "execution_count": 109,
     "metadata": {},
     "output_type": "execute_result"
    }
   ],
   "source": [
    "len(palavras_geradas)"
   ]
  },
  {
   "cell_type": "code",
   "execution_count": 112,
   "id": "3eac39f2",
   "metadata": {},
   "outputs": [
    {
     "data": {
      "text/plain": [
       "'lógica'"
      ]
     },
     "execution_count": 112,
     "metadata": {},
     "output_type": "execute_result"
    }
   ],
   "source": [
    "def novo_corretor(palavra):\n",
    "    palavras_geradas = gerador_palavras(palavra)\n",
    "    palavras_turbinado = gerador_turbinado(palavras_geradas)\n",
    "    todas_palavras = set(palavras_turbinado + palavras_geradas)\n",
    "    candidatos = [palavra]\n",
    "    for palavra in todas_palavras:\n",
    "        if palavra in vocabulario:\n",
    "            candidatos.append(palavra)\n",
    "    palavra_correta = max(candidatos, key=probabilidade)\n",
    "    return palavra_correta\n",
    "\n",
    "palavra_exemplo = \"lóiigica\"\n",
    "novo_corretor(palavra_exemplo)"
   ]
  },
  {
   "cell_type": "code",
   "execution_count": 115,
   "id": "dd6f7f04",
   "metadata": {},
   "outputs": [],
   "source": [
    "def avaliador(testes, vocabulario, funcao_corretor):\n",
    "    numero_palavras = len(testes)\n",
    "    acertou = 0\n",
    "    errou = 0\n",
    "    desconhecido = 0\n",
    "    for correta, errada in testes:\n",
    "        palavra_corrigida = funcao_corretor(errada)\n",
    "        desconhecido += (correta not in vocabulario)\n",
    "        if palavra_corrigida == correta:\n",
    "            acertou += 1\n",
    "        else:\n",
    "            errou += 1\n",
    "    \n",
    "    taxa_acerto = round(acertou*100/numero_palavras, 2)\n",
    "    taxa_erro = round(errou*100/numero_palavras, 2)\n",
    "    taxa_desconhecido = round(desconhecido*100/numero_palavras, 2)\n",
    "    print(f\"Taxa de acerto: {taxa_acerto}% de {numero_palavras} palavras\")\n",
    "    print(f\"Taxa de erro: {taxa_erro}% de {numero_palavras} palavras\")\n",
    "    print(f\"Taxa de desconhecido: {taxa_desconhecido}% de {numero_palavras} palavras\")"
   ]
  },
  {
   "cell_type": "code",
   "execution_count": 116,
   "id": "1b19a009",
   "metadata": {},
   "outputs": [
    {
     "name": "stdout",
     "output_type": "stream",
     "text": [
      "Avaliando função 'corretor':\n",
      "Taxa de acerto: 76.6% de 188 palavras\n",
      "Taxa de erro: 23.4% de 188 palavras\n",
      "Taxa de desconhecido: 6.91% de 188 palavras\n",
      "CPU times: total: 62.5 ms\n",
      "Wall time: 53 ms\n"
     ]
    }
   ],
   "source": [
    "%%time\n",
    "print(\"Avaliando função 'corretor':\")\n",
    "avaliador(lista_teste, vocabulario, corretor)"
   ]
  },
  {
   "cell_type": "code",
   "execution_count": 117,
   "id": "f7579714",
   "metadata": {},
   "outputs": [
    {
     "name": "stdout",
     "output_type": "stream",
     "text": [
      "Avaliando função 'novo_corretor':\n",
      "Taxa de acerto: 55.85% de 188 palavras\n",
      "Taxa de erro: 44.15% de 188 palavras\n",
      "Taxa de desconhecido: 6.91% de 188 palavras\n",
      "CPU times: total: 37.6 s\n",
      "Wall time: 38 s\n"
     ]
    }
   ],
   "source": [
    "%%time\n",
    "print(\"Avaliando função 'novo_corretor':\")\n",
    "avaliador(lista_teste, vocabulario, novo_corretor)"
   ]
  },
  {
   "cell_type": "code",
   "execution_count": 119,
   "id": "bed8f227",
   "metadata": {},
   "outputs": [],
   "source": [
    "def avaliador_novo_corretor(testes, vocabulario):\n",
    "    numero_palavras = len(testes)\n",
    "    acertou = 0\n",
    "    errou = 0\n",
    "    desconhecido = 0\n",
    "    for correta, errada in testes:\n",
    "        palavra_corrigida = novo_corretor(errada)\n",
    "        desconhecido += (correta not in vocabulario)\n",
    "        if palavra_corrigida == correta:\n",
    "            acertou += 1\n",
    "        else:\n",
    "            errou += 1\n",
    "            print(errada + \"-\" + corretor(errada) + \"-\" + palavra_corrigida)\n",
    "    \n",
    "    taxa_acerto = round(acertou*100/numero_palavras, 2)\n",
    "    taxa_erro = round(errou*100/numero_palavras, 2)\n",
    "    taxa_desconhecido = round(desconhecido*100/numero_palavras, 2)\n",
    "    print(f\"Taxa de acerto: {taxa_acerto}% de {numero_palavras} palavras\")\n",
    "    print(f\"Taxa de erro: {taxa_erro}% de {numero_palavras} palavras\")\n",
    "    print(f\"Taxa de desconhecido: {taxa_desconhecido}% de {numero_palavras} palavras\")"
   ]
  },
  {
   "cell_type": "code",
   "execution_count": 120,
   "id": "e304ff66",
   "metadata": {},
   "outputs": [
    {
     "name": "stdout",
     "output_type": "stream",
     "text": [
      "esje-esse-se\n",
      "sãêo-são-não\n",
      "dosa-dos-do\n",
      "eme-em-de\n",
      "eàssa-essa-esse\n",
      "daõs-das-da\n",
      "céda-cada-da\n",
      "noâ-no-o\n",
      "enêão-então-não\n",
      "tĩem-tem-em\n",
      "nossah-nossa-nosso\n",
      "teb-tem-de\n",
      "atĩ-até-a\n",
      "âem-em-de\n",
      "foo-foi-o\n",
      "serr-ser-se\n",
      "entke-entre-então\n",
      "van-vai-a\n",
      "çeus-seus-seu\n",
      "eû-e-de\n",
      "temeo-tempo-temos\n",
      "semre-sempre-ser\n",
      "elaá-ela-ele\n",
      "síó-só-se\n",
      "siàe-site-se\n",
      "seém-sem-em\n",
      "peln-pelo-ele\n",
      "aléra-alura-agora\n",
      "tdia-dia-da\n",
      "tuúo-tudo-tipo\n",
      "jé-é-de\n",
      "sãô-são-não\n",
      "odos-dos-do\n",
      "siua-sua-seu\n",
      "elpe-ele-esse\n",
      "teos-temos-os\n",
      "eũsa-essa-esse\n",
      "vjmos-vamos-temos\n",
      "dms-dos-de\n",
      "cava-java-para\n",
      "ános-nos-no\n",
      "èaso-caso-as\n",
      "túem-tem-em\n",
      "daáos-dados-dos\n",
      "nossk-nosso-nosso\n",
      "tãer-ter-ser\n",
      "vté-até-é\n",
      "búm-bem-um\n",
      "sçerá-será-ser\n",
      "entró-entre-então\n",
      "uai-vai-a\n",
      "sâus-seus-seu\n",
      "ìeu-seu-de\n",
      "fual-qual-sua\n",
      "elal-ela-ele\n",
      "skó-só-se\n",
      "secm-sem-em\n",
      "aluéa-alura-além\n",
      "dil-dia-de\n",
      "sód-só-se\n",
      "eúaa-aeúaa-essa\n",
      "ró-só-de\n",
      "dĩaz-adĩaz-da\n",
      "correptor-corretor-correto\n",
      "trtica-tática-prática\n",
      "ewpoderamento-aewpoderamento-ewpoderamento\n",
      "îgato-gato-fato\n",
      "cakvalo-acakvalo-carvalho\n",
      "canelac-acanelac-janela\n",
      "tênisy-atênisy-tênisy\n",
      "anciosa-aanciosa-ansioso\n",
      "ancciosa-aancciosa-ancciosa\n",
      "ansioa-aansioa-antiga\n",
      "asterístico-aasterístico-asterístico\n",
      "entertido-aentertido-entendido\n",
      "ritimo-ritmo-ótimo\n",
      "indiota-aindiota-indica\n",
      "tomare-tomar-tomar\n",
      "seje-seja-se\n",
      "provalecer-aprovalecer-prevaleceu\n",
      "esteje-esteja-este\n",
      "mindigo-amindigo-indico\n",
      "pertubar-apertubar-derrubar\n",
      "Taxa de acerto: 55.85% de 188 palavras\n",
      "Taxa de erro: 44.15% de 188 palavras\n",
      "Taxa de desconhecido: 6.91% de 188 palavras\n"
     ]
    }
   ],
   "source": [
    "avaliador_novo_corretor(lista_teste, vocabulario)"
   ]
  },
  {
   "cell_type": "code",
   "execution_count": 122,
   "id": "6917de9a",
   "metadata": {},
   "outputs": [
    {
     "name": "stdout",
     "output_type": "stream",
     "text": [
      "Taxa de acerto: 76.6% de 188 palavras\n",
      "Taxa de erro: 23.4% de 188 palavras\n",
      "Taxa de desconhecido: 6.91% de 188 palavras\n"
     ]
    }
   ],
   "source": [
    "def avaliador(testes, vocabulario):\n",
    "    numero_palavras = len(testes)\n",
    "    acertou = 0\n",
    "    errou = 0\n",
    "    desconhecido = 0\n",
    "    for correta, errada in testes:\n",
    "        palavra_corrigida = corretor(errada)\n",
    "        if palavra_corrigida == correta:\n",
    "            acertou += 1\n",
    "        else:\n",
    "            errou += 1\n",
    "            desconhecido += (correta not in vocabulario)\n",
    "    \n",
    "    taxa_acerto = round(acertou*100/numero_palavras, 2)\n",
    "    taxa_erro = round(errou*100/numero_palavras, 2)\n",
    "    taxa_desconhecido = round(desconhecido*100/numero_palavras, 2)\n",
    "    print(f\"Taxa de acerto: {taxa_acerto}% de {numero_palavras} palavras\")\n",
    "    print(f\"Taxa de erro: {taxa_erro}% de {numero_palavras} palavras\")\n",
    "    print(f\"Taxa de desconhecido: {taxa_desconhecido}% de {numero_palavras} palavras\")\n",
    "    \n",
    "avaliador(lista_teste, vocabulario)"
   ]
  },
  {
   "cell_type": "code",
   "execution_count": 123,
   "id": "5075d795",
   "metadata": {},
   "outputs": [
    {
     "name": "stdout",
     "output_type": "stream",
     "text": [
      "lógica\n",
      "fica\n"
     ]
    }
   ],
   "source": [
    "palavra = \"lgica\"\n",
    "print(corretor(palavra))\n",
    "print(novo_corretor(palavra))"
   ]
  },
  {
   "cell_type": "code",
   "execution_count": 124,
   "id": "eccc6d42",
   "metadata": {},
   "outputs": [
    {
     "name": "stdout",
     "output_type": "stream",
     "text": [
      "alóiigica\n",
      "lógica\n"
     ]
    }
   ],
   "source": [
    "palavra = \"lóiigica\"\n",
    "print(corretor(palavra))\n",
    "print(novo_corretor(palavra))"
   ]
  }
 ],
 "metadata": {
  "kernelspec": {
   "display_name": "Python 3 (ipykernel)",
   "language": "python",
   "name": "python3"
  },
  "language_info": {
   "codemirror_mode": {
    "name": "ipython",
    "version": 3
   },
   "file_extension": ".py",
   "mimetype": "text/x-python",
   "name": "python",
   "nbconvert_exporter": "python",
   "pygments_lexer": "ipython3",
   "version": "3.8.5"
  }
 },
 "nbformat": 4,
 "nbformat_minor": 5
}
