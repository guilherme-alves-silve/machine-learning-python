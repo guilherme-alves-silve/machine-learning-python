{
  "nbformat": 4,
  "nbformat_minor": 0,
  "metadata": {
    "colab": {
      "name": "machine-learning-decision-tree.ipynb",
      "provenance": [],
      "collapsed_sections": []
    },
    "kernelspec": {
      "name": "python3",
      "display_name": "Python 3"
    },
    "language_info": {
      "name": "python"
    }
  },
  "cells": [
    {
      "cell_type": "code",
      "source": [
        "import pandas as pd\n",
        "\n",
        "dados = pd.read_csv(\"drive/MyDrive/creditcard.csv\")\n",
        "dados.head()"
      ],
      "metadata": {
        "colab": {
          "base_uri": "https://localhost:8080/",
          "height": 235
        },
        "id": "jUaxYqx0uk5I",
        "outputId": "f8994af0-0a04-4771-8de4-3d3a5c18d935"
      },
      "execution_count": 3,
      "outputs": [
        {
          "output_type": "execute_result",
          "data": {
            "text/plain": [
              "   Time        V1        V2        V3        V4        V5        V6        V7  \\\n",
              "0   0.0 -1.359807 -0.072781  2.536347  1.378155 -0.338321  0.462388  0.239599   \n",
              "1   0.0  1.191857  0.266151  0.166480  0.448154  0.060018 -0.082361 -0.078803   \n",
              "2   1.0 -1.358354 -1.340163  1.773209  0.379780 -0.503198  1.800499  0.791461   \n",
              "3   1.0 -0.966272 -0.185226  1.792993 -0.863291 -0.010309  1.247203  0.237609   \n",
              "4   2.0 -1.158233  0.877737  1.548718  0.403034 -0.407193  0.095921  0.592941   \n",
              "\n",
              "         V8        V9  ...       V21       V22       V23       V24       V25  \\\n",
              "0  0.098698  0.363787  ... -0.018307  0.277838 -0.110474  0.066928  0.128539   \n",
              "1  0.085102 -0.255425  ... -0.225775 -0.638672  0.101288 -0.339846  0.167170   \n",
              "2  0.247676 -1.514654  ...  0.247998  0.771679  0.909412 -0.689281 -0.327642   \n",
              "3  0.377436 -1.387024  ... -0.108300  0.005274 -0.190321 -1.175575  0.647376   \n",
              "4 -0.270533  0.817739  ... -0.009431  0.798278 -0.137458  0.141267 -0.206010   \n",
              "\n",
              "        V26       V27       V28  Amount  Class  \n",
              "0 -0.189115  0.133558 -0.021053  149.62      0  \n",
              "1  0.125895 -0.008983  0.014724    2.69      0  \n",
              "2 -0.139097 -0.055353 -0.059752  378.66      0  \n",
              "3 -0.221929  0.062723  0.061458  123.50      0  \n",
              "4  0.502292  0.219422  0.215153   69.99      0  \n",
              "\n",
              "[5 rows x 31 columns]"
            ],
            "text/html": [
              "\n",
              "  <div id=\"df-5f25f80b-c97f-43f8-a95c-bb00b4e4d08a\">\n",
              "    <div class=\"colab-df-container\">\n",
              "      <div>\n",
              "<style scoped>\n",
              "    .dataframe tbody tr th:only-of-type {\n",
              "        vertical-align: middle;\n",
              "    }\n",
              "\n",
              "    .dataframe tbody tr th {\n",
              "        vertical-align: top;\n",
              "    }\n",
              "\n",
              "    .dataframe thead th {\n",
              "        text-align: right;\n",
              "    }\n",
              "</style>\n",
              "<table border=\"1\" class=\"dataframe\">\n",
              "  <thead>\n",
              "    <tr style=\"text-align: right;\">\n",
              "      <th></th>\n",
              "      <th>Time</th>\n",
              "      <th>V1</th>\n",
              "      <th>V2</th>\n",
              "      <th>V3</th>\n",
              "      <th>V4</th>\n",
              "      <th>V5</th>\n",
              "      <th>V6</th>\n",
              "      <th>V7</th>\n",
              "      <th>V8</th>\n",
              "      <th>V9</th>\n",
              "      <th>...</th>\n",
              "      <th>V21</th>\n",
              "      <th>V22</th>\n",
              "      <th>V23</th>\n",
              "      <th>V24</th>\n",
              "      <th>V25</th>\n",
              "      <th>V26</th>\n",
              "      <th>V27</th>\n",
              "      <th>V28</th>\n",
              "      <th>Amount</th>\n",
              "      <th>Class</th>\n",
              "    </tr>\n",
              "  </thead>\n",
              "  <tbody>\n",
              "    <tr>\n",
              "      <th>0</th>\n",
              "      <td>0.0</td>\n",
              "      <td>-1.359807</td>\n",
              "      <td>-0.072781</td>\n",
              "      <td>2.536347</td>\n",
              "      <td>1.378155</td>\n",
              "      <td>-0.338321</td>\n",
              "      <td>0.462388</td>\n",
              "      <td>0.239599</td>\n",
              "      <td>0.098698</td>\n",
              "      <td>0.363787</td>\n",
              "      <td>...</td>\n",
              "      <td>-0.018307</td>\n",
              "      <td>0.277838</td>\n",
              "      <td>-0.110474</td>\n",
              "      <td>0.066928</td>\n",
              "      <td>0.128539</td>\n",
              "      <td>-0.189115</td>\n",
              "      <td>0.133558</td>\n",
              "      <td>-0.021053</td>\n",
              "      <td>149.62</td>\n",
              "      <td>0</td>\n",
              "    </tr>\n",
              "    <tr>\n",
              "      <th>1</th>\n",
              "      <td>0.0</td>\n",
              "      <td>1.191857</td>\n",
              "      <td>0.266151</td>\n",
              "      <td>0.166480</td>\n",
              "      <td>0.448154</td>\n",
              "      <td>0.060018</td>\n",
              "      <td>-0.082361</td>\n",
              "      <td>-0.078803</td>\n",
              "      <td>0.085102</td>\n",
              "      <td>-0.255425</td>\n",
              "      <td>...</td>\n",
              "      <td>-0.225775</td>\n",
              "      <td>-0.638672</td>\n",
              "      <td>0.101288</td>\n",
              "      <td>-0.339846</td>\n",
              "      <td>0.167170</td>\n",
              "      <td>0.125895</td>\n",
              "      <td>-0.008983</td>\n",
              "      <td>0.014724</td>\n",
              "      <td>2.69</td>\n",
              "      <td>0</td>\n",
              "    </tr>\n",
              "    <tr>\n",
              "      <th>2</th>\n",
              "      <td>1.0</td>\n",
              "      <td>-1.358354</td>\n",
              "      <td>-1.340163</td>\n",
              "      <td>1.773209</td>\n",
              "      <td>0.379780</td>\n",
              "      <td>-0.503198</td>\n",
              "      <td>1.800499</td>\n",
              "      <td>0.791461</td>\n",
              "      <td>0.247676</td>\n",
              "      <td>-1.514654</td>\n",
              "      <td>...</td>\n",
              "      <td>0.247998</td>\n",
              "      <td>0.771679</td>\n",
              "      <td>0.909412</td>\n",
              "      <td>-0.689281</td>\n",
              "      <td>-0.327642</td>\n",
              "      <td>-0.139097</td>\n",
              "      <td>-0.055353</td>\n",
              "      <td>-0.059752</td>\n",
              "      <td>378.66</td>\n",
              "      <td>0</td>\n",
              "    </tr>\n",
              "    <tr>\n",
              "      <th>3</th>\n",
              "      <td>1.0</td>\n",
              "      <td>-0.966272</td>\n",
              "      <td>-0.185226</td>\n",
              "      <td>1.792993</td>\n",
              "      <td>-0.863291</td>\n",
              "      <td>-0.010309</td>\n",
              "      <td>1.247203</td>\n",
              "      <td>0.237609</td>\n",
              "      <td>0.377436</td>\n",
              "      <td>-1.387024</td>\n",
              "      <td>...</td>\n",
              "      <td>-0.108300</td>\n",
              "      <td>0.005274</td>\n",
              "      <td>-0.190321</td>\n",
              "      <td>-1.175575</td>\n",
              "      <td>0.647376</td>\n",
              "      <td>-0.221929</td>\n",
              "      <td>0.062723</td>\n",
              "      <td>0.061458</td>\n",
              "      <td>123.50</td>\n",
              "      <td>0</td>\n",
              "    </tr>\n",
              "    <tr>\n",
              "      <th>4</th>\n",
              "      <td>2.0</td>\n",
              "      <td>-1.158233</td>\n",
              "      <td>0.877737</td>\n",
              "      <td>1.548718</td>\n",
              "      <td>0.403034</td>\n",
              "      <td>-0.407193</td>\n",
              "      <td>0.095921</td>\n",
              "      <td>0.592941</td>\n",
              "      <td>-0.270533</td>\n",
              "      <td>0.817739</td>\n",
              "      <td>...</td>\n",
              "      <td>-0.009431</td>\n",
              "      <td>0.798278</td>\n",
              "      <td>-0.137458</td>\n",
              "      <td>0.141267</td>\n",
              "      <td>-0.206010</td>\n",
              "      <td>0.502292</td>\n",
              "      <td>0.219422</td>\n",
              "      <td>0.215153</td>\n",
              "      <td>69.99</td>\n",
              "      <td>0</td>\n",
              "    </tr>\n",
              "  </tbody>\n",
              "</table>\n",
              "<p>5 rows × 31 columns</p>\n",
              "</div>\n",
              "      <button class=\"colab-df-convert\" onclick=\"convertToInteractive('df-5f25f80b-c97f-43f8-a95c-bb00b4e4d08a')\"\n",
              "              title=\"Convert this dataframe to an interactive table.\"\n",
              "              style=\"display:none;\">\n",
              "        \n",
              "  <svg xmlns=\"http://www.w3.org/2000/svg\" height=\"24px\"viewBox=\"0 0 24 24\"\n",
              "       width=\"24px\">\n",
              "    <path d=\"M0 0h24v24H0V0z\" fill=\"none\"/>\n",
              "    <path d=\"M18.56 5.44l.94 2.06.94-2.06 2.06-.94-2.06-.94-.94-2.06-.94 2.06-2.06.94zm-11 1L8.5 8.5l.94-2.06 2.06-.94-2.06-.94L8.5 2.5l-.94 2.06-2.06.94zm10 10l.94 2.06.94-2.06 2.06-.94-2.06-.94-.94-2.06-.94 2.06-2.06.94z\"/><path d=\"M17.41 7.96l-1.37-1.37c-.4-.4-.92-.59-1.43-.59-.52 0-1.04.2-1.43.59L10.3 9.45l-7.72 7.72c-.78.78-.78 2.05 0 2.83L4 21.41c.39.39.9.59 1.41.59.51 0 1.02-.2 1.41-.59l7.78-7.78 2.81-2.81c.8-.78.8-2.07 0-2.86zM5.41 20L4 18.59l7.72-7.72 1.47 1.35L5.41 20z\"/>\n",
              "  </svg>\n",
              "      </button>\n",
              "      \n",
              "  <style>\n",
              "    .colab-df-container {\n",
              "      display:flex;\n",
              "      flex-wrap:wrap;\n",
              "      gap: 12px;\n",
              "    }\n",
              "\n",
              "    .colab-df-convert {\n",
              "      background-color: #E8F0FE;\n",
              "      border: none;\n",
              "      border-radius: 50%;\n",
              "      cursor: pointer;\n",
              "      display: none;\n",
              "      fill: #1967D2;\n",
              "      height: 32px;\n",
              "      padding: 0 0 0 0;\n",
              "      width: 32px;\n",
              "    }\n",
              "\n",
              "    .colab-df-convert:hover {\n",
              "      background-color: #E2EBFA;\n",
              "      box-shadow: 0px 1px 2px rgba(60, 64, 67, 0.3), 0px 1px 3px 1px rgba(60, 64, 67, 0.15);\n",
              "      fill: #174EA6;\n",
              "    }\n",
              "\n",
              "    [theme=dark] .colab-df-convert {\n",
              "      background-color: #3B4455;\n",
              "      fill: #D2E3FC;\n",
              "    }\n",
              "\n",
              "    [theme=dark] .colab-df-convert:hover {\n",
              "      background-color: #434B5C;\n",
              "      box-shadow: 0px 1px 3px 1px rgba(0, 0, 0, 0.15);\n",
              "      filter: drop-shadow(0px 1px 2px rgba(0, 0, 0, 0.3));\n",
              "      fill: #FFFFFF;\n",
              "    }\n",
              "  </style>\n",
              "\n",
              "      <script>\n",
              "        const buttonEl =\n",
              "          document.querySelector('#df-5f25f80b-c97f-43f8-a95c-bb00b4e4d08a button.colab-df-convert');\n",
              "        buttonEl.style.display =\n",
              "          google.colab.kernel.accessAllowed ? 'block' : 'none';\n",
              "\n",
              "        async function convertToInteractive(key) {\n",
              "          const element = document.querySelector('#df-5f25f80b-c97f-43f8-a95c-bb00b4e4d08a');\n",
              "          const dataTable =\n",
              "            await google.colab.kernel.invokeFunction('convertToInteractive',\n",
              "                                                     [key], {});\n",
              "          if (!dataTable) return;\n",
              "\n",
              "          const docLinkHtml = 'Like what you see? Visit the ' +\n",
              "            '<a target=\"_blank\" href=https://colab.research.google.com/notebooks/data_table.ipynb>data table notebook</a>'\n",
              "            + ' to learn more about interactive tables.';\n",
              "          element.innerHTML = '';\n",
              "          dataTable['output_type'] = 'display_data';\n",
              "          await google.colab.output.renderOutput(dataTable, element);\n",
              "          const docLink = document.createElement('div');\n",
              "          docLink.innerHTML = docLinkHtml;\n",
              "          element.appendChild(docLink);\n",
              "        }\n",
              "      </script>\n",
              "    </div>\n",
              "  </div>\n",
              "  "
            ]
          },
          "metadata": {},
          "execution_count": 3
        }
      ]
    },
    {
      "cell_type": "code",
      "source": [
        "dados.isna().sum()"
      ],
      "metadata": {
        "colab": {
          "base_uri": "https://localhost:8080/"
        },
        "id": "tv-a0T1IwC8C",
        "outputId": "285cd655-20d3-43cf-fe2a-798d0f88f8d1"
      },
      "execution_count": 4,
      "outputs": [
        {
          "output_type": "execute_result",
          "data": {
            "text/plain": [
              "Time      0\n",
              "V1        0\n",
              "V2        0\n",
              "V3        0\n",
              "V4        0\n",
              "V5        0\n",
              "V6        0\n",
              "V7        0\n",
              "V8        0\n",
              "V9        0\n",
              "V10       0\n",
              "V11       0\n",
              "V12       0\n",
              "V13       0\n",
              "V14       0\n",
              "V15       0\n",
              "V16       0\n",
              "V17       0\n",
              "V18       0\n",
              "V19       0\n",
              "V20       0\n",
              "V21       0\n",
              "V22       0\n",
              "V23       0\n",
              "V24       0\n",
              "V25       0\n",
              "V26       0\n",
              "V27       0\n",
              "V28       0\n",
              "Amount    0\n",
              "Class     0\n",
              "dtype: int64"
            ]
          },
          "metadata": {},
          "execution_count": 4
        }
      ]
    },
    {
      "cell_type": "code",
      "source": [
        "n_transacoes = dados['Class'].count()\n",
        "n_fraudes = dados['Class'].sum()\n",
        "n_normais = n_transacoes - n_fraudes\n",
        "fraudes_porcentagem = n_fraudes / n_transacoes\n",
        "normais_porcentagem = n_normais / n_transacoes\n",
        "\n",
        "print(\"Number of transactions\", n_transacoes)\n",
        "print(\"Number of frauds %d, com %.2f%%\" % (n_fraudes, fraudes_porcentagem*100))\n",
        "print(\"Number of normal transactions %d, com %.2f%%\" % (n_normais, normais_porcentagem*100))"
      ],
      "metadata": {
        "colab": {
          "base_uri": "https://localhost:8080/"
        },
        "id": "vVqLp9YLwUGF",
        "outputId": "77fff7e1-5654-4b7f-f252-28672f6eec22"
      },
      "execution_count": 5,
      "outputs": [
        {
          "output_type": "stream",
          "name": "stdout",
          "text": [
            "Number of transactions 284807\n",
            "Number of frauds 492, com 0.17%\n",
            "Number of normal transactions 284315, com 99.83%\n"
          ]
        }
      ]
    },
    {
      "cell_type": "code",
      "source": [
        "X = dados.drop('Class', axis=1).values\n",
        "Y = dados['Class'].values"
      ],
      "metadata": {
        "id": "dMnSz7ytOzu3"
      },
      "execution_count": 6,
      "outputs": []
    },
    {
      "cell_type": "code",
      "source": [
        "import matplotlib.pyplot as plt\n",
        "\n",
        "def save_tree(classifier, name):\n",
        "  plt.figure(figsize=(200, 100))\n",
        "  tree.plot_tree(classifier, filled=True, fontsize=14)\n",
        "  plt.savefig(name)\n",
        "  plt.close()"
      ],
      "metadata": {
        "id": "hMov7G5IJKhb"
      },
      "execution_count": 7,
      "outputs": []
    },
    {
      "cell_type": "code",
      "source": [
        "from sklearn.model_selection import StratifiedShuffleSplit\n",
        "\n",
        "def split_traininig_data(X, Y):\n",
        "  splitter = StratifiedShuffleSplit(n_splits=1, test_size=0.1, random_state=0)\n",
        "  for treino_id, teste_id in splitter.split(X, Y):\n",
        "    X_train, X_test = X[treino_id], X[teste_id]\n",
        "    Y_train, Y_test = Y[treino_id], Y[teste_id]\n",
        "  return X_train, X_test, Y_train, Y_test"
      ],
      "metadata": {
        "id": "d5yi1Yqnw-rK"
      },
      "execution_count": 8,
      "outputs": []
    },
    {
      "cell_type": "code",
      "source": [
        "%%time\n",
        "from sklearn import tree\n",
        "\n",
        "X_train, X_test, Y_train, Y_test = split_traininig_data(X, Y)\n",
        "\n",
        "def classify(classifier, X_train, X_test, Y_train):\n",
        "  decision_tree = classifier.fit(X_train, Y_train)\n",
        "  y_predict = decision_tree.predict(X_test)\n",
        "  return y_predict\n",
        "\n",
        "classifier = tree.DecisionTreeClassifier()\n",
        "y_predict = classify(classifier, X_train, X_test, Y_train)"
      ],
      "metadata": {
        "id": "sZLMtTq6OZ-H",
        "colab": {
          "base_uri": "https://localhost:8080/"
        },
        "outputId": "7f03185b-f62d-4a63-e927-63a9ca5ae18d"
      },
      "execution_count": 9,
      "outputs": [
        {
          "output_type": "stream",
          "name": "stdout",
          "text": [
            "CPU times: user 33.8 s, sys: 89.9 ms, total: 33.9 s\n",
            "Wall time: 37.4 s\n"
          ]
        }
      ]
    },
    {
      "cell_type": "code",
      "source": [
        "save_tree(classifier, \"decision_tree.png\")"
      ],
      "metadata": {
        "id": "zqpWycJxLjfL"
      },
      "execution_count": 10,
      "outputs": []
    },
    {
      "cell_type": "code",
      "source": [
        "from sklearn.metrics import accuracy_score\n",
        "from sklearn.metrics import confusion_matrix\n",
        "from sklearn.metrics import precision_score\n",
        "from sklearn.metrics import recall_score\n",
        "\n",
        "def validate_classification(Y_test, y_predict):\n",
        "  print(\"Accuracy:\", accuracy_score(Y_test, y_predict))\n",
        "  print(\"Precision Score:\", precision_score(Y_test, y_predict))\n",
        "  print(\"Recall Score:\", recall_score(Y_test, y_predict))\n",
        "  print(\"Confusion Matrix:\\n\", confusion_matrix(Y_test, y_predict))\n",
        "\n",
        "validate_classification(Y_test, y_predict)"
      ],
      "metadata": {
        "colab": {
          "base_uri": "https://localhost:8080/"
        },
        "id": "PoraX5HsLvis",
        "outputId": "cf93c6d7-172d-4105-8341-dbe31375a9ed"
      },
      "execution_count": 11,
      "outputs": [
        {
          "output_type": "stream",
          "name": "stdout",
          "text": [
            "Accuracy: 0.9990168884519505\n",
            "Precision Score: 0.7058823529411765\n",
            "Recall Score: 0.7346938775510204\n",
            "Confusion Matrix:\n",
            " [[28417    15]\n",
            " [   13    36]]\n"
          ]
        }
      ]
    },
    {
      "cell_type": "code",
      "source": [
        "print(classifier)\n",
        "print(classifier.get_depth())"
      ],
      "metadata": {
        "colab": {
          "base_uri": "https://localhost:8080/"
        },
        "id": "M7k33fK9VJAw",
        "outputId": "409bd9ad-e1be-414c-ff6f-cdf09fa48846"
      },
      "execution_count": 12,
      "outputs": [
        {
          "output_type": "stream",
          "name": "stdout",
          "text": [
            "DecisionTreeClassifier()\n",
            "21\n"
          ]
        }
      ]
    },
    {
      "cell_type": "code",
      "source": [
        "%%time\n",
        "classifier_decision_tree = tree.DecisionTreeClassifier(max_depth=10, random_state=0)\n",
        "y_predict_decision_tree = classify(classifier_decision_tree, X_train, X_test, Y_train)\n",
        "validate_classification(Y_test, y_predict_decision_tree)"
      ],
      "metadata": {
        "colab": {
          "base_uri": "https://localhost:8080/"
        },
        "id": "2ImvHGUhXB1a",
        "outputId": "ff0f100c-e11e-44aa-fa54-1cb3fa9e4fa7"
      },
      "execution_count": 13,
      "outputs": [
        {
          "output_type": "stream",
          "name": "stdout",
          "text": [
            "Accuracy: 0.9994733330992591\n",
            "Precision Score: 0.9473684210526315\n",
            "Recall Score: 0.7346938775510204\n",
            "Confusion Matrix:\n",
            " [[28430     2]\n",
            " [   13    36]]\n",
            "CPU times: user 19.8 s, sys: 31.3 ms, total: 19.8 s\n",
            "Wall time: 20.2 s\n"
          ]
        }
      ]
    },
    {
      "cell_type": "code",
      "source": [
        "classifier = tree.DecisionTreeClassifier(max_depth=10, random_state=0, min_samples_leaf=10)\n",
        "y_predict = classify(classifier, X_train, X_test, Y_train)\n",
        "validate_classification(Y_test, y_predict)"
      ],
      "metadata": {
        "colab": {
          "base_uri": "https://localhost:8080/"
        },
        "id": "DeeqDTlmXROi",
        "outputId": "9a0d9cef-be30-42de-8d1b-d72804590810"
      },
      "execution_count": 14,
      "outputs": [
        {
          "output_type": "stream",
          "name": "stdout",
          "text": [
            "Accuracy: 0.9993679997191109\n",
            "Precision Score: 0.8604651162790697\n",
            "Recall Score: 0.7551020408163265\n",
            "Confusion Matrix:\n",
            " [[28426     6]\n",
            " [   12    37]]\n"
          ]
        }
      ]
    },
    {
      "cell_type": "code",
      "source": [
        "classifier = tree.DecisionTreeClassifier(max_depth=5, random_state=0)\n",
        "y_predict = classify(classifier, X_train, X_test, Y_train)\n",
        "validate_classification(Y_test, y_predict)"
      ],
      "metadata": {
        "colab": {
          "base_uri": "https://localhost:8080/"
        },
        "id": "At9VdtJrZ-Yz",
        "outputId": "c1915424-0b17-411c-e338-ad3e858e9e89"
      },
      "execution_count": 15,
      "outputs": [
        {
          "output_type": "stream",
          "name": "stdout",
          "text": [
            "Accuracy: 0.999403110845827\n",
            "Precision Score: 0.9210526315789473\n",
            "Recall Score: 0.7142857142857143\n",
            "Confusion Matrix:\n",
            " [[28429     3]\n",
            " [   14    35]]\n"
          ]
        }
      ]
    },
    {
      "cell_type": "code",
      "source": [
        "%%time\n",
        "from sklearn.ensemble import RandomForestClassifier\n",
        "\n",
        "classifier_random_forest = RandomForestClassifier(n_estimators=100, random_state=0)\n",
        "y_predict_random_forest = classify(classifier_random_forest, X_train, X_test, Y_train)\n",
        "validate_classification(Y_test, y_predict_random_forest)"
      ],
      "metadata": {
        "colab": {
          "base_uri": "https://localhost:8080/"
        },
        "id": "sa9jVle8ai-i",
        "outputId": "bd6424f8-f655-42f9-ade8-596d23f58cf9"
      },
      "execution_count": 16,
      "outputs": [
        {
          "output_type": "stream",
          "name": "stdout",
          "text": [
            "Accuracy: 0.9995084442259752\n",
            "Precision Score: 0.9487179487179487\n",
            "Recall Score: 0.7551020408163265\n",
            "Confusion Matrix:\n",
            " [[28430     2]\n",
            " [   12    37]]\n",
            "CPU times: user 5min 50s, sys: 389 ms, total: 5min 51s\n",
            "Wall time: 6min\n"
          ]
        }
      ]
    },
    {
      "cell_type": "code",
      "source": [
        "print(\"Number of trees:\", len(classifier_random_forest.estimators_))\n",
        "save_tree(classifier_random_forest.estimators_[0], \"random_forest_1\")\n",
        "save_tree(classifier_random_forest.estimators_[1], \"random_forest_2\")"
      ],
      "metadata": {
        "colab": {
          "base_uri": "https://localhost:8080/"
        },
        "id": "WvHCUzGBi3K2",
        "outputId": "b43eeecc-21f9-4a23-e228-3a331e52e28f"
      },
      "execution_count": 17,
      "outputs": [
        {
          "output_type": "stream",
          "name": "stdout",
          "text": [
            "Number of trees: 100\n"
          ]
        }
      ]
    },
    {
      "cell_type": "code",
      "source": [
        "%%time\n",
        "classifier_random_forest = RandomForestClassifier(n_estimators=50, random_state=0, max_depth=10)\n",
        "y_predict_random_forest = classify(classifier_random_forest, X_train, X_test, Y_train)\n",
        "validate_classification(Y_test, y_predict_random_forest)"
      ],
      "metadata": {
        "colab": {
          "base_uri": "https://localhost:8080/"
        },
        "id": "yMtVZ7hUjYS1",
        "outputId": "9ed0acd2-1241-4199-db37-b9f14b823864"
      },
      "execution_count": 18,
      "outputs": [
        {
          "output_type": "stream",
          "name": "stdout",
          "text": [
            "Accuracy: 0.9995435553526912\n",
            "Precision Score: 0.9736842105263158\n",
            "Recall Score: 0.7551020408163265\n",
            "Confusion Matrix:\n",
            " [[28431     1]\n",
            " [   12    37]]\n",
            "CPU times: user 1min 40s, sys: 149 ms, total: 1min 41s\n",
            "Wall time: 1min 40s\n"
          ]
        }
      ]
    },
    {
      "cell_type": "code",
      "source": [
        "print(\"Number of trees:\", len(classifier_random_forest.estimators_))\n",
        "save_tree(classifier_random_forest.estimators_[0], \"random_forest_max_depth_10_1\")\n",
        "save_tree(classifier_random_forest.estimators_[1], \"random_forest_max_depth_10_2\")"
      ],
      "metadata": {
        "id": "o1iZfvWImUNp",
        "colab": {
          "base_uri": "https://localhost:8080/"
        },
        "outputId": "9d2d2c92-0d9b-4b40-f11f-5b5a20eadb8d"
      },
      "execution_count": 19,
      "outputs": [
        {
          "output_type": "stream",
          "name": "stdout",
          "text": [
            "Number of trees: 50\n"
          ]
        }
      ]
    },
    {
      "cell_type": "code",
      "source": [
        "%%time\n",
        "from sklearn.ensemble import AdaBoostClassifier\n",
        "\n",
        "adaboost_classifier = AdaBoostClassifier(random_state=0)\n",
        "y_predict_adaboost = classify(adaboost_classifier, X_train, X_test, Y_train)\n",
        "validate_classification(Y_test, y_predict_adaboost)"
      ],
      "metadata": {
        "colab": {
          "base_uri": "https://localhost:8080/"
        },
        "id": "6eFkNba_qRr4",
        "outputId": "7bbc3d18-4588-4175-b2f4-c7954cd00c66"
      },
      "execution_count": 22,
      "outputs": [
        {
          "output_type": "stream",
          "name": "stdout",
          "text": [
            "Accuracy: 0.9992626663389628\n",
            "Precision Score: 0.8888888888888888\n",
            "Recall Score: 0.6530612244897959\n",
            "Confusion Matrix:\n",
            " [[28428     4]\n",
            " [   17    32]]\n",
            "CPU times: user 1min 41s, sys: 165 ms, total: 1min 42s\n",
            "Wall time: 1min 42s\n"
          ]
        }
      ]
    },
    {
      "cell_type": "code",
      "source": [
        "print(\"Number of trees:\", len(adaboost_classifier.estimators_))\n",
        "save_tree(adaboost_classifier.estimators_[0], \"ada_boost_1\")\n",
        "save_tree(adaboost_classifier.estimators_[1], \"ada_boost_2\")"
      ],
      "metadata": {
        "colab": {
          "base_uri": "https://localhost:8080/"
        },
        "id": "UmPRzQzAqk7Y",
        "outputId": "f4f240ee-944e-4488-946b-8f374fd8fff3"
      },
      "execution_count": 23,
      "outputs": [
        {
          "output_type": "stream",
          "name": "stdout",
          "text": [
            "Number of trees: 50\n"
          ]
        }
      ]
    },
    {
      "cell_type": "code",
      "source": [
        "%%time\n",
        "adaboost_classifier = AdaBoostClassifier(random_state=0, n_estimators=100)\n",
        "y_predict_adaboost = classify(adaboost_classifier, X_train, X_test, Y_train)\n",
        "validate_classification(Y_test, y_predict_adaboost)"
      ],
      "metadata": {
        "colab": {
          "base_uri": "https://localhost:8080/"
        },
        "id": "sh-2oIslq1dn",
        "outputId": "2f3cbc1d-59c8-432d-9207-bbf90b591a33"
      },
      "execution_count": 24,
      "outputs": [
        {
          "output_type": "stream",
          "name": "stdout",
          "text": [
            "Accuracy: 0.999403110845827\n",
            "Precision Score: 0.8636363636363636\n",
            "Recall Score: 0.7755102040816326\n",
            "Confusion Matrix:\n",
            " [[28426     6]\n",
            " [   11    38]]\n",
            "CPU times: user 3min 23s, sys: 292 ms, total: 3min 24s\n",
            "Wall time: 3min 23s\n"
          ]
        }
      ]
    },
    {
      "cell_type": "code",
      "source": [
        "%%time\n",
        "adaboost_classifier = AdaBoostClassifier(random_state=0, n_estimators=200)\n",
        "y_predict_adaboost = classify(adaboost_classifier, X_train, X_test, Y_train)\n",
        "validate_classification(Y_test, y_predict_adaboost)"
      ],
      "metadata": {
        "colab": {
          "base_uri": "https://localhost:8080/"
        },
        "id": "8ABkJ-HXrPyW",
        "outputId": "37f9ab0b-c309-40dc-b6bc-978f7ab38b4f"
      },
      "execution_count": 25,
      "outputs": [
        {
          "output_type": "stream",
          "name": "stdout",
          "text": [
            "Accuracy: 0.9995435553526912\n",
            "Precision Score: 0.9285714285714286\n",
            "Recall Score: 0.7959183673469388\n",
            "Confusion Matrix:\n",
            " [[28429     3]\n",
            " [   10    39]]\n",
            "CPU times: user 6min 47s, sys: 558 ms, total: 6min 47s\n",
            "Wall time: 6min 47s\n"
          ]
        }
      ]
    }
  ]
}